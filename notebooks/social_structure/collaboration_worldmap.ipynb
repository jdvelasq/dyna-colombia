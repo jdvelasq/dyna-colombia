{
 "cells": [
  {
   "cell_type": "markdown",
   "id": "39a2569d-120d-4eb5-b623-725c01af51f1",
   "metadata": {},
   "source": [
    "Mapa de colaboraciones\n",
    "==="
   ]
  },
  {
   "cell_type": "code",
   "execution_count": 2,
   "id": "fb146ed5-30c6-4fa7-a65a-f359c5bac117",
   "metadata": {},
   "outputs": [
    {
     "data": {
      "application/vnd.plotly.v1+json": {
       "config": {
        "plotlyServerURL": "https://plot.ly"
       },
       "data": [
        {
         "geo": "geo",
         "hovertemplate": "line=0<br>pair=%{location}<extra></extra>",
         "legendgroup": "0",
         "line": {
          "color": "darkslategray",
          "dash": "solid"
         },
         "locationmode": "country names",
         "locations": [
          "Colombia",
          "Spain"
         ],
         "marker": {
          "symbol": "circle"
         },
         "mode": "lines",
         "name": "0",
         "showlegend": true,
         "type": "scattergeo"
        },
        {
         "geo": "geo",
         "hovertemplate": "line=1<br>pair=%{location}<extra></extra>",
         "legendgroup": "1",
         "line": {
          "color": "darkslategray",
          "dash": "solid"
         },
         "locationmode": "country names",
         "locations": [
          "Colombia",
          "Brazil"
         ],
         "marker": {
          "symbol": "circle"
         },
         "mode": "lines",
         "name": "1",
         "showlegend": true,
         "type": "scattergeo"
        },
        {
         "geo": "geo",
         "hovertemplate": "line=2<br>pair=%{location}<extra></extra>",
         "legendgroup": "2",
         "line": {
          "color": "darkslategray",
          "dash": "solid"
         },
         "locationmode": "country names",
         "locations": [
          "Colombia",
          "Mexico"
         ],
         "marker": {
          "symbol": "circle"
         },
         "mode": "lines",
         "name": "2",
         "showlegend": true,
         "type": "scattergeo"
        },
        {
         "geo": "geo",
         "hovertemplate": "line=3<br>pair=%{location}<extra></extra>",
         "legendgroup": "3",
         "line": {
          "color": "darkslategray",
          "dash": "solid"
         },
         "locationmode": "country names",
         "locations": [
          "Colombia",
          "Cuba"
         ],
         "marker": {
          "symbol": "circle"
         },
         "mode": "lines",
         "name": "3",
         "showlegend": true,
         "type": "scattergeo"
        },
        {
         "geo": "geo",
         "hovertemplate": "line=4<br>pair=%{location}<extra></extra>",
         "legendgroup": "4",
         "line": {
          "color": "darkslategray",
          "dash": "solid"
         },
         "locationmode": "country names",
         "locations": [
          "Colombia",
          "Chile"
         ],
         "marker": {
          "symbol": "circle"
         },
         "mode": "lines",
         "name": "4",
         "showlegend": true,
         "type": "scattergeo"
        },
        {
         "geo": "geo",
         "hovertemplate": "line=5<br>pair=%{location}<extra></extra>",
         "legendgroup": "5",
         "line": {
          "color": "darkslategray",
          "dash": "solid"
         },
         "locationmode": "country names",
         "locations": [
          "Colombia",
          "United States"
         ],
         "marker": {
          "symbol": "circle"
         },
         "mode": "lines",
         "name": "5",
         "showlegend": true,
         "type": "scattergeo"
        },
        {
         "geo": "geo",
         "hovertemplate": "line=6<br>pair=%{location}<extra></extra>",
         "legendgroup": "6",
         "line": {
          "color": "darkslategray",
          "dash": "solid"
         },
         "locationmode": "country names",
         "locations": [
          "Colombia",
          "Argentina"
         ],
         "marker": {
          "symbol": "circle"
         },
         "mode": "lines",
         "name": "6",
         "showlegend": true,
         "type": "scattergeo"
        },
        {
         "geo": "geo",
         "hovertemplate": "line=7<br>pair=%{location}<extra></extra>",
         "legendgroup": "7",
         "line": {
          "color": "darkslategray",
          "dash": "solid"
         },
         "locationmode": "country names",
         "locations": [
          "Colombia",
          "Ecuador"
         ],
         "marker": {
          "symbol": "circle"
         },
         "mode": "lines",
         "name": "7",
         "showlegend": true,
         "type": "scattergeo"
        },
        {
         "geo": "geo",
         "hovertemplate": "line=8<br>pair=%{location}<extra></extra>",
         "legendgroup": "8",
         "line": {
          "color": "darkslategray",
          "dash": "solid"
         },
         "locationmode": "country names",
         "locations": [
          "Colombia",
          "Portugal"
         ],
         "marker": {
          "symbol": "circle"
         },
         "mode": "lines",
         "name": "8",
         "showlegend": true,
         "type": "scattergeo"
        },
        {
         "geo": "geo",
         "hovertemplate": "line=9<br>pair=%{location}<extra></extra>",
         "legendgroup": "9",
         "line": {
          "color": "darkslategray",
          "dash": "solid"
         },
         "locationmode": "country names",
         "locations": [
          "Colombia",
          "Venezuela"
         ],
         "marker": {
          "symbol": "circle"
         },
         "mode": "lines",
         "name": "9",
         "showlegend": true,
         "type": "scattergeo"
        },
        {
         "geo": "geo",
         "hovertemplate": "line=10<br>pair=%{location}<extra></extra>",
         "legendgroup": "10",
         "line": {
          "color": "darkslategray",
          "dash": "solid"
         },
         "locationmode": "country names",
         "locations": [
          "Colombia",
          "United Kingdom"
         ],
         "marker": {
          "symbol": "circle"
         },
         "mode": "lines",
         "name": "10",
         "showlegend": true,
         "type": "scattergeo"
        },
        {
         "geo": "geo",
         "hovertemplate": "line=11<br>pair=%{location}<extra></extra>",
         "legendgroup": "11",
         "line": {
          "color": "darkslategray",
          "dash": "solid"
         },
         "locationmode": "country names",
         "locations": [
          "Colombia",
          "France"
         ],
         "marker": {
          "symbol": "circle"
         },
         "mode": "lines",
         "name": "11",
         "showlegend": true,
         "type": "scattergeo"
        },
        {
         "geo": "geo",
         "hovertemplate": "line=12<br>pair=%{location}<extra></extra>",
         "legendgroup": "12",
         "line": {
          "color": "darkslategray",
          "dash": "solid"
         },
         "locationmode": "country names",
         "locations": [
          "Colombia",
          "[UKN]"
         ],
         "marker": {
          "symbol": "circle"
         },
         "mode": "lines",
         "name": "12",
         "showlegend": true,
         "type": "scattergeo"
        },
        {
         "geo": "geo",
         "hovertemplate": "line=13<br>pair=%{location}<extra></extra>",
         "legendgroup": "13",
         "line": {
          "color": "darkslategray",
          "dash": "solid"
         },
         "locationmode": "country names",
         "locations": [
          "Colombia",
          "Belgium"
         ],
         "marker": {
          "symbol": "circle"
         },
         "mode": "lines",
         "name": "13",
         "showlegend": true,
         "type": "scattergeo"
        },
        {
         "geo": "geo",
         "hovertemplate": "line=14<br>pair=%{location}<extra></extra>",
         "legendgroup": "14",
         "line": {
          "color": "darkslategray",
          "dash": "solid"
         },
         "locationmode": "country names",
         "locations": [
          "Colombia",
          "Italy"
         ],
         "marker": {
          "symbol": "circle"
         },
         "mode": "lines",
         "name": "14",
         "showlegend": true,
         "type": "scattergeo"
        },
        {
         "geo": "geo",
         "hovertemplate": "line=15<br>pair=%{location}<extra></extra>",
         "legendgroup": "15",
         "line": {
          "color": "darkslategray",
          "dash": "solid"
         },
         "locationmode": "country names",
         "locations": [
          "Colombia",
          "Switzerland"
         ],
         "marker": {
          "symbol": "circle"
         },
         "mode": "lines",
         "name": "15",
         "showlegend": true,
         "type": "scattergeo"
        },
        {
         "geo": "geo",
         "hovertemplate": "line=16<br>pair=%{location}<extra></extra>",
         "legendgroup": "16",
         "line": {
          "color": "darkslategray",
          "dash": "solid"
         },
         "locationmode": "country names",
         "locations": [
          "Colombia",
          "Germany"
         ],
         "marker": {
          "symbol": "circle"
         },
         "mode": "lines",
         "name": "16",
         "showlegend": true,
         "type": "scattergeo"
        },
        {
         "geo": "geo",
         "hovertemplate": "line=17<br>pair=%{location}<extra></extra>",
         "legendgroup": "17",
         "line": {
          "color": "darkslategray",
          "dash": "solid"
         },
         "locationmode": "country names",
         "locations": [
          "Colombia",
          "Canada"
         ],
         "marker": {
          "symbol": "circle"
         },
         "mode": "lines",
         "name": "17",
         "showlegend": true,
         "type": "scattergeo"
        },
        {
         "geo": "geo",
         "hovertemplate": "line=18<br>pair=%{location}<extra></extra>",
         "legendgroup": "18",
         "line": {
          "color": "darkslategray",
          "dash": "solid"
         },
         "locationmode": "country names",
         "locations": [
          "Colombia",
          "Netherlands"
         ],
         "marker": {
          "symbol": "circle"
         },
         "mode": "lines",
         "name": "18",
         "showlegend": true,
         "type": "scattergeo"
        },
        {
         "geo": "geo",
         "hovertemplate": "line=19<br>pair=%{location}<extra></extra>",
         "legendgroup": "19",
         "line": {
          "color": "darkslategray",
          "dash": "solid"
         },
         "locationmode": "country names",
         "locations": [
          "Colombia",
          "Australia"
         ],
         "marker": {
          "symbol": "circle"
         },
         "mode": "lines",
         "name": "19",
         "showlegend": true,
         "type": "scattergeo"
        },
        {
         "geo": "geo",
         "hovertemplate": "line=20<br>pair=%{location}<extra></extra>",
         "legendgroup": "20",
         "line": {
          "color": "darkslategray",
          "dash": "solid"
         },
         "locationmode": "country names",
         "locations": [
          "Colombia",
          "Sweden"
         ],
         "marker": {
          "symbol": "circle"
         },
         "mode": "lines",
         "name": "20",
         "showlegend": true,
         "type": "scattergeo"
        },
        {
         "geo": "geo",
         "hovertemplate": "line=21<br>pair=%{location}<extra></extra>",
         "legendgroup": "21",
         "line": {
          "color": "darkslategray",
          "dash": "solid"
         },
         "locationmode": "country names",
         "locations": [
          "Colombia",
          "India"
         ],
         "marker": {
          "symbol": "circle"
         },
         "mode": "lines",
         "name": "21",
         "showlegend": true,
         "type": "scattergeo"
        },
        {
         "geo": "geo",
         "hovertemplate": "line=22<br>pair=%{location}<extra></extra>",
         "legendgroup": "22",
         "line": {
          "color": "darkslategray",
          "dash": "solid"
         },
         "locationmode": "country names",
         "locations": [
          "Colombia",
          "Puerto Rico"
         ],
         "marker": {
          "symbol": "circle"
         },
         "mode": "lines",
         "name": "22",
         "showlegend": true,
         "type": "scattergeo"
        },
        {
         "geo": "geo",
         "hovertemplate": "line=23<br>pair=%{location}<extra></extra>",
         "legendgroup": "23",
         "line": {
          "color": "darkslategray",
          "dash": "solid"
         },
         "locationmode": "country names",
         "locations": [
          "Colombia",
          "Uruguay"
         ],
         "marker": {
          "symbol": "circle"
         },
         "mode": "lines",
         "name": "23",
         "showlegend": true,
         "type": "scattergeo"
        },
        {
         "geo": "geo",
         "hovertemplate": "line=24<br>pair=%{location}<extra></extra>",
         "legendgroup": "24",
         "line": {
          "color": "darkslategray",
          "dash": "solid"
         },
         "locationmode": "country names",
         "locations": [
          "Colombia",
          "Hungary"
         ],
         "marker": {
          "symbol": "circle"
         },
         "mode": "lines",
         "name": "24",
         "showlegend": true,
         "type": "scattergeo"
        },
        {
         "geo": "geo",
         "hovertemplate": "line=25<br>pair=%{location}<extra></extra>",
         "legendgroup": "25",
         "line": {
          "color": "darkslategray",
          "dash": "solid"
         },
         "locationmode": "country names",
         "locations": [
          "Colombia",
          "Armenia"
         ],
         "marker": {
          "symbol": "circle"
         },
         "mode": "lines",
         "name": "25",
         "showlegend": true,
         "type": "scattergeo"
        },
        {
         "geo": "geo",
         "hovertemplate": "line=26<br>pair=%{location}<extra></extra>",
         "legendgroup": "26",
         "line": {
          "color": "darkslategray",
          "dash": "solid"
         },
         "locationmode": "country names",
         "locations": [
          "Colombia",
          "Costa Rica"
         ],
         "marker": {
          "symbol": "circle"
         },
         "mode": "lines",
         "name": "26",
         "showlegend": true,
         "type": "scattergeo"
        },
        {
         "geo": "geo",
         "hovertemplate": "line=27<br>pair=%{location}<extra></extra>",
         "legendgroup": "27",
         "line": {
          "color": "darkslategray",
          "dash": "solid"
         },
         "locationmode": "country names",
         "locations": [
          "Colombia",
          "Ireland"
         ],
         "marker": {
          "symbol": "circle"
         },
         "mode": "lines",
         "name": "27",
         "showlegend": true,
         "type": "scattergeo"
        },
        {
         "geo": "geo",
         "hovertemplate": "line=28<br>pair=%{location}<extra></extra>",
         "legendgroup": "28",
         "line": {
          "color": "darkslategray",
          "dash": "solid"
         },
         "locationmode": "country names",
         "locations": [
          "Colombia",
          "United Arab Emirates"
         ],
         "marker": {
          "symbol": "circle"
         },
         "mode": "lines",
         "name": "28",
         "showlegend": true,
         "type": "scattergeo"
        },
        {
         "geo": "geo",
         "hovertemplate": "line=29<br>pair=%{location}<extra></extra>",
         "legendgroup": "29",
         "line": {
          "color": "darkslategray",
          "dash": "solid"
         },
         "locationmode": "country names",
         "locations": [
          "Spain",
          "Colombia"
         ],
         "marker": {
          "symbol": "circle"
         },
         "mode": "lines",
         "name": "29",
         "showlegend": true,
         "type": "scattergeo"
        },
        {
         "geo": "geo",
         "hovertemplate": "line=30<br>pair=%{location}<extra></extra>",
         "legendgroup": "30",
         "line": {
          "color": "darkslategray",
          "dash": "solid"
         },
         "locationmode": "country names",
         "locations": [
          "Spain",
          "Brazil"
         ],
         "marker": {
          "symbol": "circle"
         },
         "mode": "lines",
         "name": "30",
         "showlegend": true,
         "type": "scattergeo"
        },
        {
         "geo": "geo",
         "hovertemplate": "line=31<br>pair=%{location}<extra></extra>",
         "legendgroup": "31",
         "line": {
          "color": "darkslategray",
          "dash": "solid"
         },
         "locationmode": "country names",
         "locations": [
          "Spain",
          "Mexico"
         ],
         "marker": {
          "symbol": "circle"
         },
         "mode": "lines",
         "name": "31",
         "showlegend": true,
         "type": "scattergeo"
        },
        {
         "geo": "geo",
         "hovertemplate": "line=32<br>pair=%{location}<extra></extra>",
         "legendgroup": "32",
         "line": {
          "color": "darkslategray",
          "dash": "solid"
         },
         "locationmode": "country names",
         "locations": [
          "Spain",
          "Cuba"
         ],
         "marker": {
          "symbol": "circle"
         },
         "mode": "lines",
         "name": "32",
         "showlegend": true,
         "type": "scattergeo"
        },
        {
         "geo": "geo",
         "hovertemplate": "line=33<br>pair=%{location}<extra></extra>",
         "legendgroup": "33",
         "line": {
          "color": "darkslategray",
          "dash": "solid"
         },
         "locationmode": "country names",
         "locations": [
          "Spain",
          "Chile"
         ],
         "marker": {
          "symbol": "circle"
         },
         "mode": "lines",
         "name": "33",
         "showlegend": true,
         "type": "scattergeo"
        },
        {
         "geo": "geo",
         "hovertemplate": "line=34<br>pair=%{location}<extra></extra>",
         "legendgroup": "34",
         "line": {
          "color": "darkslategray",
          "dash": "solid"
         },
         "locationmode": "country names",
         "locations": [
          "Spain",
          "United States"
         ],
         "marker": {
          "symbol": "circle"
         },
         "mode": "lines",
         "name": "34",
         "showlegend": true,
         "type": "scattergeo"
        },
        {
         "geo": "geo",
         "hovertemplate": "line=35<br>pair=%{location}<extra></extra>",
         "legendgroup": "35",
         "line": {
          "color": "darkslategray",
          "dash": "solid"
         },
         "locationmode": "country names",
         "locations": [
          "Spain",
          "Argentina"
         ],
         "marker": {
          "symbol": "circle"
         },
         "mode": "lines",
         "name": "35",
         "showlegend": true,
         "type": "scattergeo"
        },
        {
         "geo": "geo",
         "hovertemplate": "line=36<br>pair=%{location}<extra></extra>",
         "legendgroup": "36",
         "line": {
          "color": "darkslategray",
          "dash": "solid"
         },
         "locationmode": "country names",
         "locations": [
          "Spain",
          "Ecuador"
         ],
         "marker": {
          "symbol": "circle"
         },
         "mode": "lines",
         "name": "36",
         "showlegend": true,
         "type": "scattergeo"
        },
        {
         "geo": "geo",
         "hovertemplate": "line=37<br>pair=%{location}<extra></extra>",
         "legendgroup": "37",
         "line": {
          "color": "darkslategray",
          "dash": "solid"
         },
         "locationmode": "country names",
         "locations": [
          "Spain",
          "Portugal"
         ],
         "marker": {
          "symbol": "circle"
         },
         "mode": "lines",
         "name": "37",
         "showlegend": true,
         "type": "scattergeo"
        },
        {
         "geo": "geo",
         "hovertemplate": "line=38<br>pair=%{location}<extra></extra>",
         "legendgroup": "38",
         "line": {
          "color": "darkslategray",
          "dash": "solid"
         },
         "locationmode": "country names",
         "locations": [
          "Spain",
          "Venezuela"
         ],
         "marker": {
          "symbol": "circle"
         },
         "mode": "lines",
         "name": "38",
         "showlegend": true,
         "type": "scattergeo"
        },
        {
         "geo": "geo",
         "hovertemplate": "line=39<br>pair=%{location}<extra></extra>",
         "legendgroup": "39",
         "line": {
          "color": "darkslategray",
          "dash": "solid"
         },
         "locationmode": "country names",
         "locations": [
          "Spain",
          "Peru"
         ],
         "marker": {
          "symbol": "circle"
         },
         "mode": "lines",
         "name": "39",
         "showlegend": true,
         "type": "scattergeo"
        },
        {
         "geo": "geo",
         "hovertemplate": "line=40<br>pair=%{location}<extra></extra>",
         "legendgroup": "40",
         "line": {
          "color": "darkslategray",
          "dash": "solid"
         },
         "locationmode": "country names",
         "locations": [
          "Spain",
          "United Kingdom"
         ],
         "marker": {
          "symbol": "circle"
         },
         "mode": "lines",
         "name": "40",
         "showlegend": true,
         "type": "scattergeo"
        },
        {
         "geo": "geo",
         "hovertemplate": "line=41<br>pair=%{location}<extra></extra>",
         "legendgroup": "41",
         "line": {
          "color": "darkslategray",
          "dash": "solid"
         },
         "locationmode": "country names",
         "locations": [
          "Spain",
          "France"
         ],
         "marker": {
          "symbol": "circle"
         },
         "mode": "lines",
         "name": "41",
         "showlegend": true,
         "type": "scattergeo"
        },
        {
         "geo": "geo",
         "hovertemplate": "line=42<br>pair=%{location}<extra></extra>",
         "legendgroup": "42",
         "line": {
          "color": "darkslategray",
          "dash": "solid"
         },
         "locationmode": "country names",
         "locations": [
          "Spain",
          "[UKN]"
         ],
         "marker": {
          "symbol": "circle"
         },
         "mode": "lines",
         "name": "42",
         "showlegend": true,
         "type": "scattergeo"
        },
        {
         "geo": "geo",
         "hovertemplate": "line=43<br>pair=%{location}<extra></extra>",
         "legendgroup": "43",
         "line": {
          "color": "darkslategray",
          "dash": "solid"
         },
         "locationmode": "country names",
         "locations": [
          "Spain",
          "Italy"
         ],
         "marker": {
          "symbol": "circle"
         },
         "mode": "lines",
         "name": "43",
         "showlegend": true,
         "type": "scattergeo"
        },
        {
         "geo": "geo",
         "hovertemplate": "line=44<br>pair=%{location}<extra></extra>",
         "legendgroup": "44",
         "line": {
          "color": "darkslategray",
          "dash": "solid"
         },
         "locationmode": "country names",
         "locations": [
          "Spain",
          "Switzerland"
         ],
         "marker": {
          "symbol": "circle"
         },
         "mode": "lines",
         "name": "44",
         "showlegend": true,
         "type": "scattergeo"
        },
        {
         "geo": "geo",
         "hovertemplate": "line=45<br>pair=%{location}<extra></extra>",
         "legendgroup": "45",
         "line": {
          "color": "darkslategray",
          "dash": "solid"
         },
         "locationmode": "country names",
         "locations": [
          "Spain",
          "Poland"
         ],
         "marker": {
          "symbol": "circle"
         },
         "mode": "lines",
         "name": "45",
         "showlegend": true,
         "type": "scattergeo"
        },
        {
         "geo": "geo",
         "hovertemplate": "line=46<br>pair=%{location}<extra></extra>",
         "legendgroup": "46",
         "line": {
          "color": "darkslategray",
          "dash": "solid"
         },
         "locationmode": "country names",
         "locations": [
          "Spain",
          "Sweden"
         ],
         "marker": {
          "symbol": "circle"
         },
         "mode": "lines",
         "name": "46",
         "showlegend": true,
         "type": "scattergeo"
        },
        {
         "geo": "geo",
         "hovertemplate": "line=47<br>pair=%{location}<extra></extra>",
         "legendgroup": "47",
         "line": {
          "color": "darkslategray",
          "dash": "solid"
         },
         "locationmode": "country names",
         "locations": [
          "Spain",
          "India"
         ],
         "marker": {
          "symbol": "circle"
         },
         "mode": "lines",
         "name": "47",
         "showlegend": true,
         "type": "scattergeo"
        },
        {
         "geo": "geo",
         "hovertemplate": "line=48<br>pair=%{location}<extra></extra>",
         "legendgroup": "48",
         "line": {
          "color": "darkslategray",
          "dash": "solid"
         },
         "locationmode": "country names",
         "locations": [
          "Spain",
          "Honduras"
         ],
         "marker": {
          "symbol": "circle"
         },
         "mode": "lines",
         "name": "48",
         "showlegend": true,
         "type": "scattergeo"
        },
        {
         "geo": "geo",
         "hovertemplate": "line=49<br>pair=%{location}<extra></extra>",
         "legendgroup": "49",
         "line": {
          "color": "darkslategray",
          "dash": "solid"
         },
         "locationmode": "country names",
         "locations": [
          "Brazil",
          "Colombia"
         ],
         "marker": {
          "symbol": "circle"
         },
         "mode": "lines",
         "name": "49",
         "showlegend": true,
         "type": "scattergeo"
        },
        {
         "geo": "geo",
         "hovertemplate": "line=50<br>pair=%{location}<extra></extra>",
         "legendgroup": "50",
         "line": {
          "color": "darkslategray",
          "dash": "solid"
         },
         "locationmode": "country names",
         "locations": [
          "Brazil",
          "Spain"
         ],
         "marker": {
          "symbol": "circle"
         },
         "mode": "lines",
         "name": "50",
         "showlegend": true,
         "type": "scattergeo"
        },
        {
         "geo": "geo",
         "hovertemplate": "line=51<br>pair=%{location}<extra></extra>",
         "legendgroup": "51",
         "line": {
          "color": "darkslategray",
          "dash": "solid"
         },
         "locationmode": "country names",
         "locations": [
          "Brazil",
          "Mexico"
         ],
         "marker": {
          "symbol": "circle"
         },
         "mode": "lines",
         "name": "51",
         "showlegend": true,
         "type": "scattergeo"
        },
        {
         "geo": "geo",
         "hovertemplate": "line=52<br>pair=%{location}<extra></extra>",
         "legendgroup": "52",
         "line": {
          "color": "darkslategray",
          "dash": "solid"
         },
         "locationmode": "country names",
         "locations": [
          "Brazil",
          "Cuba"
         ],
         "marker": {
          "symbol": "circle"
         },
         "mode": "lines",
         "name": "52",
         "showlegend": true,
         "type": "scattergeo"
        },
        {
         "geo": "geo",
         "hovertemplate": "line=53<br>pair=%{location}<extra></extra>",
         "legendgroup": "53",
         "line": {
          "color": "darkslategray",
          "dash": "solid"
         },
         "locationmode": "country names",
         "locations": [
          "Brazil",
          "United States"
         ],
         "marker": {
          "symbol": "circle"
         },
         "mode": "lines",
         "name": "53",
         "showlegend": true,
         "type": "scattergeo"
        },
        {
         "geo": "geo",
         "hovertemplate": "line=54<br>pair=%{location}<extra></extra>",
         "legendgroup": "54",
         "line": {
          "color": "darkslategray",
          "dash": "solid"
         },
         "locationmode": "country names",
         "locations": [
          "Brazil",
          "Ecuador"
         ],
         "marker": {
          "symbol": "circle"
         },
         "mode": "lines",
         "name": "54",
         "showlegend": true,
         "type": "scattergeo"
        },
        {
         "geo": "geo",
         "hovertemplate": "line=55<br>pair=%{location}<extra></extra>",
         "legendgroup": "55",
         "line": {
          "color": "darkslategray",
          "dash": "solid"
         },
         "locationmode": "country names",
         "locations": [
          "Brazil",
          "Portugal"
         ],
         "marker": {
          "symbol": "circle"
         },
         "mode": "lines",
         "name": "55",
         "showlegend": true,
         "type": "scattergeo"
        },
        {
         "geo": "geo",
         "hovertemplate": "line=56<br>pair=%{location}<extra></extra>",
         "legendgroup": "56",
         "line": {
          "color": "darkslategray",
          "dash": "solid"
         },
         "locationmode": "country names",
         "locations": [
          "Brazil",
          "Venezuela"
         ],
         "marker": {
          "symbol": "circle"
         },
         "mode": "lines",
         "name": "56",
         "showlegend": true,
         "type": "scattergeo"
        },
        {
         "geo": "geo",
         "hovertemplate": "line=57<br>pair=%{location}<extra></extra>",
         "legendgroup": "57",
         "line": {
          "color": "darkslategray",
          "dash": "solid"
         },
         "locationmode": "country names",
         "locations": [
          "Brazil",
          "Peru"
         ],
         "marker": {
          "symbol": "circle"
         },
         "mode": "lines",
         "name": "57",
         "showlegend": true,
         "type": "scattergeo"
        },
        {
         "geo": "geo",
         "hovertemplate": "line=58<br>pair=%{location}<extra></extra>",
         "legendgroup": "58",
         "line": {
          "color": "darkslategray",
          "dash": "solid"
         },
         "locationmode": "country names",
         "locations": [
          "Brazil",
          "France"
         ],
         "marker": {
          "symbol": "circle"
         },
         "mode": "lines",
         "name": "58",
         "showlegend": true,
         "type": "scattergeo"
        },
        {
         "geo": "geo",
         "hovertemplate": "line=59<br>pair=%{location}<extra></extra>",
         "legendgroup": "59",
         "line": {
          "color": "darkslategray",
          "dash": "solid"
         },
         "locationmode": "country names",
         "locations": [
          "Brazil",
          "Germany"
         ],
         "marker": {
          "symbol": "circle"
         },
         "mode": "lines",
         "name": "59",
         "showlegend": true,
         "type": "scattergeo"
        },
        {
         "geo": "geo",
         "hovertemplate": "line=60<br>pair=%{location}<extra></extra>",
         "legendgroup": "60",
         "line": {
          "color": "darkslategray",
          "dash": "solid"
         },
         "locationmode": "country names",
         "locations": [
          "Brazil",
          "Canada"
         ],
         "marker": {
          "symbol": "circle"
         },
         "mode": "lines",
         "name": "60",
         "showlegend": true,
         "type": "scattergeo"
        },
        {
         "geo": "geo",
         "hovertemplate": "line=61<br>pair=%{location}<extra></extra>",
         "legendgroup": "61",
         "line": {
          "color": "darkslategray",
          "dash": "solid"
         },
         "locationmode": "country names",
         "locations": [
          "Brazil",
          "Netherlands"
         ],
         "marker": {
          "symbol": "circle"
         },
         "mode": "lines",
         "name": "61",
         "showlegend": true,
         "type": "scattergeo"
        },
        {
         "geo": "geo",
         "hovertemplate": "line=62<br>pair=%{location}<extra></extra>",
         "legendgroup": "62",
         "line": {
          "color": "darkslategray",
          "dash": "solid"
         },
         "locationmode": "country names",
         "locations": [
          "Brazil",
          "China"
         ],
         "marker": {
          "symbol": "circle"
         },
         "mode": "lines",
         "name": "62",
         "showlegend": true,
         "type": "scattergeo"
        },
        {
         "geo": "geo",
         "hovertemplate": "line=63<br>pair=%{location}<extra></extra>",
         "legendgroup": "63",
         "line": {
          "color": "darkslategray",
          "dash": "solid"
         },
         "locationmode": "country names",
         "locations": [
          "Brazil",
          "Bolivia"
         ],
         "marker": {
          "symbol": "circle"
         },
         "mode": "lines",
         "name": "63",
         "showlegend": true,
         "type": "scattergeo"
        },
        {
         "geo": "geo",
         "hovertemplate": "line=64<br>pair=%{location}<extra></extra>",
         "legendgroup": "64",
         "line": {
          "color": "darkslategray",
          "dash": "solid"
         },
         "locationmode": "country names",
         "locations": [
          "Brazil",
          "Japan"
         ],
         "marker": {
          "symbol": "circle"
         },
         "mode": "lines",
         "name": "64",
         "showlegend": true,
         "type": "scattergeo"
        },
        {
         "geo": "geo",
         "hovertemplate": "line=65<br>pair=%{location}<extra></extra>",
         "legendgroup": "65",
         "line": {
          "color": "darkslategray",
          "dash": "solid"
         },
         "locationmode": "country names",
         "locations": [
          "Mexico",
          "Colombia"
         ],
         "marker": {
          "symbol": "circle"
         },
         "mode": "lines",
         "name": "65",
         "showlegend": true,
         "type": "scattergeo"
        },
        {
         "geo": "geo",
         "hovertemplate": "line=66<br>pair=%{location}<extra></extra>",
         "legendgroup": "66",
         "line": {
          "color": "darkslategray",
          "dash": "solid"
         },
         "locationmode": "country names",
         "locations": [
          "Mexico",
          "Spain"
         ],
         "marker": {
          "symbol": "circle"
         },
         "mode": "lines",
         "name": "66",
         "showlegend": true,
         "type": "scattergeo"
        },
        {
         "geo": "geo",
         "hovertemplate": "line=67<br>pair=%{location}<extra></extra>",
         "legendgroup": "67",
         "line": {
          "color": "darkslategray",
          "dash": "solid"
         },
         "locationmode": "country names",
         "locations": [
          "Mexico",
          "Brazil"
         ],
         "marker": {
          "symbol": "circle"
         },
         "mode": "lines",
         "name": "67",
         "showlegend": true,
         "type": "scattergeo"
        },
        {
         "geo": "geo",
         "hovertemplate": "line=68<br>pair=%{location}<extra></extra>",
         "legendgroup": "68",
         "line": {
          "color": "darkslategray",
          "dash": "solid"
         },
         "locationmode": "country names",
         "locations": [
          "Mexico",
          "Cuba"
         ],
         "marker": {
          "symbol": "circle"
         },
         "mode": "lines",
         "name": "68",
         "showlegend": true,
         "type": "scattergeo"
        },
        {
         "geo": "geo",
         "hovertemplate": "line=69<br>pair=%{location}<extra></extra>",
         "legendgroup": "69",
         "line": {
          "color": "darkslategray",
          "dash": "solid"
         },
         "locationmode": "country names",
         "locations": [
          "Mexico",
          "Chile"
         ],
         "marker": {
          "symbol": "circle"
         },
         "mode": "lines",
         "name": "69",
         "showlegend": true,
         "type": "scattergeo"
        },
        {
         "geo": "geo",
         "hovertemplate": "line=70<br>pair=%{location}<extra></extra>",
         "legendgroup": "70",
         "line": {
          "color": "darkslategray",
          "dash": "solid"
         },
         "locationmode": "country names",
         "locations": [
          "Mexico",
          "United States"
         ],
         "marker": {
          "symbol": "circle"
         },
         "mode": "lines",
         "name": "70",
         "showlegend": true,
         "type": "scattergeo"
        },
        {
         "geo": "geo",
         "hovertemplate": "line=71<br>pair=%{location}<extra></extra>",
         "legendgroup": "71",
         "line": {
          "color": "darkslategray",
          "dash": "solid"
         },
         "locationmode": "country names",
         "locations": [
          "Mexico",
          "Ecuador"
         ],
         "marker": {
          "symbol": "circle"
         },
         "mode": "lines",
         "name": "71",
         "showlegend": true,
         "type": "scattergeo"
        },
        {
         "geo": "geo",
         "hovertemplate": "line=72<br>pair=%{location}<extra></extra>",
         "legendgroup": "72",
         "line": {
          "color": "darkslategray",
          "dash": "solid"
         },
         "locationmode": "country names",
         "locations": [
          "Mexico",
          "France"
         ],
         "marker": {
          "symbol": "circle"
         },
         "mode": "lines",
         "name": "72",
         "showlegend": true,
         "type": "scattergeo"
        },
        {
         "geo": "geo",
         "hovertemplate": "line=73<br>pair=%{location}<extra></extra>",
         "legendgroup": "73",
         "line": {
          "color": "darkslategray",
          "dash": "solid"
         },
         "locationmode": "country names",
         "locations": [
          "Mexico",
          "Italy"
         ],
         "marker": {
          "symbol": "circle"
         },
         "mode": "lines",
         "name": "73",
         "showlegend": true,
         "type": "scattergeo"
        },
        {
         "geo": "geo",
         "hovertemplate": "line=74<br>pair=%{location}<extra></extra>",
         "legendgroup": "74",
         "line": {
          "color": "darkslategray",
          "dash": "solid"
         },
         "locationmode": "country names",
         "locations": [
          "Mexico",
          "Russia"
         ],
         "marker": {
          "symbol": "circle"
         },
         "mode": "lines",
         "name": "74",
         "showlegend": true,
         "type": "scattergeo"
        },
        {
         "geo": "geo",
         "hovertemplate": "line=75<br>pair=%{location}<extra></extra>",
         "legendgroup": "75",
         "line": {
          "color": "darkslategray",
          "dash": "solid"
         },
         "locationmode": "country names",
         "locations": [
          "Mexico",
          "Canada"
         ],
         "marker": {
          "symbol": "circle"
         },
         "mode": "lines",
         "name": "75",
         "showlegend": true,
         "type": "scattergeo"
        },
        {
         "geo": "geo",
         "hovertemplate": "line=76<br>pair=%{location}<extra></extra>",
         "legendgroup": "76",
         "line": {
          "color": "darkslategray",
          "dash": "solid"
         },
         "locationmode": "country names",
         "locations": [
          "Mexico",
          "India"
         ],
         "marker": {
          "symbol": "circle"
         },
         "mode": "lines",
         "name": "76",
         "showlegend": true,
         "type": "scattergeo"
        },
        {
         "geo": "geo",
         "hovertemplate": "line=77<br>pair=%{location}<extra></extra>",
         "legendgroup": "77",
         "line": {
          "color": "darkslategray",
          "dash": "solid"
         },
         "locationmode": "country names",
         "locations": [
          "Mexico",
          "Japan"
         ],
         "marker": {
          "symbol": "circle"
         },
         "mode": "lines",
         "name": "77",
         "showlegend": true,
         "type": "scattergeo"
        },
        {
         "geo": "geo",
         "hovertemplate": "line=78<br>pair=%{location}<extra></extra>",
         "legendgroup": "78",
         "line": {
          "color": "darkslategray",
          "dash": "solid"
         },
         "locationmode": "country names",
         "locations": [
          "Mexico",
          "Romania"
         ],
         "marker": {
          "symbol": "circle"
         },
         "mode": "lines",
         "name": "78",
         "showlegend": true,
         "type": "scattergeo"
        },
        {
         "geo": "geo",
         "hovertemplate": "line=79<br>pair=%{location}<extra></extra>",
         "legendgroup": "79",
         "line": {
          "color": "darkslategray",
          "dash": "solid"
         },
         "locationmode": "country names",
         "locations": [
          "Mexico",
          "Slovakia"
         ],
         "marker": {
          "symbol": "circle"
         },
         "mode": "lines",
         "name": "79",
         "showlegend": true,
         "type": "scattergeo"
        },
        {
         "geo": "geo",
         "hovertemplate": "line=80<br>pair=%{location}<extra></extra>",
         "legendgroup": "80",
         "line": {
          "color": "darkslategray",
          "dash": "solid"
         },
         "locationmode": "country names",
         "locations": [
          "Cuba",
          "Colombia"
         ],
         "marker": {
          "symbol": "circle"
         },
         "mode": "lines",
         "name": "80",
         "showlegend": true,
         "type": "scattergeo"
        },
        {
         "geo": "geo",
         "hovertemplate": "line=81<br>pair=%{location}<extra></extra>",
         "legendgroup": "81",
         "line": {
          "color": "darkslategray",
          "dash": "solid"
         },
         "locationmode": "country names",
         "locations": [
          "Cuba",
          "Spain"
         ],
         "marker": {
          "symbol": "circle"
         },
         "mode": "lines",
         "name": "81",
         "showlegend": true,
         "type": "scattergeo"
        },
        {
         "geo": "geo",
         "hovertemplate": "line=82<br>pair=%{location}<extra></extra>",
         "legendgroup": "82",
         "line": {
          "color": "darkslategray",
          "dash": "solid"
         },
         "locationmode": "country names",
         "locations": [
          "Cuba",
          "Brazil"
         ],
         "marker": {
          "symbol": "circle"
         },
         "mode": "lines",
         "name": "82",
         "showlegend": true,
         "type": "scattergeo"
        },
        {
         "geo": "geo",
         "hovertemplate": "line=83<br>pair=%{location}<extra></extra>",
         "legendgroup": "83",
         "line": {
          "color": "darkslategray",
          "dash": "solid"
         },
         "locationmode": "country names",
         "locations": [
          "Cuba",
          "Mexico"
         ],
         "marker": {
          "symbol": "circle"
         },
         "mode": "lines",
         "name": "83",
         "showlegend": true,
         "type": "scattergeo"
        },
        {
         "geo": "geo",
         "hovertemplate": "line=84<br>pair=%{location}<extra></extra>",
         "legendgroup": "84",
         "line": {
          "color": "darkslategray",
          "dash": "solid"
         },
         "locationmode": "country names",
         "locations": [
          "Cuba",
          "Argentina"
         ],
         "marker": {
          "symbol": "circle"
         },
         "mode": "lines",
         "name": "84",
         "showlegend": true,
         "type": "scattergeo"
        },
        {
         "geo": "geo",
         "hovertemplate": "line=85<br>pair=%{location}<extra></extra>",
         "legendgroup": "85",
         "line": {
          "color": "darkslategray",
          "dash": "solid"
         },
         "locationmode": "country names",
         "locations": [
          "Cuba",
          "Ecuador"
         ],
         "marker": {
          "symbol": "circle"
         },
         "mode": "lines",
         "name": "85",
         "showlegend": true,
         "type": "scattergeo"
        },
        {
         "geo": "geo",
         "hovertemplate": "line=86<br>pair=%{location}<extra></extra>",
         "legendgroup": "86",
         "line": {
          "color": "darkslategray",
          "dash": "solid"
         },
         "locationmode": "country names",
         "locations": [
          "Cuba",
          "Belgium"
         ],
         "marker": {
          "symbol": "circle"
         },
         "mode": "lines",
         "name": "86",
         "showlegend": true,
         "type": "scattergeo"
        },
        {
         "geo": "geo",
         "hovertemplate": "line=87<br>pair=%{location}<extra></extra>",
         "legendgroup": "87",
         "line": {
          "color": "darkslategray",
          "dash": "solid"
         },
         "locationmode": "country names",
         "locations": [
          "Chile",
          "Colombia"
         ],
         "marker": {
          "symbol": "circle"
         },
         "mode": "lines",
         "name": "87",
         "showlegend": true,
         "type": "scattergeo"
        },
        {
         "geo": "geo",
         "hovertemplate": "line=88<br>pair=%{location}<extra></extra>",
         "legendgroup": "88",
         "line": {
          "color": "darkslategray",
          "dash": "solid"
         },
         "locationmode": "country names",
         "locations": [
          "Chile",
          "Spain"
         ],
         "marker": {
          "symbol": "circle"
         },
         "mode": "lines",
         "name": "88",
         "showlegend": true,
         "type": "scattergeo"
        },
        {
         "geo": "geo",
         "hovertemplate": "line=89<br>pair=%{location}<extra></extra>",
         "legendgroup": "89",
         "line": {
          "color": "darkslategray",
          "dash": "solid"
         },
         "locationmode": "country names",
         "locations": [
          "Chile",
          "Mexico"
         ],
         "marker": {
          "symbol": "circle"
         },
         "mode": "lines",
         "name": "89",
         "showlegend": true,
         "type": "scattergeo"
        },
        {
         "geo": "geo",
         "hovertemplate": "line=90<br>pair=%{location}<extra></extra>",
         "legendgroup": "90",
         "line": {
          "color": "darkslategray",
          "dash": "solid"
         },
         "locationmode": "country names",
         "locations": [
          "Chile",
          "Argentina"
         ],
         "marker": {
          "symbol": "circle"
         },
         "mode": "lines",
         "name": "90",
         "showlegend": true,
         "type": "scattergeo"
        },
        {
         "geo": "geo",
         "hovertemplate": "line=91<br>pair=%{location}<extra></extra>",
         "legendgroup": "91",
         "line": {
          "color": "darkslategray",
          "dash": "solid"
         },
         "locationmode": "country names",
         "locations": [
          "Chile",
          "Ecuador"
         ],
         "marker": {
          "symbol": "circle"
         },
         "mode": "lines",
         "name": "91",
         "showlegend": true,
         "type": "scattergeo"
        },
        {
         "geo": "geo",
         "hovertemplate": "line=92<br>pair=%{location}<extra></extra>",
         "legendgroup": "92",
         "line": {
          "color": "darkslategray",
          "dash": "solid"
         },
         "locationmode": "country names",
         "locations": [
          "Chile",
          "Portugal"
         ],
         "marker": {
          "symbol": "circle"
         },
         "mode": "lines",
         "name": "92",
         "showlegend": true,
         "type": "scattergeo"
        },
        {
         "geo": "geo",
         "hovertemplate": "line=93<br>pair=%{location}<extra></extra>",
         "legendgroup": "93",
         "line": {
          "color": "darkslategray",
          "dash": "solid"
         },
         "locationmode": "country names",
         "locations": [
          "Chile",
          "Venezuela"
         ],
         "marker": {
          "symbol": "circle"
         },
         "mode": "lines",
         "name": "93",
         "showlegend": true,
         "type": "scattergeo"
        },
        {
         "geo": "geo",
         "hovertemplate": "line=94<br>pair=%{location}<extra></extra>",
         "legendgroup": "94",
         "line": {
          "color": "darkslategray",
          "dash": "solid"
         },
         "locationmode": "country names",
         "locations": [
          "Chile",
          "United Kingdom"
         ],
         "marker": {
          "symbol": "circle"
         },
         "mode": "lines",
         "name": "94",
         "showlegend": true,
         "type": "scattergeo"
        },
        {
         "geo": "geo",
         "hovertemplate": "line=95<br>pair=%{location}<extra></extra>",
         "legendgroup": "95",
         "line": {
          "color": "darkslategray",
          "dash": "solid"
         },
         "locationmode": "country names",
         "locations": [
          "Chile",
          "Italy"
         ],
         "marker": {
          "symbol": "circle"
         },
         "mode": "lines",
         "name": "95",
         "showlegend": true,
         "type": "scattergeo"
        },
        {
         "geo": "geo",
         "hovertemplate": "line=96<br>pair=%{location}<extra></extra>",
         "legendgroup": "96",
         "line": {
          "color": "darkslategray",
          "dash": "solid"
         },
         "locationmode": "country names",
         "locations": [
          "Chile",
          "Switzerland"
         ],
         "marker": {
          "symbol": "circle"
         },
         "mode": "lines",
         "name": "96",
         "showlegend": true,
         "type": "scattergeo"
        },
        {
         "geo": "geo",
         "hovertemplate": "line=97<br>pair=%{location}<extra></extra>",
         "legendgroup": "97",
         "line": {
          "color": "darkslategray",
          "dash": "solid"
         },
         "locationmode": "country names",
         "locations": [
          "United States",
          "Colombia"
         ],
         "marker": {
          "symbol": "circle"
         },
         "mode": "lines",
         "name": "97",
         "showlegend": true,
         "type": "scattergeo"
        },
        {
         "geo": "geo",
         "hovertemplate": "line=98<br>pair=%{location}<extra></extra>",
         "legendgroup": "98",
         "line": {
          "color": "darkslategray",
          "dash": "solid"
         },
         "locationmode": "country names",
         "locations": [
          "United States",
          "Spain"
         ],
         "marker": {
          "symbol": "circle"
         },
         "mode": "lines",
         "name": "98",
         "showlegend": true,
         "type": "scattergeo"
        },
        {
         "geo": "geo",
         "hovertemplate": "line=99<br>pair=%{location}<extra></extra>",
         "legendgroup": "99",
         "line": {
          "color": "darkslategray",
          "dash": "solid"
         },
         "locationmode": "country names",
         "locations": [
          "United States",
          "Brazil"
         ],
         "marker": {
          "symbol": "circle"
         },
         "mode": "lines",
         "name": "99",
         "showlegend": true,
         "type": "scattergeo"
        },
        {
         "geo": "geo",
         "hovertemplate": "line=100<br>pair=%{location}<extra></extra>",
         "legendgroup": "100",
         "line": {
          "color": "darkslategray",
          "dash": "solid"
         },
         "locationmode": "country names",
         "locations": [
          "United States",
          "Mexico"
         ],
         "marker": {
          "symbol": "circle"
         },
         "mode": "lines",
         "name": "100",
         "showlegend": true,
         "type": "scattergeo"
        },
        {
         "geo": "geo",
         "hovertemplate": "line=101<br>pair=%{location}<extra></extra>",
         "legendgroup": "101",
         "line": {
          "color": "darkslategray",
          "dash": "solid"
         },
         "locationmode": "country names",
         "locations": [
          "United States",
          "Portugal"
         ],
         "marker": {
          "symbol": "circle"
         },
         "mode": "lines",
         "name": "101",
         "showlegend": true,
         "type": "scattergeo"
        },
        {
         "geo": "geo",
         "hovertemplate": "line=102<br>pair=%{location}<extra></extra>",
         "legendgroup": "102",
         "line": {
          "color": "darkslategray",
          "dash": "solid"
         },
         "locationmode": "country names",
         "locations": [
          "United States",
          "Canada"
         ],
         "marker": {
          "symbol": "circle"
         },
         "mode": "lines",
         "name": "102",
         "showlegend": true,
         "type": "scattergeo"
        },
        {
         "geo": "geo",
         "hovertemplate": "line=103<br>pair=%{location}<extra></extra>",
         "legendgroup": "103",
         "line": {
          "color": "darkslategray",
          "dash": "solid"
         },
         "locationmode": "country names",
         "locations": [
          "United States",
          "Netherlands"
         ],
         "marker": {
          "symbol": "circle"
         },
         "mode": "lines",
         "name": "103",
         "showlegend": true,
         "type": "scattergeo"
        },
        {
         "geo": "geo",
         "hovertemplate": "line=104<br>pair=%{location}<extra></extra>",
         "legendgroup": "104",
         "line": {
          "color": "darkslategray",
          "dash": "solid"
         },
         "locationmode": "country names",
         "locations": [
          "Argentina",
          "Colombia"
         ],
         "marker": {
          "symbol": "circle"
         },
         "mode": "lines",
         "name": "104",
         "showlegend": true,
         "type": "scattergeo"
        },
        {
         "geo": "geo",
         "hovertemplate": "line=105<br>pair=%{location}<extra></extra>",
         "legendgroup": "105",
         "line": {
          "color": "darkslategray",
          "dash": "solid"
         },
         "locationmode": "country names",
         "locations": [
          "Argentina",
          "Spain"
         ],
         "marker": {
          "symbol": "circle"
         },
         "mode": "lines",
         "name": "105",
         "showlegend": true,
         "type": "scattergeo"
        },
        {
         "geo": "geo",
         "hovertemplate": "line=106<br>pair=%{location}<extra></extra>",
         "legendgroup": "106",
         "line": {
          "color": "darkslategray",
          "dash": "solid"
         },
         "locationmode": "country names",
         "locations": [
          "Argentina",
          "Cuba"
         ],
         "marker": {
          "symbol": "circle"
         },
         "mode": "lines",
         "name": "106",
         "showlegend": true,
         "type": "scattergeo"
        },
        {
         "geo": "geo",
         "hovertemplate": "line=107<br>pair=%{location}<extra></extra>",
         "legendgroup": "107",
         "line": {
          "color": "darkslategray",
          "dash": "solid"
         },
         "locationmode": "country names",
         "locations": [
          "Argentina",
          "Chile"
         ],
         "marker": {
          "symbol": "circle"
         },
         "mode": "lines",
         "name": "107",
         "showlegend": true,
         "type": "scattergeo"
        },
        {
         "geo": "geo",
         "hovertemplate": "line=108<br>pair=%{location}<extra></extra>",
         "legendgroup": "108",
         "line": {
          "color": "darkslategray",
          "dash": "solid"
         },
         "locationmode": "country names",
         "locations": [
          "Argentina",
          "Portugal"
         ],
         "marker": {
          "symbol": "circle"
         },
         "mode": "lines",
         "name": "108",
         "showlegend": true,
         "type": "scattergeo"
        },
        {
         "geo": "geo",
         "hovertemplate": "line=109<br>pair=%{location}<extra></extra>",
         "legendgroup": "109",
         "line": {
          "color": "darkslategray",
          "dash": "solid"
         },
         "locationmode": "country names",
         "locations": [
          "Argentina",
          "Venezuela"
         ],
         "marker": {
          "symbol": "circle"
         },
         "mode": "lines",
         "name": "109",
         "showlegend": true,
         "type": "scattergeo"
        },
        {
         "geo": "geo",
         "hovertemplate": "line=110<br>pair=%{location}<extra></extra>",
         "legendgroup": "110",
         "line": {
          "color": "darkslategray",
          "dash": "solid"
         },
         "locationmode": "country names",
         "locations": [
          "Ecuador",
          "Colombia"
         ],
         "marker": {
          "symbol": "circle"
         },
         "mode": "lines",
         "name": "110",
         "showlegend": true,
         "type": "scattergeo"
        },
        {
         "geo": "geo",
         "hovertemplate": "line=111<br>pair=%{location}<extra></extra>",
         "legendgroup": "111",
         "line": {
          "color": "darkslategray",
          "dash": "solid"
         },
         "locationmode": "country names",
         "locations": [
          "Ecuador",
          "Spain"
         ],
         "marker": {
          "symbol": "circle"
         },
         "mode": "lines",
         "name": "111",
         "showlegend": true,
         "type": "scattergeo"
        },
        {
         "geo": "geo",
         "hovertemplate": "line=112<br>pair=%{location}<extra></extra>",
         "legendgroup": "112",
         "line": {
          "color": "darkslategray",
          "dash": "solid"
         },
         "locationmode": "country names",
         "locations": [
          "Ecuador",
          "Brazil"
         ],
         "marker": {
          "symbol": "circle"
         },
         "mode": "lines",
         "name": "112",
         "showlegend": true,
         "type": "scattergeo"
        },
        {
         "geo": "geo",
         "hovertemplate": "line=113<br>pair=%{location}<extra></extra>",
         "legendgroup": "113",
         "line": {
          "color": "darkslategray",
          "dash": "solid"
         },
         "locationmode": "country names",
         "locations": [
          "Ecuador",
          "Mexico"
         ],
         "marker": {
          "symbol": "circle"
         },
         "mode": "lines",
         "name": "113",
         "showlegend": true,
         "type": "scattergeo"
        },
        {
         "geo": "geo",
         "hovertemplate": "line=114<br>pair=%{location}<extra></extra>",
         "legendgroup": "114",
         "line": {
          "color": "darkslategray",
          "dash": "solid"
         },
         "locationmode": "country names",
         "locations": [
          "Ecuador",
          "Cuba"
         ],
         "marker": {
          "symbol": "circle"
         },
         "mode": "lines",
         "name": "114",
         "showlegend": true,
         "type": "scattergeo"
        },
        {
         "geo": "geo",
         "hovertemplate": "line=115<br>pair=%{location}<extra></extra>",
         "legendgroup": "115",
         "line": {
          "color": "darkslategray",
          "dash": "solid"
         },
         "locationmode": "country names",
         "locations": [
          "Ecuador",
          "Chile"
         ],
         "marker": {
          "symbol": "circle"
         },
         "mode": "lines",
         "name": "115",
         "showlegend": true,
         "type": "scattergeo"
        },
        {
         "geo": "geo",
         "hovertemplate": "line=116<br>pair=%{location}<extra></extra>",
         "legendgroup": "116",
         "line": {
          "color": "darkslategray",
          "dash": "solid"
         },
         "locationmode": "country names",
         "locations": [
          "Ecuador",
          "Venezuela"
         ],
         "marker": {
          "symbol": "circle"
         },
         "mode": "lines",
         "name": "116",
         "showlegend": true,
         "type": "scattergeo"
        },
        {
         "geo": "geo",
         "hovertemplate": "line=117<br>pair=%{location}<extra></extra>",
         "legendgroup": "117",
         "line": {
          "color": "darkslategray",
          "dash": "solid"
         },
         "locationmode": "country names",
         "locations": [
          "Ecuador",
          "United Kingdom"
         ],
         "marker": {
          "symbol": "circle"
         },
         "mode": "lines",
         "name": "117",
         "showlegend": true,
         "type": "scattergeo"
        },
        {
         "geo": "geo",
         "hovertemplate": "line=118<br>pair=%{location}<extra></extra>",
         "legendgroup": "118",
         "line": {
          "color": "darkslategray",
          "dash": "solid"
         },
         "locationmode": "country names",
         "locations": [
          "Ecuador",
          "Austria"
         ],
         "marker": {
          "symbol": "circle"
         },
         "mode": "lines",
         "name": "118",
         "showlegend": true,
         "type": "scattergeo"
        },
        {
         "geo": "geo",
         "hovertemplate": "line=119<br>pair=%{location}<extra></extra>",
         "legendgroup": "119",
         "line": {
          "color": "darkslategray",
          "dash": "solid"
         },
         "locationmode": "country names",
         "locations": [
          "Portugal",
          "Colombia"
         ],
         "marker": {
          "symbol": "circle"
         },
         "mode": "lines",
         "name": "119",
         "showlegend": true,
         "type": "scattergeo"
        },
        {
         "geo": "geo",
         "hovertemplate": "line=120<br>pair=%{location}<extra></extra>",
         "legendgroup": "120",
         "line": {
          "color": "darkslategray",
          "dash": "solid"
         },
         "locationmode": "country names",
         "locations": [
          "Portugal",
          "Spain"
         ],
         "marker": {
          "symbol": "circle"
         },
         "mode": "lines",
         "name": "120",
         "showlegend": true,
         "type": "scattergeo"
        },
        {
         "geo": "geo",
         "hovertemplate": "line=121<br>pair=%{location}<extra></extra>",
         "legendgroup": "121",
         "line": {
          "color": "darkslategray",
          "dash": "solid"
         },
         "locationmode": "country names",
         "locations": [
          "Portugal",
          "Brazil"
         ],
         "marker": {
          "symbol": "circle"
         },
         "mode": "lines",
         "name": "121",
         "showlegend": true,
         "type": "scattergeo"
        },
        {
         "geo": "geo",
         "hovertemplate": "line=122<br>pair=%{location}<extra></extra>",
         "legendgroup": "122",
         "line": {
          "color": "darkslategray",
          "dash": "solid"
         },
         "locationmode": "country names",
         "locations": [
          "Portugal",
          "Chile"
         ],
         "marker": {
          "symbol": "circle"
         },
         "mode": "lines",
         "name": "122",
         "showlegend": true,
         "type": "scattergeo"
        },
        {
         "geo": "geo",
         "hovertemplate": "line=123<br>pair=%{location}<extra></extra>",
         "legendgroup": "123",
         "line": {
          "color": "darkslategray",
          "dash": "solid"
         },
         "locationmode": "country names",
         "locations": [
          "Portugal",
          "United States"
         ],
         "marker": {
          "symbol": "circle"
         },
         "mode": "lines",
         "name": "123",
         "showlegend": true,
         "type": "scattergeo"
        },
        {
         "geo": "geo",
         "hovertemplate": "line=124<br>pair=%{location}<extra></extra>",
         "legendgroup": "124",
         "line": {
          "color": "darkslategray",
          "dash": "solid"
         },
         "locationmode": "country names",
         "locations": [
          "Portugal",
          "Argentina"
         ],
         "marker": {
          "symbol": "circle"
         },
         "mode": "lines",
         "name": "124",
         "showlegend": true,
         "type": "scattergeo"
        },
        {
         "geo": "geo",
         "hovertemplate": "line=125<br>pair=%{location}<extra></extra>",
         "legendgroup": "125",
         "line": {
          "color": "darkslategray",
          "dash": "solid"
         },
         "locationmode": "country names",
         "locations": [
          "Portugal",
          "Italy"
         ],
         "marker": {
          "symbol": "circle"
         },
         "mode": "lines",
         "name": "125",
         "showlegend": true,
         "type": "scattergeo"
        },
        {
         "geo": "geo",
         "hovertemplate": "line=126<br>pair=%{location}<extra></extra>",
         "legendgroup": "126",
         "line": {
          "color": "darkslategray",
          "dash": "solid"
         },
         "locationmode": "country names",
         "locations": [
          "Portugal",
          "Russia"
         ],
         "marker": {
          "symbol": "circle"
         },
         "mode": "lines",
         "name": "126",
         "showlegend": true,
         "type": "scattergeo"
        },
        {
         "geo": "geo",
         "hovertemplate": "line=127<br>pair=%{location}<extra></extra>",
         "legendgroup": "127",
         "line": {
          "color": "darkslategray",
          "dash": "solid"
         },
         "locationmode": "country names",
         "locations": [
          "Portugal",
          "Netherlands"
         ],
         "marker": {
          "symbol": "circle"
         },
         "mode": "lines",
         "name": "127",
         "showlegend": true,
         "type": "scattergeo"
        },
        {
         "geo": "geo",
         "hovertemplate": "line=128<br>pair=%{location}<extra></extra>",
         "legendgroup": "128",
         "line": {
          "color": "darkslategray",
          "dash": "solid"
         },
         "locationmode": "country names",
         "locations": [
          "Portugal",
          "Kazakhstan"
         ],
         "marker": {
          "symbol": "circle"
         },
         "mode": "lines",
         "name": "128",
         "showlegend": true,
         "type": "scattergeo"
        },
        {
         "geo": "geo",
         "hovertemplate": "line=129<br>pair=%{location}<extra></extra>",
         "legendgroup": "129",
         "line": {
          "color": "darkslategray",
          "dash": "solid"
         },
         "locationmode": "country names",
         "locations": [
          "Portugal",
          "Indonesia"
         ],
         "marker": {
          "symbol": "circle"
         },
         "mode": "lines",
         "name": "129",
         "showlegend": true,
         "type": "scattergeo"
        },
        {
         "geo": "geo",
         "hovertemplate": "line=130<br>pair=%{location}<extra></extra>",
         "legendgroup": "130",
         "line": {
          "color": "darkslategray",
          "dash": "solid"
         },
         "locationmode": "country names",
         "locations": [
          "Venezuela",
          "Colombia"
         ],
         "marker": {
          "symbol": "circle"
         },
         "mode": "lines",
         "name": "130",
         "showlegend": true,
         "type": "scattergeo"
        },
        {
         "geo": "geo",
         "hovertemplate": "line=131<br>pair=%{location}<extra></extra>",
         "legendgroup": "131",
         "line": {
          "color": "darkslategray",
          "dash": "solid"
         },
         "locationmode": "country names",
         "locations": [
          "Venezuela",
          "Spain"
         ],
         "marker": {
          "symbol": "circle"
         },
         "mode": "lines",
         "name": "131",
         "showlegend": true,
         "type": "scattergeo"
        },
        {
         "geo": "geo",
         "hovertemplate": "line=132<br>pair=%{location}<extra></extra>",
         "legendgroup": "132",
         "line": {
          "color": "darkslategray",
          "dash": "solid"
         },
         "locationmode": "country names",
         "locations": [
          "Venezuela",
          "Brazil"
         ],
         "marker": {
          "symbol": "circle"
         },
         "mode": "lines",
         "name": "132",
         "showlegend": true,
         "type": "scattergeo"
        },
        {
         "geo": "geo",
         "hovertemplate": "line=133<br>pair=%{location}<extra></extra>",
         "legendgroup": "133",
         "line": {
          "color": "darkslategray",
          "dash": "solid"
         },
         "locationmode": "country names",
         "locations": [
          "Venezuela",
          "Chile"
         ],
         "marker": {
          "symbol": "circle"
         },
         "mode": "lines",
         "name": "133",
         "showlegend": true,
         "type": "scattergeo"
        },
        {
         "geo": "geo",
         "hovertemplate": "line=134<br>pair=%{location}<extra></extra>",
         "legendgroup": "134",
         "line": {
          "color": "darkslategray",
          "dash": "solid"
         },
         "locationmode": "country names",
         "locations": [
          "Venezuela",
          "Argentina"
         ],
         "marker": {
          "symbol": "circle"
         },
         "mode": "lines",
         "name": "134",
         "showlegend": true,
         "type": "scattergeo"
        },
        {
         "geo": "geo",
         "hovertemplate": "line=135<br>pair=%{location}<extra></extra>",
         "legendgroup": "135",
         "line": {
          "color": "darkslategray",
          "dash": "solid"
         },
         "locationmode": "country names",
         "locations": [
          "Venezuela",
          "Ecuador"
         ],
         "marker": {
          "symbol": "circle"
         },
         "mode": "lines",
         "name": "135",
         "showlegend": true,
         "type": "scattergeo"
        },
        {
         "geo": "geo",
         "hovertemplate": "line=136<br>pair=%{location}<extra></extra>",
         "legendgroup": "136",
         "line": {
          "color": "darkslategray",
          "dash": "solid"
         },
         "locationmode": "country names",
         "locations": [
          "Venezuela",
          "France"
         ],
         "marker": {
          "symbol": "circle"
         },
         "mode": "lines",
         "name": "136",
         "showlegend": true,
         "type": "scattergeo"
        },
        {
         "geo": "geo",
         "hovertemplate": "line=137<br>pair=%{location}<extra></extra>",
         "legendgroup": "137",
         "line": {
          "color": "darkslategray",
          "dash": "solid"
         },
         "locationmode": "country names",
         "locations": [
          "Peru",
          "Spain"
         ],
         "marker": {
          "symbol": "circle"
         },
         "mode": "lines",
         "name": "137",
         "showlegend": true,
         "type": "scattergeo"
        },
        {
         "geo": "geo",
         "hovertemplate": "line=138<br>pair=%{location}<extra></extra>",
         "legendgroup": "138",
         "line": {
          "color": "darkslategray",
          "dash": "solid"
         },
         "locationmode": "country names",
         "locations": [
          "Peru",
          "Brazil"
         ],
         "marker": {
          "symbol": "circle"
         },
         "mode": "lines",
         "name": "138",
         "showlegend": true,
         "type": "scattergeo"
        },
        {
         "geo": "geo",
         "hovertemplate": "line=139<br>pair=%{location}<extra></extra>",
         "legendgroup": "139",
         "line": {
          "color": "darkslategray",
          "dash": "solid"
         },
         "locationmode": "country names",
         "locations": [
          "Peru",
          "France"
         ],
         "marker": {
          "symbol": "circle"
         },
         "mode": "lines",
         "name": "139",
         "showlegend": true,
         "type": "scattergeo"
        },
        {
         "geo": "geo",
         "hovertemplate": "line=140<br>pair=%{location}<extra></extra>",
         "legendgroup": "140",
         "line": {
          "color": "darkslategray",
          "dash": "solid"
         },
         "locationmode": "country names",
         "locations": [
          "United Kingdom",
          "Colombia"
         ],
         "marker": {
          "symbol": "circle"
         },
         "mode": "lines",
         "name": "140",
         "showlegend": true,
         "type": "scattergeo"
        },
        {
         "geo": "geo",
         "hovertemplate": "line=141<br>pair=%{location}<extra></extra>",
         "legendgroup": "141",
         "line": {
          "color": "darkslategray",
          "dash": "solid"
         },
         "locationmode": "country names",
         "locations": [
          "United Kingdom",
          "Spain"
         ],
         "marker": {
          "symbol": "circle"
         },
         "mode": "lines",
         "name": "141",
         "showlegend": true,
         "type": "scattergeo"
        },
        {
         "geo": "geo",
         "hovertemplate": "line=142<br>pair=%{location}<extra></extra>",
         "legendgroup": "142",
         "line": {
          "color": "darkslategray",
          "dash": "solid"
         },
         "locationmode": "country names",
         "locations": [
          "United Kingdom",
          "Chile"
         ],
         "marker": {
          "symbol": "circle"
         },
         "mode": "lines",
         "name": "142",
         "showlegend": true,
         "type": "scattergeo"
        },
        {
         "geo": "geo",
         "hovertemplate": "line=143<br>pair=%{location}<extra></extra>",
         "legendgroup": "143",
         "line": {
          "color": "darkslategray",
          "dash": "solid"
         },
         "locationmode": "country names",
         "locations": [
          "United Kingdom",
          "Ecuador"
         ],
         "marker": {
          "symbol": "circle"
         },
         "mode": "lines",
         "name": "143",
         "showlegend": true,
         "type": "scattergeo"
        },
        {
         "geo": "geo",
         "hovertemplate": "line=144<br>pair=%{location}<extra></extra>",
         "legendgroup": "144",
         "line": {
          "color": "darkslategray",
          "dash": "solid"
         },
         "locationmode": "country names",
         "locations": [
          "United Kingdom",
          "Belgium"
         ],
         "marker": {
          "symbol": "circle"
         },
         "mode": "lines",
         "name": "144",
         "showlegend": true,
         "type": "scattergeo"
        },
        {
         "geo": "geo",
         "hovertemplate": "line=145<br>pair=%{location}<extra></extra>",
         "legendgroup": "145",
         "line": {
          "color": "darkslategray",
          "dash": "solid"
         },
         "locationmode": "country names",
         "locations": [
          "France",
          "Colombia"
         ],
         "marker": {
          "symbol": "circle"
         },
         "mode": "lines",
         "name": "145",
         "showlegend": true,
         "type": "scattergeo"
        },
        {
         "geo": "geo",
         "hovertemplate": "line=146<br>pair=%{location}<extra></extra>",
         "legendgroup": "146",
         "line": {
          "color": "darkslategray",
          "dash": "solid"
         },
         "locationmode": "country names",
         "locations": [
          "France",
          "Spain"
         ],
         "marker": {
          "symbol": "circle"
         },
         "mode": "lines",
         "name": "146",
         "showlegend": true,
         "type": "scattergeo"
        },
        {
         "geo": "geo",
         "hovertemplate": "line=147<br>pair=%{location}<extra></extra>",
         "legendgroup": "147",
         "line": {
          "color": "darkslategray",
          "dash": "solid"
         },
         "locationmode": "country names",
         "locations": [
          "France",
          "Brazil"
         ],
         "marker": {
          "symbol": "circle"
         },
         "mode": "lines",
         "name": "147",
         "showlegend": true,
         "type": "scattergeo"
        },
        {
         "geo": "geo",
         "hovertemplate": "line=148<br>pair=%{location}<extra></extra>",
         "legendgroup": "148",
         "line": {
          "color": "darkslategray",
          "dash": "solid"
         },
         "locationmode": "country names",
         "locations": [
          "France",
          "Mexico"
         ],
         "marker": {
          "symbol": "circle"
         },
         "mode": "lines",
         "name": "148",
         "showlegend": true,
         "type": "scattergeo"
        },
        {
         "geo": "geo",
         "hovertemplate": "line=149<br>pair=%{location}<extra></extra>",
         "legendgroup": "149",
         "line": {
          "color": "darkslategray",
          "dash": "solid"
         },
         "locationmode": "country names",
         "locations": [
          "France",
          "Venezuela"
         ],
         "marker": {
          "symbol": "circle"
         },
         "mode": "lines",
         "name": "149",
         "showlegend": true,
         "type": "scattergeo"
        },
        {
         "geo": "geo",
         "hovertemplate": "line=150<br>pair=%{location}<extra></extra>",
         "legendgroup": "150",
         "line": {
          "color": "darkslategray",
          "dash": "solid"
         },
         "locationmode": "country names",
         "locations": [
          "France",
          "Peru"
         ],
         "marker": {
          "symbol": "circle"
         },
         "mode": "lines",
         "name": "150",
         "showlegend": true,
         "type": "scattergeo"
        },
        {
         "geo": "geo",
         "hovertemplate": "line=151<br>pair=%{location}<extra></extra>",
         "legendgroup": "151",
         "line": {
          "color": "darkslategray",
          "dash": "solid"
         },
         "locationmode": "country names",
         "locations": [
          "[UKN]",
          "Colombia"
         ],
         "marker": {
          "symbol": "circle"
         },
         "mode": "lines",
         "name": "151",
         "showlegend": true,
         "type": "scattergeo"
        },
        {
         "geo": "geo",
         "hovertemplate": "line=152<br>pair=%{location}<extra></extra>",
         "legendgroup": "152",
         "line": {
          "color": "darkslategray",
          "dash": "solid"
         },
         "locationmode": "country names",
         "locations": [
          "[UKN]",
          "Spain"
         ],
         "marker": {
          "symbol": "circle"
         },
         "mode": "lines",
         "name": "152",
         "showlegend": true,
         "type": "scattergeo"
        },
        {
         "geo": "geo",
         "hovertemplate": "line=153<br>pair=%{location}<extra></extra>",
         "legendgroup": "153",
         "line": {
          "color": "darkslategray",
          "dash": "solid"
         },
         "locationmode": "country names",
         "locations": [
          "Belgium",
          "Colombia"
         ],
         "marker": {
          "symbol": "circle"
         },
         "mode": "lines",
         "name": "153",
         "showlegend": true,
         "type": "scattergeo"
        },
        {
         "geo": "geo",
         "hovertemplate": "line=154<br>pair=%{location}<extra></extra>",
         "legendgroup": "154",
         "line": {
          "color": "darkslategray",
          "dash": "solid"
         },
         "locationmode": "country names",
         "locations": [
          "Belgium",
          "Cuba"
         ],
         "marker": {
          "symbol": "circle"
         },
         "mode": "lines",
         "name": "154",
         "showlegend": true,
         "type": "scattergeo"
        },
        {
         "geo": "geo",
         "hovertemplate": "line=155<br>pair=%{location}<extra></extra>",
         "legendgroup": "155",
         "line": {
          "color": "darkslategray",
          "dash": "solid"
         },
         "locationmode": "country names",
         "locations": [
          "Belgium",
          "United Kingdom"
         ],
         "marker": {
          "symbol": "circle"
         },
         "mode": "lines",
         "name": "155",
         "showlegend": true,
         "type": "scattergeo"
        },
        {
         "geo": "geo",
         "hovertemplate": "line=156<br>pair=%{location}<extra></extra>",
         "legendgroup": "156",
         "line": {
          "color": "darkslategray",
          "dash": "solid"
         },
         "locationmode": "country names",
         "locations": [
          "Belgium",
          "Hungary"
         ],
         "marker": {
          "symbol": "circle"
         },
         "mode": "lines",
         "name": "156",
         "showlegend": true,
         "type": "scattergeo"
        },
        {
         "geo": "geo",
         "hovertemplate": "line=157<br>pair=%{location}<extra></extra>",
         "legendgroup": "157",
         "line": {
          "color": "darkslategray",
          "dash": "solid"
         },
         "locationmode": "country names",
         "locations": [
          "Italy",
          "Colombia"
         ],
         "marker": {
          "symbol": "circle"
         },
         "mode": "lines",
         "name": "157",
         "showlegend": true,
         "type": "scattergeo"
        },
        {
         "geo": "geo",
         "hovertemplate": "line=158<br>pair=%{location}<extra></extra>",
         "legendgroup": "158",
         "line": {
          "color": "darkslategray",
          "dash": "solid"
         },
         "locationmode": "country names",
         "locations": [
          "Italy",
          "Spain"
         ],
         "marker": {
          "symbol": "circle"
         },
         "mode": "lines",
         "name": "158",
         "showlegend": true,
         "type": "scattergeo"
        },
        {
         "geo": "geo",
         "hovertemplate": "line=159<br>pair=%{location}<extra></extra>",
         "legendgroup": "159",
         "line": {
          "color": "darkslategray",
          "dash": "solid"
         },
         "locationmode": "country names",
         "locations": [
          "Italy",
          "Mexico"
         ],
         "marker": {
          "symbol": "circle"
         },
         "mode": "lines",
         "name": "159",
         "showlegend": true,
         "type": "scattergeo"
        },
        {
         "geo": "geo",
         "hovertemplate": "line=160<br>pair=%{location}<extra></extra>",
         "legendgroup": "160",
         "line": {
          "color": "darkslategray",
          "dash": "solid"
         },
         "locationmode": "country names",
         "locations": [
          "Italy",
          "Chile"
         ],
         "marker": {
          "symbol": "circle"
         },
         "mode": "lines",
         "name": "160",
         "showlegend": true,
         "type": "scattergeo"
        },
        {
         "geo": "geo",
         "hovertemplate": "line=161<br>pair=%{location}<extra></extra>",
         "legendgroup": "161",
         "line": {
          "color": "darkslategray",
          "dash": "solid"
         },
         "locationmode": "country names",
         "locations": [
          "Italy",
          "Portugal"
         ],
         "marker": {
          "symbol": "circle"
         },
         "mode": "lines",
         "name": "161",
         "showlegend": true,
         "type": "scattergeo"
        },
        {
         "geo": "geo",
         "hovertemplate": "line=162<br>pair=%{location}<extra></extra>",
         "legendgroup": "162",
         "line": {
          "color": "darkslategray",
          "dash": "solid"
         },
         "locationmode": "country names",
         "locations": [
          "Switzerland",
          "Colombia"
         ],
         "marker": {
          "symbol": "circle"
         },
         "mode": "lines",
         "name": "162",
         "showlegend": true,
         "type": "scattergeo"
        },
        {
         "geo": "geo",
         "hovertemplate": "line=163<br>pair=%{location}<extra></extra>",
         "legendgroup": "163",
         "line": {
          "color": "darkslategray",
          "dash": "solid"
         },
         "locationmode": "country names",
         "locations": [
          "Switzerland",
          "Spain"
         ],
         "marker": {
          "symbol": "circle"
         },
         "mode": "lines",
         "name": "163",
         "showlegend": true,
         "type": "scattergeo"
        },
        {
         "geo": "geo",
         "hovertemplate": "line=164<br>pair=%{location}<extra></extra>",
         "legendgroup": "164",
         "line": {
          "color": "darkslategray",
          "dash": "solid"
         },
         "locationmode": "country names",
         "locations": [
          "Switzerland",
          "Chile"
         ],
         "marker": {
          "symbol": "circle"
         },
         "mode": "lines",
         "name": "164",
         "showlegend": true,
         "type": "scattergeo"
        },
        {
         "geo": "geo",
         "hovertemplate": "line=165<br>pair=%{location}<extra></extra>",
         "legendgroup": "165",
         "line": {
          "color": "darkslategray",
          "dash": "solid"
         },
         "locationmode": "country names",
         "locations": [
          "Russia",
          "Mexico"
         ],
         "marker": {
          "symbol": "circle"
         },
         "mode": "lines",
         "name": "165",
         "showlegend": true,
         "type": "scattergeo"
        },
        {
         "geo": "geo",
         "hovertemplate": "line=166<br>pair=%{location}<extra></extra>",
         "legendgroup": "166",
         "line": {
          "color": "darkslategray",
          "dash": "solid"
         },
         "locationmode": "country names",
         "locations": [
          "Russia",
          "Portugal"
         ],
         "marker": {
          "symbol": "circle"
         },
         "mode": "lines",
         "name": "166",
         "showlegend": true,
         "type": "scattergeo"
        },
        {
         "geo": "geo",
         "hovertemplate": "line=167<br>pair=%{location}<extra></extra>",
         "legendgroup": "167",
         "line": {
          "color": "darkslategray",
          "dash": "solid"
         },
         "locationmode": "country names",
         "locations": [
          "Russia",
          "Germany"
         ],
         "marker": {
          "symbol": "circle"
         },
         "mode": "lines",
         "name": "167",
         "showlegend": true,
         "type": "scattergeo"
        },
        {
         "geo": "geo",
         "hovertemplate": "line=168<br>pair=%{location}<extra></extra>",
         "legendgroup": "168",
         "line": {
          "color": "darkslategray",
          "dash": "solid"
         },
         "locationmode": "country names",
         "locations": [
          "Russia",
          "Kazakhstan"
         ],
         "marker": {
          "symbol": "circle"
         },
         "mode": "lines",
         "name": "168",
         "showlegend": true,
         "type": "scattergeo"
        },
        {
         "geo": "geo",
         "hovertemplate": "line=169<br>pair=%{location}<extra></extra>",
         "legendgroup": "169",
         "line": {
          "color": "darkslategray",
          "dash": "solid"
         },
         "locationmode": "country names",
         "locations": [
          "Germany",
          "Colombia"
         ],
         "marker": {
          "symbol": "circle"
         },
         "mode": "lines",
         "name": "169",
         "showlegend": true,
         "type": "scattergeo"
        },
        {
         "geo": "geo",
         "hovertemplate": "line=170<br>pair=%{location}<extra></extra>",
         "legendgroup": "170",
         "line": {
          "color": "darkslategray",
          "dash": "solid"
         },
         "locationmode": "country names",
         "locations": [
          "Germany",
          "Brazil"
         ],
         "marker": {
          "symbol": "circle"
         },
         "mode": "lines",
         "name": "170",
         "showlegend": true,
         "type": "scattergeo"
        },
        {
         "geo": "geo",
         "hovertemplate": "line=171<br>pair=%{location}<extra></extra>",
         "legendgroup": "171",
         "line": {
          "color": "darkslategray",
          "dash": "solid"
         },
         "locationmode": "country names",
         "locations": [
          "Germany",
          "Russia"
         ],
         "marker": {
          "symbol": "circle"
         },
         "mode": "lines",
         "name": "171",
         "showlegend": true,
         "type": "scattergeo"
        },
        {
         "geo": "geo",
         "hovertemplate": "line=172<br>pair=%{location}<extra></extra>",
         "legendgroup": "172",
         "line": {
          "color": "darkslategray",
          "dash": "solid"
         },
         "locationmode": "country names",
         "locations": [
          "Canada",
          "Colombia"
         ],
         "marker": {
          "symbol": "circle"
         },
         "mode": "lines",
         "name": "172",
         "showlegend": true,
         "type": "scattergeo"
        },
        {
         "geo": "geo",
         "hovertemplate": "line=173<br>pair=%{location}<extra></extra>",
         "legendgroup": "173",
         "line": {
          "color": "darkslategray",
          "dash": "solid"
         },
         "locationmode": "country names",
         "locations": [
          "Canada",
          "Brazil"
         ],
         "marker": {
          "symbol": "circle"
         },
         "mode": "lines",
         "name": "173",
         "showlegend": true,
         "type": "scattergeo"
        },
        {
         "geo": "geo",
         "hovertemplate": "line=174<br>pair=%{location}<extra></extra>",
         "legendgroup": "174",
         "line": {
          "color": "darkslategray",
          "dash": "solid"
         },
         "locationmode": "country names",
         "locations": [
          "Canada",
          "Mexico"
         ],
         "marker": {
          "symbol": "circle"
         },
         "mode": "lines",
         "name": "174",
         "showlegend": true,
         "type": "scattergeo"
        },
        {
         "geo": "geo",
         "hovertemplate": "line=175<br>pair=%{location}<extra></extra>",
         "legendgroup": "175",
         "line": {
          "color": "darkslategray",
          "dash": "solid"
         },
         "locationmode": "country names",
         "locations": [
          "Canada",
          "United States"
         ],
         "marker": {
          "symbol": "circle"
         },
         "mode": "lines",
         "name": "175",
         "showlegend": true,
         "type": "scattergeo"
        },
        {
         "geo": "geo",
         "hovertemplate": "line=176<br>pair=%{location}<extra></extra>",
         "legendgroup": "176",
         "line": {
          "color": "darkslategray",
          "dash": "solid"
         },
         "locationmode": "country names",
         "locations": [
          "Netherlands",
          "Colombia"
         ],
         "marker": {
          "symbol": "circle"
         },
         "mode": "lines",
         "name": "176",
         "showlegend": true,
         "type": "scattergeo"
        },
        {
         "geo": "geo",
         "hovertemplate": "line=177<br>pair=%{location}<extra></extra>",
         "legendgroup": "177",
         "line": {
          "color": "darkslategray",
          "dash": "solid"
         },
         "locationmode": "country names",
         "locations": [
          "Netherlands",
          "Brazil"
         ],
         "marker": {
          "symbol": "circle"
         },
         "mode": "lines",
         "name": "177",
         "showlegend": true,
         "type": "scattergeo"
        },
        {
         "geo": "geo",
         "hovertemplate": "line=178<br>pair=%{location}<extra></extra>",
         "legendgroup": "178",
         "line": {
          "color": "darkslategray",
          "dash": "solid"
         },
         "locationmode": "country names",
         "locations": [
          "Netherlands",
          "United States"
         ],
         "marker": {
          "symbol": "circle"
         },
         "mode": "lines",
         "name": "178",
         "showlegend": true,
         "type": "scattergeo"
        },
        {
         "geo": "geo",
         "hovertemplate": "line=179<br>pair=%{location}<extra></extra>",
         "legendgroup": "179",
         "line": {
          "color": "darkslategray",
          "dash": "solid"
         },
         "locationmode": "country names",
         "locations": [
          "Netherlands",
          "Portugal"
         ],
         "marker": {
          "symbol": "circle"
         },
         "mode": "lines",
         "name": "179",
         "showlegend": true,
         "type": "scattergeo"
        },
        {
         "geo": "geo",
         "hovertemplate": "line=180<br>pair=%{location}<extra></extra>",
         "legendgroup": "180",
         "line": {
          "color": "darkslategray",
          "dash": "solid"
         },
         "locationmode": "country names",
         "locations": [
          "Poland",
          "Spain"
         ],
         "marker": {
          "symbol": "circle"
         },
         "mode": "lines",
         "name": "180",
         "showlegend": true,
         "type": "scattergeo"
        },
        {
         "geo": "geo",
         "hovertemplate": "line=181<br>pair=%{location}<extra></extra>",
         "legendgroup": "181",
         "line": {
          "color": "darkslategray",
          "dash": "solid"
         },
         "locationmode": "country names",
         "locations": [
          "Poland",
          "Norway"
         ],
         "marker": {
          "symbol": "circle"
         },
         "mode": "lines",
         "name": "181",
         "showlegend": true,
         "type": "scattergeo"
        },
        {
         "geo": "geo",
         "hovertemplate": "line=182<br>pair=%{location}<extra></extra>",
         "legendgroup": "182",
         "line": {
          "color": "darkslategray",
          "dash": "solid"
         },
         "locationmode": "country names",
         "locations": [
          "Australia",
          "Colombia"
         ],
         "marker": {
          "symbol": "circle"
         },
         "mode": "lines",
         "name": "182",
         "showlegend": true,
         "type": "scattergeo"
        },
        {
         "geo": "geo",
         "hovertemplate": "line=183<br>pair=%{location}<extra></extra>",
         "legendgroup": "183",
         "line": {
          "color": "darkslategray",
          "dash": "solid"
         },
         "locationmode": "country names",
         "locations": [
          "China",
          "Brazil"
         ],
         "marker": {
          "symbol": "circle"
         },
         "mode": "lines",
         "name": "183",
         "showlegend": true,
         "type": "scattergeo"
        },
        {
         "geo": "geo",
         "hovertemplate": "line=184<br>pair=%{location}<extra></extra>",
         "legendgroup": "184",
         "line": {
          "color": "darkslategray",
          "dash": "solid"
         },
         "locationmode": "country names",
         "locations": [
          "Sweden",
          "Colombia"
         ],
         "marker": {
          "symbol": "circle"
         },
         "mode": "lines",
         "name": "184",
         "showlegend": true,
         "type": "scattergeo"
        },
        {
         "geo": "geo",
         "hovertemplate": "line=185<br>pair=%{location}<extra></extra>",
         "legendgroup": "185",
         "line": {
          "color": "darkslategray",
          "dash": "solid"
         },
         "locationmode": "country names",
         "locations": [
          "Sweden",
          "Spain"
         ],
         "marker": {
          "symbol": "circle"
         },
         "mode": "lines",
         "name": "185",
         "showlegend": true,
         "type": "scattergeo"
        },
        {
         "geo": "geo",
         "hovertemplate": "line=186<br>pair=%{location}<extra></extra>",
         "legendgroup": "186",
         "line": {
          "color": "darkslategray",
          "dash": "solid"
         },
         "locationmode": "country names",
         "locations": [
          "Bolivia",
          "Brazil"
         ],
         "marker": {
          "symbol": "circle"
         },
         "mode": "lines",
         "name": "186",
         "showlegend": true,
         "type": "scattergeo"
        },
        {
         "geo": "geo",
         "hovertemplate": "line=187<br>pair=%{location}<extra></extra>",
         "legendgroup": "187",
         "line": {
          "color": "darkslategray",
          "dash": "solid"
         },
         "locationmode": "country names",
         "locations": [
          "Kazakhstan",
          "Portugal"
         ],
         "marker": {
          "symbol": "circle"
         },
         "mode": "lines",
         "name": "187",
         "showlegend": true,
         "type": "scattergeo"
        },
        {
         "geo": "geo",
         "hovertemplate": "line=188<br>pair=%{location}<extra></extra>",
         "legendgroup": "188",
         "line": {
          "color": "darkslategray",
          "dash": "solid"
         },
         "locationmode": "country names",
         "locations": [
          "Kazakhstan",
          "Russia"
         ],
         "marker": {
          "symbol": "circle"
         },
         "mode": "lines",
         "name": "188",
         "showlegend": true,
         "type": "scattergeo"
        },
        {
         "geo": "geo",
         "hovertemplate": "line=189<br>pair=%{location}<extra></extra>",
         "legendgroup": "189",
         "line": {
          "color": "darkslategray",
          "dash": "solid"
         },
         "locationmode": "country names",
         "locations": [
          "India",
          "Colombia"
         ],
         "marker": {
          "symbol": "circle"
         },
         "mode": "lines",
         "name": "189",
         "showlegend": true,
         "type": "scattergeo"
        },
        {
         "geo": "geo",
         "hovertemplate": "line=190<br>pair=%{location}<extra></extra>",
         "legendgroup": "190",
         "line": {
          "color": "darkslategray",
          "dash": "solid"
         },
         "locationmode": "country names",
         "locations": [
          "India",
          "Spain"
         ],
         "marker": {
          "symbol": "circle"
         },
         "mode": "lines",
         "name": "190",
         "showlegend": true,
         "type": "scattergeo"
        },
        {
         "geo": "geo",
         "hovertemplate": "line=191<br>pair=%{location}<extra></extra>",
         "legendgroup": "191",
         "line": {
          "color": "darkslategray",
          "dash": "solid"
         },
         "locationmode": "country names",
         "locations": [
          "India",
          "Mexico"
         ],
         "marker": {
          "symbol": "circle"
         },
         "mode": "lines",
         "name": "191",
         "showlegend": true,
         "type": "scattergeo"
        },
        {
         "geo": "geo",
         "hovertemplate": "line=192<br>pair=%{location}<extra></extra>",
         "legendgroup": "192",
         "line": {
          "color": "darkslategray",
          "dash": "solid"
         },
         "locationmode": "country names",
         "locations": [
          "Puerto Rico",
          "Colombia"
         ],
         "marker": {
          "symbol": "circle"
         },
         "mode": "lines",
         "name": "192",
         "showlegend": true,
         "type": "scattergeo"
        },
        {
         "geo": "geo",
         "hovertemplate": "line=193<br>pair=%{location}<extra></extra>",
         "legendgroup": "193",
         "line": {
          "color": "darkslategray",
          "dash": "solid"
         },
         "locationmode": "country names",
         "locations": [
          "Honduras",
          "Spain"
         ],
         "marker": {
          "symbol": "circle"
         },
         "mode": "lines",
         "name": "193",
         "showlegend": true,
         "type": "scattergeo"
        },
        {
         "geo": "geo",
         "hovertemplate": "line=194<br>pair=%{location}<extra></extra>",
         "legendgroup": "194",
         "line": {
          "color": "darkslategray",
          "dash": "solid"
         },
         "locationmode": "country names",
         "locations": [
          "Uruguay",
          "Colombia"
         ],
         "marker": {
          "symbol": "circle"
         },
         "mode": "lines",
         "name": "194",
         "showlegend": true,
         "type": "scattergeo"
        },
        {
         "geo": "geo",
         "hovertemplate": "line=195<br>pair=%{location}<extra></extra>",
         "legendgroup": "195",
         "line": {
          "color": "darkslategray",
          "dash": "solid"
         },
         "locationmode": "country names",
         "locations": [
          "Japan",
          "Brazil"
         ],
         "marker": {
          "symbol": "circle"
         },
         "mode": "lines",
         "name": "195",
         "showlegend": true,
         "type": "scattergeo"
        },
        {
         "geo": "geo",
         "hovertemplate": "line=196<br>pair=%{location}<extra></extra>",
         "legendgroup": "196",
         "line": {
          "color": "darkslategray",
          "dash": "solid"
         },
         "locationmode": "country names",
         "locations": [
          "Japan",
          "Mexico"
         ],
         "marker": {
          "symbol": "circle"
         },
         "mode": "lines",
         "name": "196",
         "showlegend": true,
         "type": "scattergeo"
        },
        {
         "geo": "geo",
         "hovertemplate": "line=197<br>pair=%{location}<extra></extra>",
         "legendgroup": "197",
         "line": {
          "color": "darkslategray",
          "dash": "solid"
         },
         "locationmode": "country names",
         "locations": [
          "Hungary",
          "Colombia"
         ],
         "marker": {
          "symbol": "circle"
         },
         "mode": "lines",
         "name": "197",
         "showlegend": true,
         "type": "scattergeo"
        },
        {
         "geo": "geo",
         "hovertemplate": "line=198<br>pair=%{location}<extra></extra>",
         "legendgroup": "198",
         "line": {
          "color": "darkslategray",
          "dash": "solid"
         },
         "locationmode": "country names",
         "locations": [
          "Hungary",
          "Belgium"
         ],
         "marker": {
          "symbol": "circle"
         },
         "mode": "lines",
         "name": "198",
         "showlegend": true,
         "type": "scattergeo"
        },
        {
         "geo": "geo",
         "hovertemplate": "line=199<br>pair=%{location}<extra></extra>",
         "legendgroup": "199",
         "line": {
          "color": "darkslategray",
          "dash": "solid"
         },
         "locationmode": "country names",
         "locations": [
          "Armenia",
          "Colombia"
         ],
         "marker": {
          "symbol": "circle"
         },
         "mode": "lines",
         "name": "199",
         "showlegend": true,
         "type": "scattergeo"
        },
        {
         "geo": "geo",
         "hovertemplate": "line=200<br>pair=%{location}<extra></extra>",
         "legendgroup": "200",
         "line": {
          "color": "darkslategray",
          "dash": "solid"
         },
         "locationmode": "country names",
         "locations": [
          "Norway",
          "Poland"
         ],
         "marker": {
          "symbol": "circle"
         },
         "mode": "lines",
         "name": "200",
         "showlegend": true,
         "type": "scattergeo"
        },
        {
         "geo": "geo",
         "hovertemplate": "line=201<br>pair=%{location}<extra></extra>",
         "legendgroup": "201",
         "line": {
          "color": "darkslategray",
          "dash": "solid"
         },
         "locationmode": "country names",
         "locations": [
          "Indonesia",
          "Portugal"
         ],
         "marker": {
          "symbol": "circle"
         },
         "mode": "lines",
         "name": "201",
         "showlegend": true,
         "type": "scattergeo"
        },
        {
         "geo": "geo",
         "hovertemplate": "line=202<br>pair=%{location}<extra></extra>",
         "legendgroup": "202",
         "line": {
          "color": "darkslategray",
          "dash": "solid"
         },
         "locationmode": "country names",
         "locations": [
          "Romania",
          "Mexico"
         ],
         "marker": {
          "symbol": "circle"
         },
         "mode": "lines",
         "name": "202",
         "showlegend": true,
         "type": "scattergeo"
        },
        {
         "geo": "geo",
         "hovertemplate": "line=203<br>pair=%{location}<extra></extra>",
         "legendgroup": "203",
         "line": {
          "color": "darkslategray",
          "dash": "solid"
         },
         "locationmode": "country names",
         "locations": [
          "Austria",
          "Ecuador"
         ],
         "marker": {
          "symbol": "circle"
         },
         "mode": "lines",
         "name": "203",
         "showlegend": true,
         "type": "scattergeo"
        },
        {
         "geo": "geo",
         "hovertemplate": "line=204<br>pair=%{location}<extra></extra>",
         "legendgroup": "204",
         "line": {
          "color": "darkslategray",
          "dash": "solid"
         },
         "locationmode": "country names",
         "locations": [
          "Costa Rica",
          "Colombia"
         ],
         "marker": {
          "symbol": "circle"
         },
         "mode": "lines",
         "name": "204",
         "showlegend": true,
         "type": "scattergeo"
        },
        {
         "geo": "geo",
         "hovertemplate": "line=205<br>pair=%{location}<extra></extra>",
         "legendgroup": "205",
         "line": {
          "color": "darkslategray",
          "dash": "solid"
         },
         "locationmode": "country names",
         "locations": [
          "Ireland",
          "Colombia"
         ],
         "marker": {
          "symbol": "circle"
         },
         "mode": "lines",
         "name": "205",
         "showlegend": true,
         "type": "scattergeo"
        },
        {
         "geo": "geo",
         "hovertemplate": "line=206<br>pair=%{location}<extra></extra>",
         "legendgroup": "206",
         "line": {
          "color": "darkslategray",
          "dash": "solid"
         },
         "locationmode": "country names",
         "locations": [
          "Slovakia",
          "Mexico"
         ],
         "marker": {
          "symbol": "circle"
         },
         "mode": "lines",
         "name": "206",
         "showlegend": true,
         "type": "scattergeo"
        },
        {
         "geo": "geo",
         "hovertemplate": "line=207<br>pair=%{location}<extra></extra>",
         "legendgroup": "207",
         "line": {
          "color": "darkslategray",
          "dash": "solid"
         },
         "locationmode": "country names",
         "locations": [
          "United Arab Emirates",
          "Colombia"
         ],
         "marker": {
          "symbol": "circle"
         },
         "mode": "lines",
         "name": "207",
         "showlegend": true,
         "type": "scattergeo"
        }
       ],
       "layout": {
        "geo": {
         "center": {
          "lat": 0.031145232565153898,
          "lon": 0.1096885059579833
         },
         "countrycolor": "Black",
         "domain": {
          "x": [
           0,
           1
          ],
          "y": [
           0,
           1
          ]
         },
         "landcolor": "lightgray",
         "lataxis": {
          "showgrid": false
         },
         "lonaxis": {
          "showgrid": false
         },
         "projection": {
          "rotation": {
           "lon": 0.1096885059579833
          },
          "scale": 0.9972312513520695
         },
         "showcountries": true
        },
        "height": 400,
        "legend": {
         "title": {
          "text": "line"
         },
         "tracegroupgap": 0
        },
        "margin": {
         "b": 1,
         "l": 1,
         "r": 1,
         "t": 1
        },
        "showlegend": false,
        "template": {
         "data": {
          "bar": [
           {
            "error_x": {
             "color": "#2a3f5f"
            },
            "error_y": {
             "color": "#2a3f5f"
            },
            "marker": {
             "line": {
              "color": "#E5ECF6",
              "width": 0.5
             },
             "pattern": {
              "fillmode": "overlay",
              "size": 10,
              "solidity": 0.2
             }
            },
            "type": "bar"
           }
          ],
          "barpolar": [
           {
            "marker": {
             "line": {
              "color": "#E5ECF6",
              "width": 0.5
             },
             "pattern": {
              "fillmode": "overlay",
              "size": 10,
              "solidity": 0.2
             }
            },
            "type": "barpolar"
           }
          ],
          "carpet": [
           {
            "aaxis": {
             "endlinecolor": "#2a3f5f",
             "gridcolor": "white",
             "linecolor": "white",
             "minorgridcolor": "white",
             "startlinecolor": "#2a3f5f"
            },
            "baxis": {
             "endlinecolor": "#2a3f5f",
             "gridcolor": "white",
             "linecolor": "white",
             "minorgridcolor": "white",
             "startlinecolor": "#2a3f5f"
            },
            "type": "carpet"
           }
          ],
          "choropleth": [
           {
            "colorbar": {
             "outlinewidth": 0,
             "ticks": ""
            },
            "type": "choropleth"
           }
          ],
          "contour": [
           {
            "colorbar": {
             "outlinewidth": 0,
             "ticks": ""
            },
            "colorscale": [
             [
              0,
              "#0d0887"
             ],
             [
              0.1111111111111111,
              "#46039f"
             ],
             [
              0.2222222222222222,
              "#7201a8"
             ],
             [
              0.3333333333333333,
              "#9c179e"
             ],
             [
              0.4444444444444444,
              "#bd3786"
             ],
             [
              0.5555555555555556,
              "#d8576b"
             ],
             [
              0.6666666666666666,
              "#ed7953"
             ],
             [
              0.7777777777777778,
              "#fb9f3a"
             ],
             [
              0.8888888888888888,
              "#fdca26"
             ],
             [
              1,
              "#f0f921"
             ]
            ],
            "type": "contour"
           }
          ],
          "contourcarpet": [
           {
            "colorbar": {
             "outlinewidth": 0,
             "ticks": ""
            },
            "type": "contourcarpet"
           }
          ],
          "heatmap": [
           {
            "colorbar": {
             "outlinewidth": 0,
             "ticks": ""
            },
            "colorscale": [
             [
              0,
              "#0d0887"
             ],
             [
              0.1111111111111111,
              "#46039f"
             ],
             [
              0.2222222222222222,
              "#7201a8"
             ],
             [
              0.3333333333333333,
              "#9c179e"
             ],
             [
              0.4444444444444444,
              "#bd3786"
             ],
             [
              0.5555555555555556,
              "#d8576b"
             ],
             [
              0.6666666666666666,
              "#ed7953"
             ],
             [
              0.7777777777777778,
              "#fb9f3a"
             ],
             [
              0.8888888888888888,
              "#fdca26"
             ],
             [
              1,
              "#f0f921"
             ]
            ],
            "type": "heatmap"
           }
          ],
          "heatmapgl": [
           {
            "colorbar": {
             "outlinewidth": 0,
             "ticks": ""
            },
            "colorscale": [
             [
              0,
              "#0d0887"
             ],
             [
              0.1111111111111111,
              "#46039f"
             ],
             [
              0.2222222222222222,
              "#7201a8"
             ],
             [
              0.3333333333333333,
              "#9c179e"
             ],
             [
              0.4444444444444444,
              "#bd3786"
             ],
             [
              0.5555555555555556,
              "#d8576b"
             ],
             [
              0.6666666666666666,
              "#ed7953"
             ],
             [
              0.7777777777777778,
              "#fb9f3a"
             ],
             [
              0.8888888888888888,
              "#fdca26"
             ],
             [
              1,
              "#f0f921"
             ]
            ],
            "type": "heatmapgl"
           }
          ],
          "histogram": [
           {
            "marker": {
             "pattern": {
              "fillmode": "overlay",
              "size": 10,
              "solidity": 0.2
             }
            },
            "type": "histogram"
           }
          ],
          "histogram2d": [
           {
            "colorbar": {
             "outlinewidth": 0,
             "ticks": ""
            },
            "colorscale": [
             [
              0,
              "#0d0887"
             ],
             [
              0.1111111111111111,
              "#46039f"
             ],
             [
              0.2222222222222222,
              "#7201a8"
             ],
             [
              0.3333333333333333,
              "#9c179e"
             ],
             [
              0.4444444444444444,
              "#bd3786"
             ],
             [
              0.5555555555555556,
              "#d8576b"
             ],
             [
              0.6666666666666666,
              "#ed7953"
             ],
             [
              0.7777777777777778,
              "#fb9f3a"
             ],
             [
              0.8888888888888888,
              "#fdca26"
             ],
             [
              1,
              "#f0f921"
             ]
            ],
            "type": "histogram2d"
           }
          ],
          "histogram2dcontour": [
           {
            "colorbar": {
             "outlinewidth": 0,
             "ticks": ""
            },
            "colorscale": [
             [
              0,
              "#0d0887"
             ],
             [
              0.1111111111111111,
              "#46039f"
             ],
             [
              0.2222222222222222,
              "#7201a8"
             ],
             [
              0.3333333333333333,
              "#9c179e"
             ],
             [
              0.4444444444444444,
              "#bd3786"
             ],
             [
              0.5555555555555556,
              "#d8576b"
             ],
             [
              0.6666666666666666,
              "#ed7953"
             ],
             [
              0.7777777777777778,
              "#fb9f3a"
             ],
             [
              0.8888888888888888,
              "#fdca26"
             ],
             [
              1,
              "#f0f921"
             ]
            ],
            "type": "histogram2dcontour"
           }
          ],
          "mesh3d": [
           {
            "colorbar": {
             "outlinewidth": 0,
             "ticks": ""
            },
            "type": "mesh3d"
           }
          ],
          "parcoords": [
           {
            "line": {
             "colorbar": {
              "outlinewidth": 0,
              "ticks": ""
             }
            },
            "type": "parcoords"
           }
          ],
          "pie": [
           {
            "automargin": true,
            "type": "pie"
           }
          ],
          "scatter": [
           {
            "fillpattern": {
             "fillmode": "overlay",
             "size": 10,
             "solidity": 0.2
            },
            "type": "scatter"
           }
          ],
          "scatter3d": [
           {
            "line": {
             "colorbar": {
              "outlinewidth": 0,
              "ticks": ""
             }
            },
            "marker": {
             "colorbar": {
              "outlinewidth": 0,
              "ticks": ""
             }
            },
            "type": "scatter3d"
           }
          ],
          "scattercarpet": [
           {
            "marker": {
             "colorbar": {
              "outlinewidth": 0,
              "ticks": ""
             }
            },
            "type": "scattercarpet"
           }
          ],
          "scattergeo": [
           {
            "marker": {
             "colorbar": {
              "outlinewidth": 0,
              "ticks": ""
             }
            },
            "type": "scattergeo"
           }
          ],
          "scattergl": [
           {
            "marker": {
             "colorbar": {
              "outlinewidth": 0,
              "ticks": ""
             }
            },
            "type": "scattergl"
           }
          ],
          "scattermapbox": [
           {
            "marker": {
             "colorbar": {
              "outlinewidth": 0,
              "ticks": ""
             }
            },
            "type": "scattermapbox"
           }
          ],
          "scatterpolar": [
           {
            "marker": {
             "colorbar": {
              "outlinewidth": 0,
              "ticks": ""
             }
            },
            "type": "scatterpolar"
           }
          ],
          "scatterpolargl": [
           {
            "marker": {
             "colorbar": {
              "outlinewidth": 0,
              "ticks": ""
             }
            },
            "type": "scatterpolargl"
           }
          ],
          "scatterternary": [
           {
            "marker": {
             "colorbar": {
              "outlinewidth": 0,
              "ticks": ""
             }
            },
            "type": "scatterternary"
           }
          ],
          "surface": [
           {
            "colorbar": {
             "outlinewidth": 0,
             "ticks": ""
            },
            "colorscale": [
             [
              0,
              "#0d0887"
             ],
             [
              0.1111111111111111,
              "#46039f"
             ],
             [
              0.2222222222222222,
              "#7201a8"
             ],
             [
              0.3333333333333333,
              "#9c179e"
             ],
             [
              0.4444444444444444,
              "#bd3786"
             ],
             [
              0.5555555555555556,
              "#d8576b"
             ],
             [
              0.6666666666666666,
              "#ed7953"
             ],
             [
              0.7777777777777778,
              "#fb9f3a"
             ],
             [
              0.8888888888888888,
              "#fdca26"
             ],
             [
              1,
              "#f0f921"
             ]
            ],
            "type": "surface"
           }
          ],
          "table": [
           {
            "cells": {
             "fill": {
              "color": "#EBF0F8"
             },
             "line": {
              "color": "white"
             }
            },
            "header": {
             "fill": {
              "color": "#C8D4E3"
             },
             "line": {
              "color": "white"
             }
            },
            "type": "table"
           }
          ]
         },
         "layout": {
          "annotationdefaults": {
           "arrowcolor": "#2a3f5f",
           "arrowhead": 0,
           "arrowwidth": 1
          },
          "autotypenumbers": "strict",
          "coloraxis": {
           "colorbar": {
            "outlinewidth": 0,
            "ticks": ""
           }
          },
          "colorscale": {
           "diverging": [
            [
             0,
             "#8e0152"
            ],
            [
             0.1,
             "#c51b7d"
            ],
            [
             0.2,
             "#de77ae"
            ],
            [
             0.3,
             "#f1b6da"
            ],
            [
             0.4,
             "#fde0ef"
            ],
            [
             0.5,
             "#f7f7f7"
            ],
            [
             0.6,
             "#e6f5d0"
            ],
            [
             0.7,
             "#b8e186"
            ],
            [
             0.8,
             "#7fbc41"
            ],
            [
             0.9,
             "#4d9221"
            ],
            [
             1,
             "#276419"
            ]
           ],
           "sequential": [
            [
             0,
             "#0d0887"
            ],
            [
             0.1111111111111111,
             "#46039f"
            ],
            [
             0.2222222222222222,
             "#7201a8"
            ],
            [
             0.3333333333333333,
             "#9c179e"
            ],
            [
             0.4444444444444444,
             "#bd3786"
            ],
            [
             0.5555555555555556,
             "#d8576b"
            ],
            [
             0.6666666666666666,
             "#ed7953"
            ],
            [
             0.7777777777777778,
             "#fb9f3a"
            ],
            [
             0.8888888888888888,
             "#fdca26"
            ],
            [
             1,
             "#f0f921"
            ]
           ],
           "sequentialminus": [
            [
             0,
             "#0d0887"
            ],
            [
             0.1111111111111111,
             "#46039f"
            ],
            [
             0.2222222222222222,
             "#7201a8"
            ],
            [
             0.3333333333333333,
             "#9c179e"
            ],
            [
             0.4444444444444444,
             "#bd3786"
            ],
            [
             0.5555555555555556,
             "#d8576b"
            ],
            [
             0.6666666666666666,
             "#ed7953"
            ],
            [
             0.7777777777777778,
             "#fb9f3a"
            ],
            [
             0.8888888888888888,
             "#fdca26"
            ],
            [
             1,
             "#f0f921"
            ]
           ]
          },
          "colorway": [
           "#636efa",
           "#EF553B",
           "#00cc96",
           "#ab63fa",
           "#FFA15A",
           "#19d3f3",
           "#FF6692",
           "#B6E880",
           "#FF97FF",
           "#FECB52"
          ],
          "font": {
           "color": "#2a3f5f"
          },
          "geo": {
           "bgcolor": "white",
           "lakecolor": "white",
           "landcolor": "#E5ECF6",
           "showlakes": true,
           "showland": true,
           "subunitcolor": "white"
          },
          "hoverlabel": {
           "align": "left"
          },
          "hovermode": "closest",
          "mapbox": {
           "style": "light"
          },
          "paper_bgcolor": "white",
          "plot_bgcolor": "#E5ECF6",
          "polar": {
           "angularaxis": {
            "gridcolor": "white",
            "linecolor": "white",
            "ticks": ""
           },
           "bgcolor": "#E5ECF6",
           "radialaxis": {
            "gridcolor": "white",
            "linecolor": "white",
            "ticks": ""
           }
          },
          "scene": {
           "xaxis": {
            "backgroundcolor": "#E5ECF6",
            "gridcolor": "white",
            "gridwidth": 2,
            "linecolor": "white",
            "showbackground": true,
            "ticks": "",
            "zerolinecolor": "white"
           },
           "yaxis": {
            "backgroundcolor": "#E5ECF6",
            "gridcolor": "white",
            "gridwidth": 2,
            "linecolor": "white",
            "showbackground": true,
            "ticks": "",
            "zerolinecolor": "white"
           },
           "zaxis": {
            "backgroundcolor": "#E5ECF6",
            "gridcolor": "white",
            "gridwidth": 2,
            "linecolor": "white",
            "showbackground": true,
            "ticks": "",
            "zerolinecolor": "white"
           }
          },
          "shapedefaults": {
           "line": {
            "color": "#2a3f5f"
           }
          },
          "ternary": {
           "aaxis": {
            "gridcolor": "white",
            "linecolor": "white",
            "ticks": ""
           },
           "baxis": {
            "gridcolor": "white",
            "linecolor": "white",
            "ticks": ""
           },
           "bgcolor": "#E5ECF6",
           "caxis": {
            "gridcolor": "white",
            "linecolor": "white",
            "ticks": ""
           }
          },
          "title": {
           "x": 0.05
          },
          "xaxis": {
           "automargin": true,
           "gridcolor": "white",
           "linecolor": "white",
           "ticks": "",
           "title": {
            "standoff": 15
           },
           "zerolinecolor": "white",
           "zerolinewidth": 2
          },
          "yaxis": {
           "automargin": true,
           "gridcolor": "white",
           "linecolor": "white",
           "ticks": "",
           "title": {
            "standoff": 15
           },
           "zerolinecolor": "white",
           "zerolinewidth": 2
          }
         }
        },
        "width": 700
       }
      },
      "image/png": "[encoded data removed]",
      "text/html": [
       "<div>                            <div id=\"c8b390e1-93df-451d-b8a0-8a699bd6c583\" class=\"plotly-graph-div\" style=\"height:400px; width:700px;\"></div>            <script type=\"text/javascript\">                require([\"plotly\"], function(Plotly) {                    window.PLOTLYENV=window.PLOTLYENV || {};                                    if (document.getElementById(\"c8b390e1-93df-451d-b8a0-8a699bd6c583\")) {                    Plotly.newPlot(                        \"c8b390e1-93df-451d-b8a0-8a699bd6c583\",                        [{\"geo\":\"geo\",\"hovertemplate\":\"line=0<br>pair=%{location}<extra></extra>\",\"legendgroup\":\"0\",\"line\":{\"color\":\"darkslategray\",\"dash\":\"solid\"},\"locationmode\":\"country names\",\"locations\":[\"Colombia\",\"Spain\"],\"marker\":{\"symbol\":\"circle\"},\"mode\":\"lines\",\"name\":\"0\",\"showlegend\":true,\"type\":\"scattergeo\"},{\"geo\":\"geo\",\"hovertemplate\":\"line=1<br>pair=%{location}<extra></extra>\",\"legendgroup\":\"1\",\"line\":{\"color\":\"darkslategray\",\"dash\":\"solid\"},\"locationmode\":\"country names\",\"locations\":[\"Colombia\",\"Brazil\"],\"marker\":{\"symbol\":\"circle\"},\"mode\":\"lines\",\"name\":\"1\",\"showlegend\":true,\"type\":\"scattergeo\"},{\"geo\":\"geo\",\"hovertemplate\":\"line=2<br>pair=%{location}<extra></extra>\",\"legendgroup\":\"2\",\"line\":{\"color\":\"darkslategray\",\"dash\":\"solid\"},\"locationmode\":\"country names\",\"locations\":[\"Colombia\",\"Mexico\"],\"marker\":{\"symbol\":\"circle\"},\"mode\":\"lines\",\"name\":\"2\",\"showlegend\":true,\"type\":\"scattergeo\"},{\"geo\":\"geo\",\"hovertemplate\":\"line=3<br>pair=%{location}<extra></extra>\",\"legendgroup\":\"3\",\"line\":{\"color\":\"darkslategray\",\"dash\":\"solid\"},\"locationmode\":\"country names\",\"locations\":[\"Colombia\",\"Cuba\"],\"marker\":{\"symbol\":\"circle\"},\"mode\":\"lines\",\"name\":\"3\",\"showlegend\":true,\"type\":\"scattergeo\"},{\"geo\":\"geo\",\"hovertemplate\":\"line=4<br>pair=%{location}<extra></extra>\",\"legendgroup\":\"4\",\"line\":{\"color\":\"darkslategray\",\"dash\":\"solid\"},\"locationmode\":\"country names\",\"locations\":[\"Colombia\",\"Chile\"],\"marker\":{\"symbol\":\"circle\"},\"mode\":\"lines\",\"name\":\"4\",\"showlegend\":true,\"type\":\"scattergeo\"},{\"geo\":\"geo\",\"hovertemplate\":\"line=5<br>pair=%{location}<extra></extra>\",\"legendgroup\":\"5\",\"line\":{\"color\":\"darkslategray\",\"dash\":\"solid\"},\"locationmode\":\"country names\",\"locations\":[\"Colombia\",\"United States\"],\"marker\":{\"symbol\":\"circle\"},\"mode\":\"lines\",\"name\":\"5\",\"showlegend\":true,\"type\":\"scattergeo\"},{\"geo\":\"geo\",\"hovertemplate\":\"line=6<br>pair=%{location}<extra></extra>\",\"legendgroup\":\"6\",\"line\":{\"color\":\"darkslategray\",\"dash\":\"solid\"},\"locationmode\":\"country names\",\"locations\":[\"Colombia\",\"Argentina\"],\"marker\":{\"symbol\":\"circle\"},\"mode\":\"lines\",\"name\":\"6\",\"showlegend\":true,\"type\":\"scattergeo\"},{\"geo\":\"geo\",\"hovertemplate\":\"line=7<br>pair=%{location}<extra></extra>\",\"legendgroup\":\"7\",\"line\":{\"color\":\"darkslategray\",\"dash\":\"solid\"},\"locationmode\":\"country names\",\"locations\":[\"Colombia\",\"Ecuador\"],\"marker\":{\"symbol\":\"circle\"},\"mode\":\"lines\",\"name\":\"7\",\"showlegend\":true,\"type\":\"scattergeo\"},{\"geo\":\"geo\",\"hovertemplate\":\"line=8<br>pair=%{location}<extra></extra>\",\"legendgroup\":\"8\",\"line\":{\"color\":\"darkslategray\",\"dash\":\"solid\"},\"locationmode\":\"country names\",\"locations\":[\"Colombia\",\"Portugal\"],\"marker\":{\"symbol\":\"circle\"},\"mode\":\"lines\",\"name\":\"8\",\"showlegend\":true,\"type\":\"scattergeo\"},{\"geo\":\"geo\",\"hovertemplate\":\"line=9<br>pair=%{location}<extra></extra>\",\"legendgroup\":\"9\",\"line\":{\"color\":\"darkslategray\",\"dash\":\"solid\"},\"locationmode\":\"country names\",\"locations\":[\"Colombia\",\"Venezuela\"],\"marker\":{\"symbol\":\"circle\"},\"mode\":\"lines\",\"name\":\"9\",\"showlegend\":true,\"type\":\"scattergeo\"},{\"geo\":\"geo\",\"hovertemplate\":\"line=10<br>pair=%{location}<extra></extra>\",\"legendgroup\":\"10\",\"line\":{\"color\":\"darkslategray\",\"dash\":\"solid\"},\"locationmode\":\"country names\",\"locations\":[\"Colombia\",\"United Kingdom\"],\"marker\":{\"symbol\":\"circle\"},\"mode\":\"lines\",\"name\":\"10\",\"showlegend\":true,\"type\":\"scattergeo\"},{\"geo\":\"geo\",\"hovertemplate\":\"line=11<br>pair=%{location}<extra></extra>\",\"legendgroup\":\"11\",\"line\":{\"color\":\"darkslategray\",\"dash\":\"solid\"},\"locationmode\":\"country names\",\"locations\":[\"Colombia\",\"France\"],\"marker\":{\"symbol\":\"circle\"},\"mode\":\"lines\",\"name\":\"11\",\"showlegend\":true,\"type\":\"scattergeo\"},{\"geo\":\"geo\",\"hovertemplate\":\"line=12<br>pair=%{location}<extra></extra>\",\"legendgroup\":\"12\",\"line\":{\"color\":\"darkslategray\",\"dash\":\"solid\"},\"locationmode\":\"country names\",\"locations\":[\"Colombia\",\"[UKN]\"],\"marker\":{\"symbol\":\"circle\"},\"mode\":\"lines\",\"name\":\"12\",\"showlegend\":true,\"type\":\"scattergeo\"},{\"geo\":\"geo\",\"hovertemplate\":\"line=13<br>pair=%{location}<extra></extra>\",\"legendgroup\":\"13\",\"line\":{\"color\":\"darkslategray\",\"dash\":\"solid\"},\"locationmode\":\"country names\",\"locations\":[\"Colombia\",\"Belgium\"],\"marker\":{\"symbol\":\"circle\"},\"mode\":\"lines\",\"name\":\"13\",\"showlegend\":true,\"type\":\"scattergeo\"},{\"geo\":\"geo\",\"hovertemplate\":\"line=14<br>pair=%{location}<extra></extra>\",\"legendgroup\":\"14\",\"line\":{\"color\":\"darkslategray\",\"dash\":\"solid\"},\"locationmode\":\"country names\",\"locations\":[\"Colombia\",\"Italy\"],\"marker\":{\"symbol\":\"circle\"},\"mode\":\"lines\",\"name\":\"14\",\"showlegend\":true,\"type\":\"scattergeo\"},{\"geo\":\"geo\",\"hovertemplate\":\"line=15<br>pair=%{location}<extra></extra>\",\"legendgroup\":\"15\",\"line\":{\"color\":\"darkslategray\",\"dash\":\"solid\"},\"locationmode\":\"country names\",\"locations\":[\"Colombia\",\"Switzerland\"],\"marker\":{\"symbol\":\"circle\"},\"mode\":\"lines\",\"name\":\"15\",\"showlegend\":true,\"type\":\"scattergeo\"},{\"geo\":\"geo\",\"hovertemplate\":\"line=16<br>pair=%{location}<extra></extra>\",\"legendgroup\":\"16\",\"line\":{\"color\":\"darkslategray\",\"dash\":\"solid\"},\"locationmode\":\"country names\",\"locations\":[\"Colombia\",\"Germany\"],\"marker\":{\"symbol\":\"circle\"},\"mode\":\"lines\",\"name\":\"16\",\"showlegend\":true,\"type\":\"scattergeo\"},{\"geo\":\"geo\",\"hovertemplate\":\"line=17<br>pair=%{location}<extra></extra>\",\"legendgroup\":\"17\",\"line\":{\"color\":\"darkslategray\",\"dash\":\"solid\"},\"locationmode\":\"country names\",\"locations\":[\"Colombia\",\"Canada\"],\"marker\":{\"symbol\":\"circle\"},\"mode\":\"lines\",\"name\":\"17\",\"showlegend\":true,\"type\":\"scattergeo\"},{\"geo\":\"geo\",\"hovertemplate\":\"line=18<br>pair=%{location}<extra></extra>\",\"legendgroup\":\"18\",\"line\":{\"color\":\"darkslategray\",\"dash\":\"solid\"},\"locationmode\":\"country names\",\"locations\":[\"Colombia\",\"Netherlands\"],\"marker\":{\"symbol\":\"circle\"},\"mode\":\"lines\",\"name\":\"18\",\"showlegend\":true,\"type\":\"scattergeo\"},{\"geo\":\"geo\",\"hovertemplate\":\"line=19<br>pair=%{location}<extra></extra>\",\"legendgroup\":\"19\",\"line\":{\"color\":\"darkslategray\",\"dash\":\"solid\"},\"locationmode\":\"country names\",\"locations\":[\"Colombia\",\"Australia\"],\"marker\":{\"symbol\":\"circle\"},\"mode\":\"lines\",\"name\":\"19\",\"showlegend\":true,\"type\":\"scattergeo\"},{\"geo\":\"geo\",\"hovertemplate\":\"line=20<br>pair=%{location}<extra></extra>\",\"legendgroup\":\"20\",\"line\":{\"color\":\"darkslategray\",\"dash\":\"solid\"},\"locationmode\":\"country names\",\"locations\":[\"Colombia\",\"Sweden\"],\"marker\":{\"symbol\":\"circle\"},\"mode\":\"lines\",\"name\":\"20\",\"showlegend\":true,\"type\":\"scattergeo\"},{\"geo\":\"geo\",\"hovertemplate\":\"line=21<br>pair=%{location}<extra></extra>\",\"legendgroup\":\"21\",\"line\":{\"color\":\"darkslategray\",\"dash\":\"solid\"},\"locationmode\":\"country names\",\"locations\":[\"Colombia\",\"India\"],\"marker\":{\"symbol\":\"circle\"},\"mode\":\"lines\",\"name\":\"21\",\"showlegend\":true,\"type\":\"scattergeo\"},{\"geo\":\"geo\",\"hovertemplate\":\"line=22<br>pair=%{location}<extra></extra>\",\"legendgroup\":\"22\",\"line\":{\"color\":\"darkslategray\",\"dash\":\"solid\"},\"locationmode\":\"country names\",\"locations\":[\"Colombia\",\"Puerto Rico\"],\"marker\":{\"symbol\":\"circle\"},\"mode\":\"lines\",\"name\":\"22\",\"showlegend\":true,\"type\":\"scattergeo\"},{\"geo\":\"geo\",\"hovertemplate\":\"line=23<br>pair=%{location}<extra></extra>\",\"legendgroup\":\"23\",\"line\":{\"color\":\"darkslategray\",\"dash\":\"solid\"},\"locationmode\":\"country names\",\"locations\":[\"Colombia\",\"Uruguay\"],\"marker\":{\"symbol\":\"circle\"},\"mode\":\"lines\",\"name\":\"23\",\"showlegend\":true,\"type\":\"scattergeo\"},{\"geo\":\"geo\",\"hovertemplate\":\"line=24<br>pair=%{location}<extra></extra>\",\"legendgroup\":\"24\",\"line\":{\"color\":\"darkslategray\",\"dash\":\"solid\"},\"locationmode\":\"country names\",\"locations\":[\"Colombia\",\"Hungary\"],\"marker\":{\"symbol\":\"circle\"},\"mode\":\"lines\",\"name\":\"24\",\"showlegend\":true,\"type\":\"scattergeo\"},{\"geo\":\"geo\",\"hovertemplate\":\"line=25<br>pair=%{location}<extra></extra>\",\"legendgroup\":\"25\",\"line\":{\"color\":\"darkslategray\",\"dash\":\"solid\"},\"locationmode\":\"country names\",\"locations\":[\"Colombia\",\"Armenia\"],\"marker\":{\"symbol\":\"circle\"},\"mode\":\"lines\",\"name\":\"25\",\"showlegend\":true,\"type\":\"scattergeo\"},{\"geo\":\"geo\",\"hovertemplate\":\"line=26<br>pair=%{location}<extra></extra>\",\"legendgroup\":\"26\",\"line\":{\"color\":\"darkslategray\",\"dash\":\"solid\"},\"locationmode\":\"country names\",\"locations\":[\"Colombia\",\"Costa Rica\"],\"marker\":{\"symbol\":\"circle\"},\"mode\":\"lines\",\"name\":\"26\",\"showlegend\":true,\"type\":\"scattergeo\"},{\"geo\":\"geo\",\"hovertemplate\":\"line=27<br>pair=%{location}<extra></extra>\",\"legendgroup\":\"27\",\"line\":{\"color\":\"darkslategray\",\"dash\":\"solid\"},\"locationmode\":\"country names\",\"locations\":[\"Colombia\",\"Ireland\"],\"marker\":{\"symbol\":\"circle\"},\"mode\":\"lines\",\"name\":\"27\",\"showlegend\":true,\"type\":\"scattergeo\"},{\"geo\":\"geo\",\"hovertemplate\":\"line=28<br>pair=%{location}<extra></extra>\",\"legendgroup\":\"28\",\"line\":{\"color\":\"darkslategray\",\"dash\":\"solid\"},\"locationmode\":\"country names\",\"locations\":[\"Colombia\",\"United Arab Emirates\"],\"marker\":{\"symbol\":\"circle\"},\"mode\":\"lines\",\"name\":\"28\",\"showlegend\":true,\"type\":\"scattergeo\"},{\"geo\":\"geo\",\"hovertemplate\":\"line=29<br>pair=%{location}<extra></extra>\",\"legendgroup\":\"29\",\"line\":{\"color\":\"darkslategray\",\"dash\":\"solid\"},\"locationmode\":\"country names\",\"locations\":[\"Spain\",\"Colombia\"],\"marker\":{\"symbol\":\"circle\"},\"mode\":\"lines\",\"name\":\"29\",\"showlegend\":true,\"type\":\"scattergeo\"},{\"geo\":\"geo\",\"hovertemplate\":\"line=30<br>pair=%{location}<extra></extra>\",\"legendgroup\":\"30\",\"line\":{\"color\":\"darkslategray\",\"dash\":\"solid\"},\"locationmode\":\"country names\",\"locations\":[\"Spain\",\"Brazil\"],\"marker\":{\"symbol\":\"circle\"},\"mode\":\"lines\",\"name\":\"30\",\"showlegend\":true,\"type\":\"scattergeo\"},{\"geo\":\"geo\",\"hovertemplate\":\"line=31<br>pair=%{location}<extra></extra>\",\"legendgroup\":\"31\",\"line\":{\"color\":\"darkslategray\",\"dash\":\"solid\"},\"locationmode\":\"country names\",\"locations\":[\"Spain\",\"Mexico\"],\"marker\":{\"symbol\":\"circle\"},\"mode\":\"lines\",\"name\":\"31\",\"showlegend\":true,\"type\":\"scattergeo\"},{\"geo\":\"geo\",\"hovertemplate\":\"line=32<br>pair=%{location}<extra></extra>\",\"legendgroup\":\"32\",\"line\":{\"color\":\"darkslategray\",\"dash\":\"solid\"},\"locationmode\":\"country names\",\"locations\":[\"Spain\",\"Cuba\"],\"marker\":{\"symbol\":\"circle\"},\"mode\":\"lines\",\"name\":\"32\",\"showlegend\":true,\"type\":\"scattergeo\"},{\"geo\":\"geo\",\"hovertemplate\":\"line=33<br>pair=%{location}<extra></extra>\",\"legendgroup\":\"33\",\"line\":{\"color\":\"darkslategray\",\"dash\":\"solid\"},\"locationmode\":\"country names\",\"locations\":[\"Spain\",\"Chile\"],\"marker\":{\"symbol\":\"circle\"},\"mode\":\"lines\",\"name\":\"33\",\"showlegend\":true,\"type\":\"scattergeo\"},{\"geo\":\"geo\",\"hovertemplate\":\"line=34<br>pair=%{location}<extra></extra>\",\"legendgroup\":\"34\",\"line\":{\"color\":\"darkslategray\",\"dash\":\"solid\"},\"locationmode\":\"country names\",\"locations\":[\"Spain\",\"United States\"],\"marker\":{\"symbol\":\"circle\"},\"mode\":\"lines\",\"name\":\"34\",\"showlegend\":true,\"type\":\"scattergeo\"},{\"geo\":\"geo\",\"hovertemplate\":\"line=35<br>pair=%{location}<extra></extra>\",\"legendgroup\":\"35\",\"line\":{\"color\":\"darkslategray\",\"dash\":\"solid\"},\"locationmode\":\"country names\",\"locations\":[\"Spain\",\"Argentina\"],\"marker\":{\"symbol\":\"circle\"},\"mode\":\"lines\",\"name\":\"35\",\"showlegend\":true,\"type\":\"scattergeo\"},{\"geo\":\"geo\",\"hovertemplate\":\"line=36<br>pair=%{location}<extra></extra>\",\"legendgroup\":\"36\",\"line\":{\"color\":\"darkslategray\",\"dash\":\"solid\"},\"locationmode\":\"country names\",\"locations\":[\"Spain\",\"Ecuador\"],\"marker\":{\"symbol\":\"circle\"},\"mode\":\"lines\",\"name\":\"36\",\"showlegend\":true,\"type\":\"scattergeo\"},{\"geo\":\"geo\",\"hovertemplate\":\"line=37<br>pair=%{location}<extra></extra>\",\"legendgroup\":\"37\",\"line\":{\"color\":\"darkslategray\",\"dash\":\"solid\"},\"locationmode\":\"country names\",\"locations\":[\"Spain\",\"Portugal\"],\"marker\":{\"symbol\":\"circle\"},\"mode\":\"lines\",\"name\":\"37\",\"showlegend\":true,\"type\":\"scattergeo\"},{\"geo\":\"geo\",\"hovertemplate\":\"line=38<br>pair=%{location}<extra></extra>\",\"legendgroup\":\"38\",\"line\":{\"color\":\"darkslategray\",\"dash\":\"solid\"},\"locationmode\":\"country names\",\"locations\":[\"Spain\",\"Venezuela\"],\"marker\":{\"symbol\":\"circle\"},\"mode\":\"lines\",\"name\":\"38\",\"showlegend\":true,\"type\":\"scattergeo\"},{\"geo\":\"geo\",\"hovertemplate\":\"line=39<br>pair=%{location}<extra></extra>\",\"legendgroup\":\"39\",\"line\":{\"color\":\"darkslategray\",\"dash\":\"solid\"},\"locationmode\":\"country names\",\"locations\":[\"Spain\",\"Peru\"],\"marker\":{\"symbol\":\"circle\"},\"mode\":\"lines\",\"name\":\"39\",\"showlegend\":true,\"type\":\"scattergeo\"},{\"geo\":\"geo\",\"hovertemplate\":\"line=40<br>pair=%{location}<extra></extra>\",\"legendgroup\":\"40\",\"line\":{\"color\":\"darkslategray\",\"dash\":\"solid\"},\"locationmode\":\"country names\",\"locations\":[\"Spain\",\"United Kingdom\"],\"marker\":{\"symbol\":\"circle\"},\"mode\":\"lines\",\"name\":\"40\",\"showlegend\":true,\"type\":\"scattergeo\"},{\"geo\":\"geo\",\"hovertemplate\":\"line=41<br>pair=%{location}<extra></extra>\",\"legendgroup\":\"41\",\"line\":{\"color\":\"darkslategray\",\"dash\":\"solid\"},\"locationmode\":\"country names\",\"locations\":[\"Spain\",\"France\"],\"marker\":{\"symbol\":\"circle\"},\"mode\":\"lines\",\"name\":\"41\",\"showlegend\":true,\"type\":\"scattergeo\"},{\"geo\":\"geo\",\"hovertemplate\":\"line=42<br>pair=%{location}<extra></extra>\",\"legendgroup\":\"42\",\"line\":{\"color\":\"darkslategray\",\"dash\":\"solid\"},\"locationmode\":\"country names\",\"locations\":[\"Spain\",\"[UKN]\"],\"marker\":{\"symbol\":\"circle\"},\"mode\":\"lines\",\"name\":\"42\",\"showlegend\":true,\"type\":\"scattergeo\"},{\"geo\":\"geo\",\"hovertemplate\":\"line=43<br>pair=%{location}<extra></extra>\",\"legendgroup\":\"43\",\"line\":{\"color\":\"darkslategray\",\"dash\":\"solid\"},\"locationmode\":\"country names\",\"locations\":[\"Spain\",\"Italy\"],\"marker\":{\"symbol\":\"circle\"},\"mode\":\"lines\",\"name\":\"43\",\"showlegend\":true,\"type\":\"scattergeo\"},{\"geo\":\"geo\",\"hovertemplate\":\"line=44<br>pair=%{location}<extra></extra>\",\"legendgroup\":\"44\",\"line\":{\"color\":\"darkslategray\",\"dash\":\"solid\"},\"locationmode\":\"country names\",\"locations\":[\"Spain\",\"Switzerland\"],\"marker\":{\"symbol\":\"circle\"},\"mode\":\"lines\",\"name\":\"44\",\"showlegend\":true,\"type\":\"scattergeo\"},{\"geo\":\"geo\",\"hovertemplate\":\"line=45<br>pair=%{location}<extra></extra>\",\"legendgroup\":\"45\",\"line\":{\"color\":\"darkslategray\",\"dash\":\"solid\"},\"locationmode\":\"country names\",\"locations\":[\"Spain\",\"Poland\"],\"marker\":{\"symbol\":\"circle\"},\"mode\":\"lines\",\"name\":\"45\",\"showlegend\":true,\"type\":\"scattergeo\"},{\"geo\":\"geo\",\"hovertemplate\":\"line=46<br>pair=%{location}<extra></extra>\",\"legendgroup\":\"46\",\"line\":{\"color\":\"darkslategray\",\"dash\":\"solid\"},\"locationmode\":\"country names\",\"locations\":[\"Spain\",\"Sweden\"],\"marker\":{\"symbol\":\"circle\"},\"mode\":\"lines\",\"name\":\"46\",\"showlegend\":true,\"type\":\"scattergeo\"},{\"geo\":\"geo\",\"hovertemplate\":\"line=47<br>pair=%{location}<extra></extra>\",\"legendgroup\":\"47\",\"line\":{\"color\":\"darkslategray\",\"dash\":\"solid\"},\"locationmode\":\"country names\",\"locations\":[\"Spain\",\"India\"],\"marker\":{\"symbol\":\"circle\"},\"mode\":\"lines\",\"name\":\"47\",\"showlegend\":true,\"type\":\"scattergeo\"},{\"geo\":\"geo\",\"hovertemplate\":\"line=48<br>pair=%{location}<extra></extra>\",\"legendgroup\":\"48\",\"line\":{\"color\":\"darkslategray\",\"dash\":\"solid\"},\"locationmode\":\"country names\",\"locations\":[\"Spain\",\"Honduras\"],\"marker\":{\"symbol\":\"circle\"},\"mode\":\"lines\",\"name\":\"48\",\"showlegend\":true,\"type\":\"scattergeo\"},{\"geo\":\"geo\",\"hovertemplate\":\"line=49<br>pair=%{location}<extra></extra>\",\"legendgroup\":\"49\",\"line\":{\"color\":\"darkslategray\",\"dash\":\"solid\"},\"locationmode\":\"country names\",\"locations\":[\"Brazil\",\"Colombia\"],\"marker\":{\"symbol\":\"circle\"},\"mode\":\"lines\",\"name\":\"49\",\"showlegend\":true,\"type\":\"scattergeo\"},{\"geo\":\"geo\",\"hovertemplate\":\"line=50<br>pair=%{location}<extra></extra>\",\"legendgroup\":\"50\",\"line\":{\"color\":\"darkslategray\",\"dash\":\"solid\"},\"locationmode\":\"country names\",\"locations\":[\"Brazil\",\"Spain\"],\"marker\":{\"symbol\":\"circle\"},\"mode\":\"lines\",\"name\":\"50\",\"showlegend\":true,\"type\":\"scattergeo\"},{\"geo\":\"geo\",\"hovertemplate\":\"line=51<br>pair=%{location}<extra></extra>\",\"legendgroup\":\"51\",\"line\":{\"color\":\"darkslategray\",\"dash\":\"solid\"},\"locationmode\":\"country names\",\"locations\":[\"Brazil\",\"Mexico\"],\"marker\":{\"symbol\":\"circle\"},\"mode\":\"lines\",\"name\":\"51\",\"showlegend\":true,\"type\":\"scattergeo\"},{\"geo\":\"geo\",\"hovertemplate\":\"line=52<br>pair=%{location}<extra></extra>\",\"legendgroup\":\"52\",\"line\":{\"color\":\"darkslategray\",\"dash\":\"solid\"},\"locationmode\":\"country names\",\"locations\":[\"Brazil\",\"Cuba\"],\"marker\":{\"symbol\":\"circle\"},\"mode\":\"lines\",\"name\":\"52\",\"showlegend\":true,\"type\":\"scattergeo\"},{\"geo\":\"geo\",\"hovertemplate\":\"line=53<br>pair=%{location}<extra></extra>\",\"legendgroup\":\"53\",\"line\":{\"color\":\"darkslategray\",\"dash\":\"solid\"},\"locationmode\":\"country names\",\"locations\":[\"Brazil\",\"United States\"],\"marker\":{\"symbol\":\"circle\"},\"mode\":\"lines\",\"name\":\"53\",\"showlegend\":true,\"type\":\"scattergeo\"},{\"geo\":\"geo\",\"hovertemplate\":\"line=54<br>pair=%{location}<extra></extra>\",\"legendgroup\":\"54\",\"line\":{\"color\":\"darkslategray\",\"dash\":\"solid\"},\"locationmode\":\"country names\",\"locations\":[\"Brazil\",\"Ecuador\"],\"marker\":{\"symbol\":\"circle\"},\"mode\":\"lines\",\"name\":\"54\",\"showlegend\":true,\"type\":\"scattergeo\"},{\"geo\":\"geo\",\"hovertemplate\":\"line=55<br>pair=%{location}<extra></extra>\",\"legendgroup\":\"55\",\"line\":{\"color\":\"darkslategray\",\"dash\":\"solid\"},\"locationmode\":\"country names\",\"locations\":[\"Brazil\",\"Portugal\"],\"marker\":{\"symbol\":\"circle\"},\"mode\":\"lines\",\"name\":\"55\",\"showlegend\":true,\"type\":\"scattergeo\"},{\"geo\":\"geo\",\"hovertemplate\":\"line=56<br>pair=%{location}<extra></extra>\",\"legendgroup\":\"56\",\"line\":{\"color\":\"darkslategray\",\"dash\":\"solid\"},\"locationmode\":\"country names\",\"locations\":[\"Brazil\",\"Venezuela\"],\"marker\":{\"symbol\":\"circle\"},\"mode\":\"lines\",\"name\":\"56\",\"showlegend\":true,\"type\":\"scattergeo\"},{\"geo\":\"geo\",\"hovertemplate\":\"line=57<br>pair=%{location}<extra></extra>\",\"legendgroup\":\"57\",\"line\":{\"color\":\"darkslategray\",\"dash\":\"solid\"},\"locationmode\":\"country names\",\"locations\":[\"Brazil\",\"Peru\"],\"marker\":{\"symbol\":\"circle\"},\"mode\":\"lines\",\"name\":\"57\",\"showlegend\":true,\"type\":\"scattergeo\"},{\"geo\":\"geo\",\"hovertemplate\":\"line=58<br>pair=%{location}<extra></extra>\",\"legendgroup\":\"58\",\"line\":{\"color\":\"darkslategray\",\"dash\":\"solid\"},\"locationmode\":\"country names\",\"locations\":[\"Brazil\",\"France\"],\"marker\":{\"symbol\":\"circle\"},\"mode\":\"lines\",\"name\":\"58\",\"showlegend\":true,\"type\":\"scattergeo\"},{\"geo\":\"geo\",\"hovertemplate\":\"line=59<br>pair=%{location}<extra></extra>\",\"legendgroup\":\"59\",\"line\":{\"color\":\"darkslategray\",\"dash\":\"solid\"},\"locationmode\":\"country names\",\"locations\":[\"Brazil\",\"Germany\"],\"marker\":{\"symbol\":\"circle\"},\"mode\":\"lines\",\"name\":\"59\",\"showlegend\":true,\"type\":\"scattergeo\"},{\"geo\":\"geo\",\"hovertemplate\":\"line=60<br>pair=%{location}<extra></extra>\",\"legendgroup\":\"60\",\"line\":{\"color\":\"darkslategray\",\"dash\":\"solid\"},\"locationmode\":\"country names\",\"locations\":[\"Brazil\",\"Canada\"],\"marker\":{\"symbol\":\"circle\"},\"mode\":\"lines\",\"name\":\"60\",\"showlegend\":true,\"type\":\"scattergeo\"},{\"geo\":\"geo\",\"hovertemplate\":\"line=61<br>pair=%{location}<extra></extra>\",\"legendgroup\":\"61\",\"line\":{\"color\":\"darkslategray\",\"dash\":\"solid\"},\"locationmode\":\"country names\",\"locations\":[\"Brazil\",\"Netherlands\"],\"marker\":{\"symbol\":\"circle\"},\"mode\":\"lines\",\"name\":\"61\",\"showlegend\":true,\"type\":\"scattergeo\"},{\"geo\":\"geo\",\"hovertemplate\":\"line=62<br>pair=%{location}<extra></extra>\",\"legendgroup\":\"62\",\"line\":{\"color\":\"darkslategray\",\"dash\":\"solid\"},\"locationmode\":\"country names\",\"locations\":[\"Brazil\",\"China\"],\"marker\":{\"symbol\":\"circle\"},\"mode\":\"lines\",\"name\":\"62\",\"showlegend\":true,\"type\":\"scattergeo\"},{\"geo\":\"geo\",\"hovertemplate\":\"line=63<br>pair=%{location}<extra></extra>\",\"legendgroup\":\"63\",\"line\":{\"color\":\"darkslategray\",\"dash\":\"solid\"},\"locationmode\":\"country names\",\"locations\":[\"Brazil\",\"Bolivia\"],\"marker\":{\"symbol\":\"circle\"},\"mode\":\"lines\",\"name\":\"63\",\"showlegend\":true,\"type\":\"scattergeo\"},{\"geo\":\"geo\",\"hovertemplate\":\"line=64<br>pair=%{location}<extra></extra>\",\"legendgroup\":\"64\",\"line\":{\"color\":\"darkslategray\",\"dash\":\"solid\"},\"locationmode\":\"country names\",\"locations\":[\"Brazil\",\"Japan\"],\"marker\":{\"symbol\":\"circle\"},\"mode\":\"lines\",\"name\":\"64\",\"showlegend\":true,\"type\":\"scattergeo\"},{\"geo\":\"geo\",\"hovertemplate\":\"line=65<br>pair=%{location}<extra></extra>\",\"legendgroup\":\"65\",\"line\":{\"color\":\"darkslategray\",\"dash\":\"solid\"},\"locationmode\":\"country names\",\"locations\":[\"Mexico\",\"Colombia\"],\"marker\":{\"symbol\":\"circle\"},\"mode\":\"lines\",\"name\":\"65\",\"showlegend\":true,\"type\":\"scattergeo\"},{\"geo\":\"geo\",\"hovertemplate\":\"line=66<br>pair=%{location}<extra></extra>\",\"legendgroup\":\"66\",\"line\":{\"color\":\"darkslategray\",\"dash\":\"solid\"},\"locationmode\":\"country names\",\"locations\":[\"Mexico\",\"Spain\"],\"marker\":{\"symbol\":\"circle\"},\"mode\":\"lines\",\"name\":\"66\",\"showlegend\":true,\"type\":\"scattergeo\"},{\"geo\":\"geo\",\"hovertemplate\":\"line=67<br>pair=%{location}<extra></extra>\",\"legendgroup\":\"67\",\"line\":{\"color\":\"darkslategray\",\"dash\":\"solid\"},\"locationmode\":\"country names\",\"locations\":[\"Mexico\",\"Brazil\"],\"marker\":{\"symbol\":\"circle\"},\"mode\":\"lines\",\"name\":\"67\",\"showlegend\":true,\"type\":\"scattergeo\"},{\"geo\":\"geo\",\"hovertemplate\":\"line=68<br>pair=%{location}<extra></extra>\",\"legendgroup\":\"68\",\"line\":{\"color\":\"darkslategray\",\"dash\":\"solid\"},\"locationmode\":\"country names\",\"locations\":[\"Mexico\",\"Cuba\"],\"marker\":{\"symbol\":\"circle\"},\"mode\":\"lines\",\"name\":\"68\",\"showlegend\":true,\"type\":\"scattergeo\"},{\"geo\":\"geo\",\"hovertemplate\":\"line=69<br>pair=%{location}<extra></extra>\",\"legendgroup\":\"69\",\"line\":{\"color\":\"darkslategray\",\"dash\":\"solid\"},\"locationmode\":\"country names\",\"locations\":[\"Mexico\",\"Chile\"],\"marker\":{\"symbol\":\"circle\"},\"mode\":\"lines\",\"name\":\"69\",\"showlegend\":true,\"type\":\"scattergeo\"},{\"geo\":\"geo\",\"hovertemplate\":\"line=70<br>pair=%{location}<extra></extra>\",\"legendgroup\":\"70\",\"line\":{\"color\":\"darkslategray\",\"dash\":\"solid\"},\"locationmode\":\"country names\",\"locations\":[\"Mexico\",\"United States\"],\"marker\":{\"symbol\":\"circle\"},\"mode\":\"lines\",\"name\":\"70\",\"showlegend\":true,\"type\":\"scattergeo\"},{\"geo\":\"geo\",\"hovertemplate\":\"line=71<br>pair=%{location}<extra></extra>\",\"legendgroup\":\"71\",\"line\":{\"color\":\"darkslategray\",\"dash\":\"solid\"},\"locationmode\":\"country names\",\"locations\":[\"Mexico\",\"Ecuador\"],\"marker\":{\"symbol\":\"circle\"},\"mode\":\"lines\",\"name\":\"71\",\"showlegend\":true,\"type\":\"scattergeo\"},{\"geo\":\"geo\",\"hovertemplate\":\"line=72<br>pair=%{location}<extra></extra>\",\"legendgroup\":\"72\",\"line\":{\"color\":\"darkslategray\",\"dash\":\"solid\"},\"locationmode\":\"country names\",\"locations\":[\"Mexico\",\"France\"],\"marker\":{\"symbol\":\"circle\"},\"mode\":\"lines\",\"name\":\"72\",\"showlegend\":true,\"type\":\"scattergeo\"},{\"geo\":\"geo\",\"hovertemplate\":\"line=73<br>pair=%{location}<extra></extra>\",\"legendgroup\":\"73\",\"line\":{\"color\":\"darkslategray\",\"dash\":\"solid\"},\"locationmode\":\"country names\",\"locations\":[\"Mexico\",\"Italy\"],\"marker\":{\"symbol\":\"circle\"},\"mode\":\"lines\",\"name\":\"73\",\"showlegend\":true,\"type\":\"scattergeo\"},{\"geo\":\"geo\",\"hovertemplate\":\"line=74<br>pair=%{location}<extra></extra>\",\"legendgroup\":\"74\",\"line\":{\"color\":\"darkslategray\",\"dash\":\"solid\"},\"locationmode\":\"country names\",\"locations\":[\"Mexico\",\"Russia\"],\"marker\":{\"symbol\":\"circle\"},\"mode\":\"lines\",\"name\":\"74\",\"showlegend\":true,\"type\":\"scattergeo\"},{\"geo\":\"geo\",\"hovertemplate\":\"line=75<br>pair=%{location}<extra></extra>\",\"legendgroup\":\"75\",\"line\":{\"color\":\"darkslategray\",\"dash\":\"solid\"},\"locationmode\":\"country names\",\"locations\":[\"Mexico\",\"Canada\"],\"marker\":{\"symbol\":\"circle\"},\"mode\":\"lines\",\"name\":\"75\",\"showlegend\":true,\"type\":\"scattergeo\"},{\"geo\":\"geo\",\"hovertemplate\":\"line=76<br>pair=%{location}<extra></extra>\",\"legendgroup\":\"76\",\"line\":{\"color\":\"darkslategray\",\"dash\":\"solid\"},\"locationmode\":\"country names\",\"locations\":[\"Mexico\",\"India\"],\"marker\":{\"symbol\":\"circle\"},\"mode\":\"lines\",\"name\":\"76\",\"showlegend\":true,\"type\":\"scattergeo\"},{\"geo\":\"geo\",\"hovertemplate\":\"line=77<br>pair=%{location}<extra></extra>\",\"legendgroup\":\"77\",\"line\":{\"color\":\"darkslategray\",\"dash\":\"solid\"},\"locationmode\":\"country names\",\"locations\":[\"Mexico\",\"Japan\"],\"marker\":{\"symbol\":\"circle\"},\"mode\":\"lines\",\"name\":\"77\",\"showlegend\":true,\"type\":\"scattergeo\"},{\"geo\":\"geo\",\"hovertemplate\":\"line=78<br>pair=%{location}<extra></extra>\",\"legendgroup\":\"78\",\"line\":{\"color\":\"darkslategray\",\"dash\":\"solid\"},\"locationmode\":\"country names\",\"locations\":[\"Mexico\",\"Romania\"],\"marker\":{\"symbol\":\"circle\"},\"mode\":\"lines\",\"name\":\"78\",\"showlegend\":true,\"type\":\"scattergeo\"},{\"geo\":\"geo\",\"hovertemplate\":\"line=79<br>pair=%{location}<extra></extra>\",\"legendgroup\":\"79\",\"line\":{\"color\":\"darkslategray\",\"dash\":\"solid\"},\"locationmode\":\"country names\",\"locations\":[\"Mexico\",\"Slovakia\"],\"marker\":{\"symbol\":\"circle\"},\"mode\":\"lines\",\"name\":\"79\",\"showlegend\":true,\"type\":\"scattergeo\"},{\"geo\":\"geo\",\"hovertemplate\":\"line=80<br>pair=%{location}<extra></extra>\",\"legendgroup\":\"80\",\"line\":{\"color\":\"darkslategray\",\"dash\":\"solid\"},\"locationmode\":\"country names\",\"locations\":[\"Cuba\",\"Colombia\"],\"marker\":{\"symbol\":\"circle\"},\"mode\":\"lines\",\"name\":\"80\",\"showlegend\":true,\"type\":\"scattergeo\"},{\"geo\":\"geo\",\"hovertemplate\":\"line=81<br>pair=%{location}<extra></extra>\",\"legendgroup\":\"81\",\"line\":{\"color\":\"darkslategray\",\"dash\":\"solid\"},\"locationmode\":\"country names\",\"locations\":[\"Cuba\",\"Spain\"],\"marker\":{\"symbol\":\"circle\"},\"mode\":\"lines\",\"name\":\"81\",\"showlegend\":true,\"type\":\"scattergeo\"},{\"geo\":\"geo\",\"hovertemplate\":\"line=82<br>pair=%{location}<extra></extra>\",\"legendgroup\":\"82\",\"line\":{\"color\":\"darkslategray\",\"dash\":\"solid\"},\"locationmode\":\"country names\",\"locations\":[\"Cuba\",\"Brazil\"],\"marker\":{\"symbol\":\"circle\"},\"mode\":\"lines\",\"name\":\"82\",\"showlegend\":true,\"type\":\"scattergeo\"},{\"geo\":\"geo\",\"hovertemplate\":\"line=83<br>pair=%{location}<extra></extra>\",\"legendgroup\":\"83\",\"line\":{\"color\":\"darkslategray\",\"dash\":\"solid\"},\"locationmode\":\"country names\",\"locations\":[\"Cuba\",\"Mexico\"],\"marker\":{\"symbol\":\"circle\"},\"mode\":\"lines\",\"name\":\"83\",\"showlegend\":true,\"type\":\"scattergeo\"},{\"geo\":\"geo\",\"hovertemplate\":\"line=84<br>pair=%{location}<extra></extra>\",\"legendgroup\":\"84\",\"line\":{\"color\":\"darkslategray\",\"dash\":\"solid\"},\"locationmode\":\"country names\",\"locations\":[\"Cuba\",\"Argentina\"],\"marker\":{\"symbol\":\"circle\"},\"mode\":\"lines\",\"name\":\"84\",\"showlegend\":true,\"type\":\"scattergeo\"},{\"geo\":\"geo\",\"hovertemplate\":\"line=85<br>pair=%{location}<extra></extra>\",\"legendgroup\":\"85\",\"line\":{\"color\":\"darkslategray\",\"dash\":\"solid\"},\"locationmode\":\"country names\",\"locations\":[\"Cuba\",\"Ecuador\"],\"marker\":{\"symbol\":\"circle\"},\"mode\":\"lines\",\"name\":\"85\",\"showlegend\":true,\"type\":\"scattergeo\"},{\"geo\":\"geo\",\"hovertemplate\":\"line=86<br>pair=%{location}<extra></extra>\",\"legendgroup\":\"86\",\"line\":{\"color\":\"darkslategray\",\"dash\":\"solid\"},\"locationmode\":\"country names\",\"locations\":[\"Cuba\",\"Belgium\"],\"marker\":{\"symbol\":\"circle\"},\"mode\":\"lines\",\"name\":\"86\",\"showlegend\":true,\"type\":\"scattergeo\"},{\"geo\":\"geo\",\"hovertemplate\":\"line=87<br>pair=%{location}<extra></extra>\",\"legendgroup\":\"87\",\"line\":{\"color\":\"darkslategray\",\"dash\":\"solid\"},\"locationmode\":\"country names\",\"locations\":[\"Chile\",\"Colombia\"],\"marker\":{\"symbol\":\"circle\"},\"mode\":\"lines\",\"name\":\"87\",\"showlegend\":true,\"type\":\"scattergeo\"},{\"geo\":\"geo\",\"hovertemplate\":\"line=88<br>pair=%{location}<extra></extra>\",\"legendgroup\":\"88\",\"line\":{\"color\":\"darkslategray\",\"dash\":\"solid\"},\"locationmode\":\"country names\",\"locations\":[\"Chile\",\"Spain\"],\"marker\":{\"symbol\":\"circle\"},\"mode\":\"lines\",\"name\":\"88\",\"showlegend\":true,\"type\":\"scattergeo\"},{\"geo\":\"geo\",\"hovertemplate\":\"line=89<br>pair=%{location}<extra></extra>\",\"legendgroup\":\"89\",\"line\":{\"color\":\"darkslategray\",\"dash\":\"solid\"},\"locationmode\":\"country names\",\"locations\":[\"Chile\",\"Mexico\"],\"marker\":{\"symbol\":\"circle\"},\"mode\":\"lines\",\"name\":\"89\",\"showlegend\":true,\"type\":\"scattergeo\"},{\"geo\":\"geo\",\"hovertemplate\":\"line=90<br>pair=%{location}<extra></extra>\",\"legendgroup\":\"90\",\"line\":{\"color\":\"darkslategray\",\"dash\":\"solid\"},\"locationmode\":\"country names\",\"locations\":[\"Chile\",\"Argentina\"],\"marker\":{\"symbol\":\"circle\"},\"mode\":\"lines\",\"name\":\"90\",\"showlegend\":true,\"type\":\"scattergeo\"},{\"geo\":\"geo\",\"hovertemplate\":\"line=91<br>pair=%{location}<extra></extra>\",\"legendgroup\":\"91\",\"line\":{\"color\":\"darkslategray\",\"dash\":\"solid\"},\"locationmode\":\"country names\",\"locations\":[\"Chile\",\"Ecuador\"],\"marker\":{\"symbol\":\"circle\"},\"mode\":\"lines\",\"name\":\"91\",\"showlegend\":true,\"type\":\"scattergeo\"},{\"geo\":\"geo\",\"hovertemplate\":\"line=92<br>pair=%{location}<extra></extra>\",\"legendgroup\":\"92\",\"line\":{\"color\":\"darkslategray\",\"dash\":\"solid\"},\"locationmode\":\"country names\",\"locations\":[\"Chile\",\"Portugal\"],\"marker\":{\"symbol\":\"circle\"},\"mode\":\"lines\",\"name\":\"92\",\"showlegend\":true,\"type\":\"scattergeo\"},{\"geo\":\"geo\",\"hovertemplate\":\"line=93<br>pair=%{location}<extra></extra>\",\"legendgroup\":\"93\",\"line\":{\"color\":\"darkslategray\",\"dash\":\"solid\"},\"locationmode\":\"country names\",\"locations\":[\"Chile\",\"Venezuela\"],\"marker\":{\"symbol\":\"circle\"},\"mode\":\"lines\",\"name\":\"93\",\"showlegend\":true,\"type\":\"scattergeo\"},{\"geo\":\"geo\",\"hovertemplate\":\"line=94<br>pair=%{location}<extra></extra>\",\"legendgroup\":\"94\",\"line\":{\"color\":\"darkslategray\",\"dash\":\"solid\"},\"locationmode\":\"country names\",\"locations\":[\"Chile\",\"United Kingdom\"],\"marker\":{\"symbol\":\"circle\"},\"mode\":\"lines\",\"name\":\"94\",\"showlegend\":true,\"type\":\"scattergeo\"},{\"geo\":\"geo\",\"hovertemplate\":\"line=95<br>pair=%{location}<extra></extra>\",\"legendgroup\":\"95\",\"line\":{\"color\":\"darkslategray\",\"dash\":\"solid\"},\"locationmode\":\"country names\",\"locations\":[\"Chile\",\"Italy\"],\"marker\":{\"symbol\":\"circle\"},\"mode\":\"lines\",\"name\":\"95\",\"showlegend\":true,\"type\":\"scattergeo\"},{\"geo\":\"geo\",\"hovertemplate\":\"line=96<br>pair=%{location}<extra></extra>\",\"legendgroup\":\"96\",\"line\":{\"color\":\"darkslategray\",\"dash\":\"solid\"},\"locationmode\":\"country names\",\"locations\":[\"Chile\",\"Switzerland\"],\"marker\":{\"symbol\":\"circle\"},\"mode\":\"lines\",\"name\":\"96\",\"showlegend\":true,\"type\":\"scattergeo\"},{\"geo\":\"geo\",\"hovertemplate\":\"line=97<br>pair=%{location}<extra></extra>\",\"legendgroup\":\"97\",\"line\":{\"color\":\"darkslategray\",\"dash\":\"solid\"},\"locationmode\":\"country names\",\"locations\":[\"United States\",\"Colombia\"],\"marker\":{\"symbol\":\"circle\"},\"mode\":\"lines\",\"name\":\"97\",\"showlegend\":true,\"type\":\"scattergeo\"},{\"geo\":\"geo\",\"hovertemplate\":\"line=98<br>pair=%{location}<extra></extra>\",\"legendgroup\":\"98\",\"line\":{\"color\":\"darkslategray\",\"dash\":\"solid\"},\"locationmode\":\"country names\",\"locations\":[\"United States\",\"Spain\"],\"marker\":{\"symbol\":\"circle\"},\"mode\":\"lines\",\"name\":\"98\",\"showlegend\":true,\"type\":\"scattergeo\"},{\"geo\":\"geo\",\"hovertemplate\":\"line=99<br>pair=%{location}<extra></extra>\",\"legendgroup\":\"99\",\"line\":{\"color\":\"darkslategray\",\"dash\":\"solid\"},\"locationmode\":\"country names\",\"locations\":[\"United States\",\"Brazil\"],\"marker\":{\"symbol\":\"circle\"},\"mode\":\"lines\",\"name\":\"99\",\"showlegend\":true,\"type\":\"scattergeo\"},{\"geo\":\"geo\",\"hovertemplate\":\"line=100<br>pair=%{location}<extra></extra>\",\"legendgroup\":\"100\",\"line\":{\"color\":\"darkslategray\",\"dash\":\"solid\"},\"locationmode\":\"country names\",\"locations\":[\"United States\",\"Mexico\"],\"marker\":{\"symbol\":\"circle\"},\"mode\":\"lines\",\"name\":\"100\",\"showlegend\":true,\"type\":\"scattergeo\"},{\"geo\":\"geo\",\"hovertemplate\":\"line=101<br>pair=%{location}<extra></extra>\",\"legendgroup\":\"101\",\"line\":{\"color\":\"darkslategray\",\"dash\":\"solid\"},\"locationmode\":\"country names\",\"locations\":[\"United States\",\"Portugal\"],\"marker\":{\"symbol\":\"circle\"},\"mode\":\"lines\",\"name\":\"101\",\"showlegend\":true,\"type\":\"scattergeo\"},{\"geo\":\"geo\",\"hovertemplate\":\"line=102<br>pair=%{location}<extra></extra>\",\"legendgroup\":\"102\",\"line\":{\"color\":\"darkslategray\",\"dash\":\"solid\"},\"locationmode\":\"country names\",\"locations\":[\"United States\",\"Canada\"],\"marker\":{\"symbol\":\"circle\"},\"mode\":\"lines\",\"name\":\"102\",\"showlegend\":true,\"type\":\"scattergeo\"},{\"geo\":\"geo\",\"hovertemplate\":\"line=103<br>pair=%{location}<extra></extra>\",\"legendgroup\":\"103\",\"line\":{\"color\":\"darkslategray\",\"dash\":\"solid\"},\"locationmode\":\"country names\",\"locations\":[\"United States\",\"Netherlands\"],\"marker\":{\"symbol\":\"circle\"},\"mode\":\"lines\",\"name\":\"103\",\"showlegend\":true,\"type\":\"scattergeo\"},{\"geo\":\"geo\",\"hovertemplate\":\"line=104<br>pair=%{location}<extra></extra>\",\"legendgroup\":\"104\",\"line\":{\"color\":\"darkslategray\",\"dash\":\"solid\"},\"locationmode\":\"country names\",\"locations\":[\"Argentina\",\"Colombia\"],\"marker\":{\"symbol\":\"circle\"},\"mode\":\"lines\",\"name\":\"104\",\"showlegend\":true,\"type\":\"scattergeo\"},{\"geo\":\"geo\",\"hovertemplate\":\"line=105<br>pair=%{location}<extra></extra>\",\"legendgroup\":\"105\",\"line\":{\"color\":\"darkslategray\",\"dash\":\"solid\"},\"locationmode\":\"country names\",\"locations\":[\"Argentina\",\"Spain\"],\"marker\":{\"symbol\":\"circle\"},\"mode\":\"lines\",\"name\":\"105\",\"showlegend\":true,\"type\":\"scattergeo\"},{\"geo\":\"geo\",\"hovertemplate\":\"line=106<br>pair=%{location}<extra></extra>\",\"legendgroup\":\"106\",\"line\":{\"color\":\"darkslategray\",\"dash\":\"solid\"},\"locationmode\":\"country names\",\"locations\":[\"Argentina\",\"Cuba\"],\"marker\":{\"symbol\":\"circle\"},\"mode\":\"lines\",\"name\":\"106\",\"showlegend\":true,\"type\":\"scattergeo\"},{\"geo\":\"geo\",\"hovertemplate\":\"line=107<br>pair=%{location}<extra></extra>\",\"legendgroup\":\"107\",\"line\":{\"color\":\"darkslategray\",\"dash\":\"solid\"},\"locationmode\":\"country names\",\"locations\":[\"Argentina\",\"Chile\"],\"marker\":{\"symbol\":\"circle\"},\"mode\":\"lines\",\"name\":\"107\",\"showlegend\":true,\"type\":\"scattergeo\"},{\"geo\":\"geo\",\"hovertemplate\":\"line=108<br>pair=%{location}<extra></extra>\",\"legendgroup\":\"108\",\"line\":{\"color\":\"darkslategray\",\"dash\":\"solid\"},\"locationmode\":\"country names\",\"locations\":[\"Argentina\",\"Portugal\"],\"marker\":{\"symbol\":\"circle\"},\"mode\":\"lines\",\"name\":\"108\",\"showlegend\":true,\"type\":\"scattergeo\"},{\"geo\":\"geo\",\"hovertemplate\":\"line=109<br>pair=%{location}<extra></extra>\",\"legendgroup\":\"109\",\"line\":{\"color\":\"darkslategray\",\"dash\":\"solid\"},\"locationmode\":\"country names\",\"locations\":[\"Argentina\",\"Venezuela\"],\"marker\":{\"symbol\":\"circle\"},\"mode\":\"lines\",\"name\":\"109\",\"showlegend\":true,\"type\":\"scattergeo\"},{\"geo\":\"geo\",\"hovertemplate\":\"line=110<br>pair=%{location}<extra></extra>\",\"legendgroup\":\"110\",\"line\":{\"color\":\"darkslategray\",\"dash\":\"solid\"},\"locationmode\":\"country names\",\"locations\":[\"Ecuador\",\"Colombia\"],\"marker\":{\"symbol\":\"circle\"},\"mode\":\"lines\",\"name\":\"110\",\"showlegend\":true,\"type\":\"scattergeo\"},{\"geo\":\"geo\",\"hovertemplate\":\"line=111<br>pair=%{location}<extra></extra>\",\"legendgroup\":\"111\",\"line\":{\"color\":\"darkslategray\",\"dash\":\"solid\"},\"locationmode\":\"country names\",\"locations\":[\"Ecuador\",\"Spain\"],\"marker\":{\"symbol\":\"circle\"},\"mode\":\"lines\",\"name\":\"111\",\"showlegend\":true,\"type\":\"scattergeo\"},{\"geo\":\"geo\",\"hovertemplate\":\"line=112<br>pair=%{location}<extra></extra>\",\"legendgroup\":\"112\",\"line\":{\"color\":\"darkslategray\",\"dash\":\"solid\"},\"locationmode\":\"country names\",\"locations\":[\"Ecuador\",\"Brazil\"],\"marker\":{\"symbol\":\"circle\"},\"mode\":\"lines\",\"name\":\"112\",\"showlegend\":true,\"type\":\"scattergeo\"},{\"geo\":\"geo\",\"hovertemplate\":\"line=113<br>pair=%{location}<extra></extra>\",\"legendgroup\":\"113\",\"line\":{\"color\":\"darkslategray\",\"dash\":\"solid\"},\"locationmode\":\"country names\",\"locations\":[\"Ecuador\",\"Mexico\"],\"marker\":{\"symbol\":\"circle\"},\"mode\":\"lines\",\"name\":\"113\",\"showlegend\":true,\"type\":\"scattergeo\"},{\"geo\":\"geo\",\"hovertemplate\":\"line=114<br>pair=%{location}<extra></extra>\",\"legendgroup\":\"114\",\"line\":{\"color\":\"darkslategray\",\"dash\":\"solid\"},\"locationmode\":\"country names\",\"locations\":[\"Ecuador\",\"Cuba\"],\"marker\":{\"symbol\":\"circle\"},\"mode\":\"lines\",\"name\":\"114\",\"showlegend\":true,\"type\":\"scattergeo\"},{\"geo\":\"geo\",\"hovertemplate\":\"line=115<br>pair=%{location}<extra></extra>\",\"legendgroup\":\"115\",\"line\":{\"color\":\"darkslategray\",\"dash\":\"solid\"},\"locationmode\":\"country names\",\"locations\":[\"Ecuador\",\"Chile\"],\"marker\":{\"symbol\":\"circle\"},\"mode\":\"lines\",\"name\":\"115\",\"showlegend\":true,\"type\":\"scattergeo\"},{\"geo\":\"geo\",\"hovertemplate\":\"line=116<br>pair=%{location}<extra></extra>\",\"legendgroup\":\"116\",\"line\":{\"color\":\"darkslategray\",\"dash\":\"solid\"},\"locationmode\":\"country names\",\"locations\":[\"Ecuador\",\"Venezuela\"],\"marker\":{\"symbol\":\"circle\"},\"mode\":\"lines\",\"name\":\"116\",\"showlegend\":true,\"type\":\"scattergeo\"},{\"geo\":\"geo\",\"hovertemplate\":\"line=117<br>pair=%{location}<extra></extra>\",\"legendgroup\":\"117\",\"line\":{\"color\":\"darkslategray\",\"dash\":\"solid\"},\"locationmode\":\"country names\",\"locations\":[\"Ecuador\",\"United Kingdom\"],\"marker\":{\"symbol\":\"circle\"},\"mode\":\"lines\",\"name\":\"117\",\"showlegend\":true,\"type\":\"scattergeo\"},{\"geo\":\"geo\",\"hovertemplate\":\"line=118<br>pair=%{location}<extra></extra>\",\"legendgroup\":\"118\",\"line\":{\"color\":\"darkslategray\",\"dash\":\"solid\"},\"locationmode\":\"country names\",\"locations\":[\"Ecuador\",\"Austria\"],\"marker\":{\"symbol\":\"circle\"},\"mode\":\"lines\",\"name\":\"118\",\"showlegend\":true,\"type\":\"scattergeo\"},{\"geo\":\"geo\",\"hovertemplate\":\"line=119<br>pair=%{location}<extra></extra>\",\"legendgroup\":\"119\",\"line\":{\"color\":\"darkslategray\",\"dash\":\"solid\"},\"locationmode\":\"country names\",\"locations\":[\"Portugal\",\"Colombia\"],\"marker\":{\"symbol\":\"circle\"},\"mode\":\"lines\",\"name\":\"119\",\"showlegend\":true,\"type\":\"scattergeo\"},{\"geo\":\"geo\",\"hovertemplate\":\"line=120<br>pair=%{location}<extra></extra>\",\"legendgroup\":\"120\",\"line\":{\"color\":\"darkslategray\",\"dash\":\"solid\"},\"locationmode\":\"country names\",\"locations\":[\"Portugal\",\"Spain\"],\"marker\":{\"symbol\":\"circle\"},\"mode\":\"lines\",\"name\":\"120\",\"showlegend\":true,\"type\":\"scattergeo\"},{\"geo\":\"geo\",\"hovertemplate\":\"line=121<br>pair=%{location}<extra></extra>\",\"legendgroup\":\"121\",\"line\":{\"color\":\"darkslategray\",\"dash\":\"solid\"},\"locationmode\":\"country names\",\"locations\":[\"Portugal\",\"Brazil\"],\"marker\":{\"symbol\":\"circle\"},\"mode\":\"lines\",\"name\":\"121\",\"showlegend\":true,\"type\":\"scattergeo\"},{\"geo\":\"geo\",\"hovertemplate\":\"line=122<br>pair=%{location}<extra></extra>\",\"legendgroup\":\"122\",\"line\":{\"color\":\"darkslategray\",\"dash\":\"solid\"},\"locationmode\":\"country names\",\"locations\":[\"Portugal\",\"Chile\"],\"marker\":{\"symbol\":\"circle\"},\"mode\":\"lines\",\"name\":\"122\",\"showlegend\":true,\"type\":\"scattergeo\"},{\"geo\":\"geo\",\"hovertemplate\":\"line=123<br>pair=%{location}<extra></extra>\",\"legendgroup\":\"123\",\"line\":{\"color\":\"darkslategray\",\"dash\":\"solid\"},\"locationmode\":\"country names\",\"locations\":[\"Portugal\",\"United States\"],\"marker\":{\"symbol\":\"circle\"},\"mode\":\"lines\",\"name\":\"123\",\"showlegend\":true,\"type\":\"scattergeo\"},{\"geo\":\"geo\",\"hovertemplate\":\"line=124<br>pair=%{location}<extra></extra>\",\"legendgroup\":\"124\",\"line\":{\"color\":\"darkslategray\",\"dash\":\"solid\"},\"locationmode\":\"country names\",\"locations\":[\"Portugal\",\"Argentina\"],\"marker\":{\"symbol\":\"circle\"},\"mode\":\"lines\",\"name\":\"124\",\"showlegend\":true,\"type\":\"scattergeo\"},{\"geo\":\"geo\",\"hovertemplate\":\"line=125<br>pair=%{location}<extra></extra>\",\"legendgroup\":\"125\",\"line\":{\"color\":\"darkslategray\",\"dash\":\"solid\"},\"locationmode\":\"country names\",\"locations\":[\"Portugal\",\"Italy\"],\"marker\":{\"symbol\":\"circle\"},\"mode\":\"lines\",\"name\":\"125\",\"showlegend\":true,\"type\":\"scattergeo\"},{\"geo\":\"geo\",\"hovertemplate\":\"line=126<br>pair=%{location}<extra></extra>\",\"legendgroup\":\"126\",\"line\":{\"color\":\"darkslategray\",\"dash\":\"solid\"},\"locationmode\":\"country names\",\"locations\":[\"Portugal\",\"Russia\"],\"marker\":{\"symbol\":\"circle\"},\"mode\":\"lines\",\"name\":\"126\",\"showlegend\":true,\"type\":\"scattergeo\"},{\"geo\":\"geo\",\"hovertemplate\":\"line=127<br>pair=%{location}<extra></extra>\",\"legendgroup\":\"127\",\"line\":{\"color\":\"darkslategray\",\"dash\":\"solid\"},\"locationmode\":\"country names\",\"locations\":[\"Portugal\",\"Netherlands\"],\"marker\":{\"symbol\":\"circle\"},\"mode\":\"lines\",\"name\":\"127\",\"showlegend\":true,\"type\":\"scattergeo\"},{\"geo\":\"geo\",\"hovertemplate\":\"line=128<br>pair=%{location}<extra></extra>\",\"legendgroup\":\"128\",\"line\":{\"color\":\"darkslategray\",\"dash\":\"solid\"},\"locationmode\":\"country names\",\"locations\":[\"Portugal\",\"Kazakhstan\"],\"marker\":{\"symbol\":\"circle\"},\"mode\":\"lines\",\"name\":\"128\",\"showlegend\":true,\"type\":\"scattergeo\"},{\"geo\":\"geo\",\"hovertemplate\":\"line=129<br>pair=%{location}<extra></extra>\",\"legendgroup\":\"129\",\"line\":{\"color\":\"darkslategray\",\"dash\":\"solid\"},\"locationmode\":\"country names\",\"locations\":[\"Portugal\",\"Indonesia\"],\"marker\":{\"symbol\":\"circle\"},\"mode\":\"lines\",\"name\":\"129\",\"showlegend\":true,\"type\":\"scattergeo\"},{\"geo\":\"geo\",\"hovertemplate\":\"line=130<br>pair=%{location}<extra></extra>\",\"legendgroup\":\"130\",\"line\":{\"color\":\"darkslategray\",\"dash\":\"solid\"},\"locationmode\":\"country names\",\"locations\":[\"Venezuela\",\"Colombia\"],\"marker\":{\"symbol\":\"circle\"},\"mode\":\"lines\",\"name\":\"130\",\"showlegend\":true,\"type\":\"scattergeo\"},{\"geo\":\"geo\",\"hovertemplate\":\"line=131<br>pair=%{location}<extra></extra>\",\"legendgroup\":\"131\",\"line\":{\"color\":\"darkslategray\",\"dash\":\"solid\"},\"locationmode\":\"country names\",\"locations\":[\"Venezuela\",\"Spain\"],\"marker\":{\"symbol\":\"circle\"},\"mode\":\"lines\",\"name\":\"131\",\"showlegend\":true,\"type\":\"scattergeo\"},{\"geo\":\"geo\",\"hovertemplate\":\"line=132<br>pair=%{location}<extra></extra>\",\"legendgroup\":\"132\",\"line\":{\"color\":\"darkslategray\",\"dash\":\"solid\"},\"locationmode\":\"country names\",\"locations\":[\"Venezuela\",\"Brazil\"],\"marker\":{\"symbol\":\"circle\"},\"mode\":\"lines\",\"name\":\"132\",\"showlegend\":true,\"type\":\"scattergeo\"},{\"geo\":\"geo\",\"hovertemplate\":\"line=133<br>pair=%{location}<extra></extra>\",\"legendgroup\":\"133\",\"line\":{\"color\":\"darkslategray\",\"dash\":\"solid\"},\"locationmode\":\"country names\",\"locations\":[\"Venezuela\",\"Chile\"],\"marker\":{\"symbol\":\"circle\"},\"mode\":\"lines\",\"name\":\"133\",\"showlegend\":true,\"type\":\"scattergeo\"},{\"geo\":\"geo\",\"hovertemplate\":\"line=134<br>pair=%{location}<extra></extra>\",\"legendgroup\":\"134\",\"line\":{\"color\":\"darkslategray\",\"dash\":\"solid\"},\"locationmode\":\"country names\",\"locations\":[\"Venezuela\",\"Argentina\"],\"marker\":{\"symbol\":\"circle\"},\"mode\":\"lines\",\"name\":\"134\",\"showlegend\":true,\"type\":\"scattergeo\"},{\"geo\":\"geo\",\"hovertemplate\":\"line=135<br>pair=%{location}<extra></extra>\",\"legendgroup\":\"135\",\"line\":{\"color\":\"darkslategray\",\"dash\":\"solid\"},\"locationmode\":\"country names\",\"locations\":[\"Venezuela\",\"Ecuador\"],\"marker\":{\"symbol\":\"circle\"},\"mode\":\"lines\",\"name\":\"135\",\"showlegend\":true,\"type\":\"scattergeo\"},{\"geo\":\"geo\",\"hovertemplate\":\"line=136<br>pair=%{location}<extra></extra>\",\"legendgroup\":\"136\",\"line\":{\"color\":\"darkslategray\",\"dash\":\"solid\"},\"locationmode\":\"country names\",\"locations\":[\"Venezuela\",\"France\"],\"marker\":{\"symbol\":\"circle\"},\"mode\":\"lines\",\"name\":\"136\",\"showlegend\":true,\"type\":\"scattergeo\"},{\"geo\":\"geo\",\"hovertemplate\":\"line=137<br>pair=%{location}<extra></extra>\",\"legendgroup\":\"137\",\"line\":{\"color\":\"darkslategray\",\"dash\":\"solid\"},\"locationmode\":\"country names\",\"locations\":[\"Peru\",\"Spain\"],\"marker\":{\"symbol\":\"circle\"},\"mode\":\"lines\",\"name\":\"137\",\"showlegend\":true,\"type\":\"scattergeo\"},{\"geo\":\"geo\",\"hovertemplate\":\"line=138<br>pair=%{location}<extra></extra>\",\"legendgroup\":\"138\",\"line\":{\"color\":\"darkslategray\",\"dash\":\"solid\"},\"locationmode\":\"country names\",\"locations\":[\"Peru\",\"Brazil\"],\"marker\":{\"symbol\":\"circle\"},\"mode\":\"lines\",\"name\":\"138\",\"showlegend\":true,\"type\":\"scattergeo\"},{\"geo\":\"geo\",\"hovertemplate\":\"line=139<br>pair=%{location}<extra></extra>\",\"legendgroup\":\"139\",\"line\":{\"color\":\"darkslategray\",\"dash\":\"solid\"},\"locationmode\":\"country names\",\"locations\":[\"Peru\",\"France\"],\"marker\":{\"symbol\":\"circle\"},\"mode\":\"lines\",\"name\":\"139\",\"showlegend\":true,\"type\":\"scattergeo\"},{\"geo\":\"geo\",\"hovertemplate\":\"line=140<br>pair=%{location}<extra></extra>\",\"legendgroup\":\"140\",\"line\":{\"color\":\"darkslategray\",\"dash\":\"solid\"},\"locationmode\":\"country names\",\"locations\":[\"United Kingdom\",\"Colombia\"],\"marker\":{\"symbol\":\"circle\"},\"mode\":\"lines\",\"name\":\"140\",\"showlegend\":true,\"type\":\"scattergeo\"},{\"geo\":\"geo\",\"hovertemplate\":\"line=141<br>pair=%{location}<extra></extra>\",\"legendgroup\":\"141\",\"line\":{\"color\":\"darkslategray\",\"dash\":\"solid\"},\"locationmode\":\"country names\",\"locations\":[\"United Kingdom\",\"Spain\"],\"marker\":{\"symbol\":\"circle\"},\"mode\":\"lines\",\"name\":\"141\",\"showlegend\":true,\"type\":\"scattergeo\"},{\"geo\":\"geo\",\"hovertemplate\":\"line=142<br>pair=%{location}<extra></extra>\",\"legendgroup\":\"142\",\"line\":{\"color\":\"darkslategray\",\"dash\":\"solid\"},\"locationmode\":\"country names\",\"locations\":[\"United Kingdom\",\"Chile\"],\"marker\":{\"symbol\":\"circle\"},\"mode\":\"lines\",\"name\":\"142\",\"showlegend\":true,\"type\":\"scattergeo\"},{\"geo\":\"geo\",\"hovertemplate\":\"line=143<br>pair=%{location}<extra></extra>\",\"legendgroup\":\"143\",\"line\":{\"color\":\"darkslategray\",\"dash\":\"solid\"},\"locationmode\":\"country names\",\"locations\":[\"United Kingdom\",\"Ecuador\"],\"marker\":{\"symbol\":\"circle\"},\"mode\":\"lines\",\"name\":\"143\",\"showlegend\":true,\"type\":\"scattergeo\"},{\"geo\":\"geo\",\"hovertemplate\":\"line=144<br>pair=%{location}<extra></extra>\",\"legendgroup\":\"144\",\"line\":{\"color\":\"darkslategray\",\"dash\":\"solid\"},\"locationmode\":\"country names\",\"locations\":[\"United Kingdom\",\"Belgium\"],\"marker\":{\"symbol\":\"circle\"},\"mode\":\"lines\",\"name\":\"144\",\"showlegend\":true,\"type\":\"scattergeo\"},{\"geo\":\"geo\",\"hovertemplate\":\"line=145<br>pair=%{location}<extra></extra>\",\"legendgroup\":\"145\",\"line\":{\"color\":\"darkslategray\",\"dash\":\"solid\"},\"locationmode\":\"country names\",\"locations\":[\"France\",\"Colombia\"],\"marker\":{\"symbol\":\"circle\"},\"mode\":\"lines\",\"name\":\"145\",\"showlegend\":true,\"type\":\"scattergeo\"},{\"geo\":\"geo\",\"hovertemplate\":\"line=146<br>pair=%{location}<extra></extra>\",\"legendgroup\":\"146\",\"line\":{\"color\":\"darkslategray\",\"dash\":\"solid\"},\"locationmode\":\"country names\",\"locations\":[\"France\",\"Spain\"],\"marker\":{\"symbol\":\"circle\"},\"mode\":\"lines\",\"name\":\"146\",\"showlegend\":true,\"type\":\"scattergeo\"},{\"geo\":\"geo\",\"hovertemplate\":\"line=147<br>pair=%{location}<extra></extra>\",\"legendgroup\":\"147\",\"line\":{\"color\":\"darkslategray\",\"dash\":\"solid\"},\"locationmode\":\"country names\",\"locations\":[\"France\",\"Brazil\"],\"marker\":{\"symbol\":\"circle\"},\"mode\":\"lines\",\"name\":\"147\",\"showlegend\":true,\"type\":\"scattergeo\"},{\"geo\":\"geo\",\"hovertemplate\":\"line=148<br>pair=%{location}<extra></extra>\",\"legendgroup\":\"148\",\"line\":{\"color\":\"darkslategray\",\"dash\":\"solid\"},\"locationmode\":\"country names\",\"locations\":[\"France\",\"Mexico\"],\"marker\":{\"symbol\":\"circle\"},\"mode\":\"lines\",\"name\":\"148\",\"showlegend\":true,\"type\":\"scattergeo\"},{\"geo\":\"geo\",\"hovertemplate\":\"line=149<br>pair=%{location}<extra></extra>\",\"legendgroup\":\"149\",\"line\":{\"color\":\"darkslategray\",\"dash\":\"solid\"},\"locationmode\":\"country names\",\"locations\":[\"France\",\"Venezuela\"],\"marker\":{\"symbol\":\"circle\"},\"mode\":\"lines\",\"name\":\"149\",\"showlegend\":true,\"type\":\"scattergeo\"},{\"geo\":\"geo\",\"hovertemplate\":\"line=150<br>pair=%{location}<extra></extra>\",\"legendgroup\":\"150\",\"line\":{\"color\":\"darkslategray\",\"dash\":\"solid\"},\"locationmode\":\"country names\",\"locations\":[\"France\",\"Peru\"],\"marker\":{\"symbol\":\"circle\"},\"mode\":\"lines\",\"name\":\"150\",\"showlegend\":true,\"type\":\"scattergeo\"},{\"geo\":\"geo\",\"hovertemplate\":\"line=151<br>pair=%{location}<extra></extra>\",\"legendgroup\":\"151\",\"line\":{\"color\":\"darkslategray\",\"dash\":\"solid\"},\"locationmode\":\"country names\",\"locations\":[\"[UKN]\",\"Colombia\"],\"marker\":{\"symbol\":\"circle\"},\"mode\":\"lines\",\"name\":\"151\",\"showlegend\":true,\"type\":\"scattergeo\"},{\"geo\":\"geo\",\"hovertemplate\":\"line=152<br>pair=%{location}<extra></extra>\",\"legendgroup\":\"152\",\"line\":{\"color\":\"darkslategray\",\"dash\":\"solid\"},\"locationmode\":\"country names\",\"locations\":[\"[UKN]\",\"Spain\"],\"marker\":{\"symbol\":\"circle\"},\"mode\":\"lines\",\"name\":\"152\",\"showlegend\":true,\"type\":\"scattergeo\"},{\"geo\":\"geo\",\"hovertemplate\":\"line=153<br>pair=%{location}<extra></extra>\",\"legendgroup\":\"153\",\"line\":{\"color\":\"darkslategray\",\"dash\":\"solid\"},\"locationmode\":\"country names\",\"locations\":[\"Belgium\",\"Colombia\"],\"marker\":{\"symbol\":\"circle\"},\"mode\":\"lines\",\"name\":\"153\",\"showlegend\":true,\"type\":\"scattergeo\"},{\"geo\":\"geo\",\"hovertemplate\":\"line=154<br>pair=%{location}<extra></extra>\",\"legendgroup\":\"154\",\"line\":{\"color\":\"darkslategray\",\"dash\":\"solid\"},\"locationmode\":\"country names\",\"locations\":[\"Belgium\",\"Cuba\"],\"marker\":{\"symbol\":\"circle\"},\"mode\":\"lines\",\"name\":\"154\",\"showlegend\":true,\"type\":\"scattergeo\"},{\"geo\":\"geo\",\"hovertemplate\":\"line=155<br>pair=%{location}<extra></extra>\",\"legendgroup\":\"155\",\"line\":{\"color\":\"darkslategray\",\"dash\":\"solid\"},\"locationmode\":\"country names\",\"locations\":[\"Belgium\",\"United Kingdom\"],\"marker\":{\"symbol\":\"circle\"},\"mode\":\"lines\",\"name\":\"155\",\"showlegend\":true,\"type\":\"scattergeo\"},{\"geo\":\"geo\",\"hovertemplate\":\"line=156<br>pair=%{location}<extra></extra>\",\"legendgroup\":\"156\",\"line\":{\"color\":\"darkslategray\",\"dash\":\"solid\"},\"locationmode\":\"country names\",\"locations\":[\"Belgium\",\"Hungary\"],\"marker\":{\"symbol\":\"circle\"},\"mode\":\"lines\",\"name\":\"156\",\"showlegend\":true,\"type\":\"scattergeo\"},{\"geo\":\"geo\",\"hovertemplate\":\"line=157<br>pair=%{location}<extra></extra>\",\"legendgroup\":\"157\",\"line\":{\"color\":\"darkslategray\",\"dash\":\"solid\"},\"locationmode\":\"country names\",\"locations\":[\"Italy\",\"Colombia\"],\"marker\":{\"symbol\":\"circle\"},\"mode\":\"lines\",\"name\":\"157\",\"showlegend\":true,\"type\":\"scattergeo\"},{\"geo\":\"geo\",\"hovertemplate\":\"line=158<br>pair=%{location}<extra></extra>\",\"legendgroup\":\"158\",\"line\":{\"color\":\"darkslategray\",\"dash\":\"solid\"},\"locationmode\":\"country names\",\"locations\":[\"Italy\",\"Spain\"],\"marker\":{\"symbol\":\"circle\"},\"mode\":\"lines\",\"name\":\"158\",\"showlegend\":true,\"type\":\"scattergeo\"},{\"geo\":\"geo\",\"hovertemplate\":\"line=159<br>pair=%{location}<extra></extra>\",\"legendgroup\":\"159\",\"line\":{\"color\":\"darkslategray\",\"dash\":\"solid\"},\"locationmode\":\"country names\",\"locations\":[\"Italy\",\"Mexico\"],\"marker\":{\"symbol\":\"circle\"},\"mode\":\"lines\",\"name\":\"159\",\"showlegend\":true,\"type\":\"scattergeo\"},{\"geo\":\"geo\",\"hovertemplate\":\"line=160<br>pair=%{location}<extra></extra>\",\"legendgroup\":\"160\",\"line\":{\"color\":\"darkslategray\",\"dash\":\"solid\"},\"locationmode\":\"country names\",\"locations\":[\"Italy\",\"Chile\"],\"marker\":{\"symbol\":\"circle\"},\"mode\":\"lines\",\"name\":\"160\",\"showlegend\":true,\"type\":\"scattergeo\"},{\"geo\":\"geo\",\"hovertemplate\":\"line=161<br>pair=%{location}<extra></extra>\",\"legendgroup\":\"161\",\"line\":{\"color\":\"darkslategray\",\"dash\":\"solid\"},\"locationmode\":\"country names\",\"locations\":[\"Italy\",\"Portugal\"],\"marker\":{\"symbol\":\"circle\"},\"mode\":\"lines\",\"name\":\"161\",\"showlegend\":true,\"type\":\"scattergeo\"},{\"geo\":\"geo\",\"hovertemplate\":\"line=162<br>pair=%{location}<extra></extra>\",\"legendgroup\":\"162\",\"line\":{\"color\":\"darkslategray\",\"dash\":\"solid\"},\"locationmode\":\"country names\",\"locations\":[\"Switzerland\",\"Colombia\"],\"marker\":{\"symbol\":\"circle\"},\"mode\":\"lines\",\"name\":\"162\",\"showlegend\":true,\"type\":\"scattergeo\"},{\"geo\":\"geo\",\"hovertemplate\":\"line=163<br>pair=%{location}<extra></extra>\",\"legendgroup\":\"163\",\"line\":{\"color\":\"darkslategray\",\"dash\":\"solid\"},\"locationmode\":\"country names\",\"locations\":[\"Switzerland\",\"Spain\"],\"marker\":{\"symbol\":\"circle\"},\"mode\":\"lines\",\"name\":\"163\",\"showlegend\":true,\"type\":\"scattergeo\"},{\"geo\":\"geo\",\"hovertemplate\":\"line=164<br>pair=%{location}<extra></extra>\",\"legendgroup\":\"164\",\"line\":{\"color\":\"darkslategray\",\"dash\":\"solid\"},\"locationmode\":\"country names\",\"locations\":[\"Switzerland\",\"Chile\"],\"marker\":{\"symbol\":\"circle\"},\"mode\":\"lines\",\"name\":\"164\",\"showlegend\":true,\"type\":\"scattergeo\"},{\"geo\":\"geo\",\"hovertemplate\":\"line=165<br>pair=%{location}<extra></extra>\",\"legendgroup\":\"165\",\"line\":{\"color\":\"darkslategray\",\"dash\":\"solid\"},\"locationmode\":\"country names\",\"locations\":[\"Russia\",\"Mexico\"],\"marker\":{\"symbol\":\"circle\"},\"mode\":\"lines\",\"name\":\"165\",\"showlegend\":true,\"type\":\"scattergeo\"},{\"geo\":\"geo\",\"hovertemplate\":\"line=166<br>pair=%{location}<extra></extra>\",\"legendgroup\":\"166\",\"line\":{\"color\":\"darkslategray\",\"dash\":\"solid\"},\"locationmode\":\"country names\",\"locations\":[\"Russia\",\"Portugal\"],\"marker\":{\"symbol\":\"circle\"},\"mode\":\"lines\",\"name\":\"166\",\"showlegend\":true,\"type\":\"scattergeo\"},{\"geo\":\"geo\",\"hovertemplate\":\"line=167<br>pair=%{location}<extra></extra>\",\"legendgroup\":\"167\",\"line\":{\"color\":\"darkslategray\",\"dash\":\"solid\"},\"locationmode\":\"country names\",\"locations\":[\"Russia\",\"Germany\"],\"marker\":{\"symbol\":\"circle\"},\"mode\":\"lines\",\"name\":\"167\",\"showlegend\":true,\"type\":\"scattergeo\"},{\"geo\":\"geo\",\"hovertemplate\":\"line=168<br>pair=%{location}<extra></extra>\",\"legendgroup\":\"168\",\"line\":{\"color\":\"darkslategray\",\"dash\":\"solid\"},\"locationmode\":\"country names\",\"locations\":[\"Russia\",\"Kazakhstan\"],\"marker\":{\"symbol\":\"circle\"},\"mode\":\"lines\",\"name\":\"168\",\"showlegend\":true,\"type\":\"scattergeo\"},{\"geo\":\"geo\",\"hovertemplate\":\"line=169<br>pair=%{location}<extra></extra>\",\"legendgroup\":\"169\",\"line\":{\"color\":\"darkslategray\",\"dash\":\"solid\"},\"locationmode\":\"country names\",\"locations\":[\"Germany\",\"Colombia\"],\"marker\":{\"symbol\":\"circle\"},\"mode\":\"lines\",\"name\":\"169\",\"showlegend\":true,\"type\":\"scattergeo\"},{\"geo\":\"geo\",\"hovertemplate\":\"line=170<br>pair=%{location}<extra></extra>\",\"legendgroup\":\"170\",\"line\":{\"color\":\"darkslategray\",\"dash\":\"solid\"},\"locationmode\":\"country names\",\"locations\":[\"Germany\",\"Brazil\"],\"marker\":{\"symbol\":\"circle\"},\"mode\":\"lines\",\"name\":\"170\",\"showlegend\":true,\"type\":\"scattergeo\"},{\"geo\":\"geo\",\"hovertemplate\":\"line=171<br>pair=%{location}<extra></extra>\",\"legendgroup\":\"171\",\"line\":{\"color\":\"darkslategray\",\"dash\":\"solid\"},\"locationmode\":\"country names\",\"locations\":[\"Germany\",\"Russia\"],\"marker\":{\"symbol\":\"circle\"},\"mode\":\"lines\",\"name\":\"171\",\"showlegend\":true,\"type\":\"scattergeo\"},{\"geo\":\"geo\",\"hovertemplate\":\"line=172<br>pair=%{location}<extra></extra>\",\"legendgroup\":\"172\",\"line\":{\"color\":\"darkslategray\",\"dash\":\"solid\"},\"locationmode\":\"country names\",\"locations\":[\"Canada\",\"Colombia\"],\"marker\":{\"symbol\":\"circle\"},\"mode\":\"lines\",\"name\":\"172\",\"showlegend\":true,\"type\":\"scattergeo\"},{\"geo\":\"geo\",\"hovertemplate\":\"line=173<br>pair=%{location}<extra></extra>\",\"legendgroup\":\"173\",\"line\":{\"color\":\"darkslategray\",\"dash\":\"solid\"},\"locationmode\":\"country names\",\"locations\":[\"Canada\",\"Brazil\"],\"marker\":{\"symbol\":\"circle\"},\"mode\":\"lines\",\"name\":\"173\",\"showlegend\":true,\"type\":\"scattergeo\"},{\"geo\":\"geo\",\"hovertemplate\":\"line=174<br>pair=%{location}<extra></extra>\",\"legendgroup\":\"174\",\"line\":{\"color\":\"darkslategray\",\"dash\":\"solid\"},\"locationmode\":\"country names\",\"locations\":[\"Canada\",\"Mexico\"],\"marker\":{\"symbol\":\"circle\"},\"mode\":\"lines\",\"name\":\"174\",\"showlegend\":true,\"type\":\"scattergeo\"},{\"geo\":\"geo\",\"hovertemplate\":\"line=175<br>pair=%{location}<extra></extra>\",\"legendgroup\":\"175\",\"line\":{\"color\":\"darkslategray\",\"dash\":\"solid\"},\"locationmode\":\"country names\",\"locations\":[\"Canada\",\"United States\"],\"marker\":{\"symbol\":\"circle\"},\"mode\":\"lines\",\"name\":\"175\",\"showlegend\":true,\"type\":\"scattergeo\"},{\"geo\":\"geo\",\"hovertemplate\":\"line=176<br>pair=%{location}<extra></extra>\",\"legendgroup\":\"176\",\"line\":{\"color\":\"darkslategray\",\"dash\":\"solid\"},\"locationmode\":\"country names\",\"locations\":[\"Netherlands\",\"Colombia\"],\"marker\":{\"symbol\":\"circle\"},\"mode\":\"lines\",\"name\":\"176\",\"showlegend\":true,\"type\":\"scattergeo\"},{\"geo\":\"geo\",\"hovertemplate\":\"line=177<br>pair=%{location}<extra></extra>\",\"legendgroup\":\"177\",\"line\":{\"color\":\"darkslategray\",\"dash\":\"solid\"},\"locationmode\":\"country names\",\"locations\":[\"Netherlands\",\"Brazil\"],\"marker\":{\"symbol\":\"circle\"},\"mode\":\"lines\",\"name\":\"177\",\"showlegend\":true,\"type\":\"scattergeo\"},{\"geo\":\"geo\",\"hovertemplate\":\"line=178<br>pair=%{location}<extra></extra>\",\"legendgroup\":\"178\",\"line\":{\"color\":\"darkslategray\",\"dash\":\"solid\"},\"locationmode\":\"country names\",\"locations\":[\"Netherlands\",\"United States\"],\"marker\":{\"symbol\":\"circle\"},\"mode\":\"lines\",\"name\":\"178\",\"showlegend\":true,\"type\":\"scattergeo\"},{\"geo\":\"geo\",\"hovertemplate\":\"line=179<br>pair=%{location}<extra></extra>\",\"legendgroup\":\"179\",\"line\":{\"color\":\"darkslategray\",\"dash\":\"solid\"},\"locationmode\":\"country names\",\"locations\":[\"Netherlands\",\"Portugal\"],\"marker\":{\"symbol\":\"circle\"},\"mode\":\"lines\",\"name\":\"179\",\"showlegend\":true,\"type\":\"scattergeo\"},{\"geo\":\"geo\",\"hovertemplate\":\"line=180<br>pair=%{location}<extra></extra>\",\"legendgroup\":\"180\",\"line\":{\"color\":\"darkslategray\",\"dash\":\"solid\"},\"locationmode\":\"country names\",\"locations\":[\"Poland\",\"Spain\"],\"marker\":{\"symbol\":\"circle\"},\"mode\":\"lines\",\"name\":\"180\",\"showlegend\":true,\"type\":\"scattergeo\"},{\"geo\":\"geo\",\"hovertemplate\":\"line=181<br>pair=%{location}<extra></extra>\",\"legendgroup\":\"181\",\"line\":{\"color\":\"darkslategray\",\"dash\":\"solid\"},\"locationmode\":\"country names\",\"locations\":[\"Poland\",\"Norway\"],\"marker\":{\"symbol\":\"circle\"},\"mode\":\"lines\",\"name\":\"181\",\"showlegend\":true,\"type\":\"scattergeo\"},{\"geo\":\"geo\",\"hovertemplate\":\"line=182<br>pair=%{location}<extra></extra>\",\"legendgroup\":\"182\",\"line\":{\"color\":\"darkslategray\",\"dash\":\"solid\"},\"locationmode\":\"country names\",\"locations\":[\"Australia\",\"Colombia\"],\"marker\":{\"symbol\":\"circle\"},\"mode\":\"lines\",\"name\":\"182\",\"showlegend\":true,\"type\":\"scattergeo\"},{\"geo\":\"geo\",\"hovertemplate\":\"line=183<br>pair=%{location}<extra></extra>\",\"legendgroup\":\"183\",\"line\":{\"color\":\"darkslategray\",\"dash\":\"solid\"},\"locationmode\":\"country names\",\"locations\":[\"China\",\"Brazil\"],\"marker\":{\"symbol\":\"circle\"},\"mode\":\"lines\",\"name\":\"183\",\"showlegend\":true,\"type\":\"scattergeo\"},{\"geo\":\"geo\",\"hovertemplate\":\"line=184<br>pair=%{location}<extra></extra>\",\"legendgroup\":\"184\",\"line\":{\"color\":\"darkslategray\",\"dash\":\"solid\"},\"locationmode\":\"country names\",\"locations\":[\"Sweden\",\"Colombia\"],\"marker\":{\"symbol\":\"circle\"},\"mode\":\"lines\",\"name\":\"184\",\"showlegend\":true,\"type\":\"scattergeo\"},{\"geo\":\"geo\",\"hovertemplate\":\"line=185<br>pair=%{location}<extra></extra>\",\"legendgroup\":\"185\",\"line\":{\"color\":\"darkslategray\",\"dash\":\"solid\"},\"locationmode\":\"country names\",\"locations\":[\"Sweden\",\"Spain\"],\"marker\":{\"symbol\":\"circle\"},\"mode\":\"lines\",\"name\":\"185\",\"showlegend\":true,\"type\":\"scattergeo\"},{\"geo\":\"geo\",\"hovertemplate\":\"line=186<br>pair=%{location}<extra></extra>\",\"legendgroup\":\"186\",\"line\":{\"color\":\"darkslategray\",\"dash\":\"solid\"},\"locationmode\":\"country names\",\"locations\":[\"Bolivia\",\"Brazil\"],\"marker\":{\"symbol\":\"circle\"},\"mode\":\"lines\",\"name\":\"186\",\"showlegend\":true,\"type\":\"scattergeo\"},{\"geo\":\"geo\",\"hovertemplate\":\"line=187<br>pair=%{location}<extra></extra>\",\"legendgroup\":\"187\",\"line\":{\"color\":\"darkslategray\",\"dash\":\"solid\"},\"locationmode\":\"country names\",\"locations\":[\"Kazakhstan\",\"Portugal\"],\"marker\":{\"symbol\":\"circle\"},\"mode\":\"lines\",\"name\":\"187\",\"showlegend\":true,\"type\":\"scattergeo\"},{\"geo\":\"geo\",\"hovertemplate\":\"line=188<br>pair=%{location}<extra></extra>\",\"legendgroup\":\"188\",\"line\":{\"color\":\"darkslategray\",\"dash\":\"solid\"},\"locationmode\":\"country names\",\"locations\":[\"Kazakhstan\",\"Russia\"],\"marker\":{\"symbol\":\"circle\"},\"mode\":\"lines\",\"name\":\"188\",\"showlegend\":true,\"type\":\"scattergeo\"},{\"geo\":\"geo\",\"hovertemplate\":\"line=189<br>pair=%{location}<extra></extra>\",\"legendgroup\":\"189\",\"line\":{\"color\":\"darkslategray\",\"dash\":\"solid\"},\"locationmode\":\"country names\",\"locations\":[\"India\",\"Colombia\"],\"marker\":{\"symbol\":\"circle\"},\"mode\":\"lines\",\"name\":\"189\",\"showlegend\":true,\"type\":\"scattergeo\"},{\"geo\":\"geo\",\"hovertemplate\":\"line=190<br>pair=%{location}<extra></extra>\",\"legendgroup\":\"190\",\"line\":{\"color\":\"darkslategray\",\"dash\":\"solid\"},\"locationmode\":\"country names\",\"locations\":[\"India\",\"Spain\"],\"marker\":{\"symbol\":\"circle\"},\"mode\":\"lines\",\"name\":\"190\",\"showlegend\":true,\"type\":\"scattergeo\"},{\"geo\":\"geo\",\"hovertemplate\":\"line=191<br>pair=%{location}<extra></extra>\",\"legendgroup\":\"191\",\"line\":{\"color\":\"darkslategray\",\"dash\":\"solid\"},\"locationmode\":\"country names\",\"locations\":[\"India\",\"Mexico\"],\"marker\":{\"symbol\":\"circle\"},\"mode\":\"lines\",\"name\":\"191\",\"showlegend\":true,\"type\":\"scattergeo\"},{\"geo\":\"geo\",\"hovertemplate\":\"line=192<br>pair=%{location}<extra></extra>\",\"legendgroup\":\"192\",\"line\":{\"color\":\"darkslategray\",\"dash\":\"solid\"},\"locationmode\":\"country names\",\"locations\":[\"Puerto Rico\",\"Colombia\"],\"marker\":{\"symbol\":\"circle\"},\"mode\":\"lines\",\"name\":\"192\",\"showlegend\":true,\"type\":\"scattergeo\"},{\"geo\":\"geo\",\"hovertemplate\":\"line=193<br>pair=%{location}<extra></extra>\",\"legendgroup\":\"193\",\"line\":{\"color\":\"darkslategray\",\"dash\":\"solid\"},\"locationmode\":\"country names\",\"locations\":[\"Honduras\",\"Spain\"],\"marker\":{\"symbol\":\"circle\"},\"mode\":\"lines\",\"name\":\"193\",\"showlegend\":true,\"type\":\"scattergeo\"},{\"geo\":\"geo\",\"hovertemplate\":\"line=194<br>pair=%{location}<extra></extra>\",\"legendgroup\":\"194\",\"line\":{\"color\":\"darkslategray\",\"dash\":\"solid\"},\"locationmode\":\"country names\",\"locations\":[\"Uruguay\",\"Colombia\"],\"marker\":{\"symbol\":\"circle\"},\"mode\":\"lines\",\"name\":\"194\",\"showlegend\":true,\"type\":\"scattergeo\"},{\"geo\":\"geo\",\"hovertemplate\":\"line=195<br>pair=%{location}<extra></extra>\",\"legendgroup\":\"195\",\"line\":{\"color\":\"darkslategray\",\"dash\":\"solid\"},\"locationmode\":\"country names\",\"locations\":[\"Japan\",\"Brazil\"],\"marker\":{\"symbol\":\"circle\"},\"mode\":\"lines\",\"name\":\"195\",\"showlegend\":true,\"type\":\"scattergeo\"},{\"geo\":\"geo\",\"hovertemplate\":\"line=196<br>pair=%{location}<extra></extra>\",\"legendgroup\":\"196\",\"line\":{\"color\":\"darkslategray\",\"dash\":\"solid\"},\"locationmode\":\"country names\",\"locations\":[\"Japan\",\"Mexico\"],\"marker\":{\"symbol\":\"circle\"},\"mode\":\"lines\",\"name\":\"196\",\"showlegend\":true,\"type\":\"scattergeo\"},{\"geo\":\"geo\",\"hovertemplate\":\"line=197<br>pair=%{location}<extra></extra>\",\"legendgroup\":\"197\",\"line\":{\"color\":\"darkslategray\",\"dash\":\"solid\"},\"locationmode\":\"country names\",\"locations\":[\"Hungary\",\"Colombia\"],\"marker\":{\"symbol\":\"circle\"},\"mode\":\"lines\",\"name\":\"197\",\"showlegend\":true,\"type\":\"scattergeo\"},{\"geo\":\"geo\",\"hovertemplate\":\"line=198<br>pair=%{location}<extra></extra>\",\"legendgroup\":\"198\",\"line\":{\"color\":\"darkslategray\",\"dash\":\"solid\"},\"locationmode\":\"country names\",\"locations\":[\"Hungary\",\"Belgium\"],\"marker\":{\"symbol\":\"circle\"},\"mode\":\"lines\",\"name\":\"198\",\"showlegend\":true,\"type\":\"scattergeo\"},{\"geo\":\"geo\",\"hovertemplate\":\"line=199<br>pair=%{location}<extra></extra>\",\"legendgroup\":\"199\",\"line\":{\"color\":\"darkslategray\",\"dash\":\"solid\"},\"locationmode\":\"country names\",\"locations\":[\"Armenia\",\"Colombia\"],\"marker\":{\"symbol\":\"circle\"},\"mode\":\"lines\",\"name\":\"199\",\"showlegend\":true,\"type\":\"scattergeo\"},{\"geo\":\"geo\",\"hovertemplate\":\"line=200<br>pair=%{location}<extra></extra>\",\"legendgroup\":\"200\",\"line\":{\"color\":\"darkslategray\",\"dash\":\"solid\"},\"locationmode\":\"country names\",\"locations\":[\"Norway\",\"Poland\"],\"marker\":{\"symbol\":\"circle\"},\"mode\":\"lines\",\"name\":\"200\",\"showlegend\":true,\"type\":\"scattergeo\"},{\"geo\":\"geo\",\"hovertemplate\":\"line=201<br>pair=%{location}<extra></extra>\",\"legendgroup\":\"201\",\"line\":{\"color\":\"darkslategray\",\"dash\":\"solid\"},\"locationmode\":\"country names\",\"locations\":[\"Indonesia\",\"Portugal\"],\"marker\":{\"symbol\":\"circle\"},\"mode\":\"lines\",\"name\":\"201\",\"showlegend\":true,\"type\":\"scattergeo\"},{\"geo\":\"geo\",\"hovertemplate\":\"line=202<br>pair=%{location}<extra></extra>\",\"legendgroup\":\"202\",\"line\":{\"color\":\"darkslategray\",\"dash\":\"solid\"},\"locationmode\":\"country names\",\"locations\":[\"Romania\",\"Mexico\"],\"marker\":{\"symbol\":\"circle\"},\"mode\":\"lines\",\"name\":\"202\",\"showlegend\":true,\"type\":\"scattergeo\"},{\"geo\":\"geo\",\"hovertemplate\":\"line=203<br>pair=%{location}<extra></extra>\",\"legendgroup\":\"203\",\"line\":{\"color\":\"darkslategray\",\"dash\":\"solid\"},\"locationmode\":\"country names\",\"locations\":[\"Austria\",\"Ecuador\"],\"marker\":{\"symbol\":\"circle\"},\"mode\":\"lines\",\"name\":\"203\",\"showlegend\":true,\"type\":\"scattergeo\"},{\"geo\":\"geo\",\"hovertemplate\":\"line=204<br>pair=%{location}<extra></extra>\",\"legendgroup\":\"204\",\"line\":{\"color\":\"darkslategray\",\"dash\":\"solid\"},\"locationmode\":\"country names\",\"locations\":[\"Costa Rica\",\"Colombia\"],\"marker\":{\"symbol\":\"circle\"},\"mode\":\"lines\",\"name\":\"204\",\"showlegend\":true,\"type\":\"scattergeo\"},{\"geo\":\"geo\",\"hovertemplate\":\"line=205<br>pair=%{location}<extra></extra>\",\"legendgroup\":\"205\",\"line\":{\"color\":\"darkslategray\",\"dash\":\"solid\"},\"locationmode\":\"country names\",\"locations\":[\"Ireland\",\"Colombia\"],\"marker\":{\"symbol\":\"circle\"},\"mode\":\"lines\",\"name\":\"205\",\"showlegend\":true,\"type\":\"scattergeo\"},{\"geo\":\"geo\",\"hovertemplate\":\"line=206<br>pair=%{location}<extra></extra>\",\"legendgroup\":\"206\",\"line\":{\"color\":\"darkslategray\",\"dash\":\"solid\"},\"locationmode\":\"country names\",\"locations\":[\"Slovakia\",\"Mexico\"],\"marker\":{\"symbol\":\"circle\"},\"mode\":\"lines\",\"name\":\"206\",\"showlegend\":true,\"type\":\"scattergeo\"},{\"geo\":\"geo\",\"hovertemplate\":\"line=207<br>pair=%{location}<extra></extra>\",\"legendgroup\":\"207\",\"line\":{\"color\":\"darkslategray\",\"dash\":\"solid\"},\"locationmode\":\"country names\",\"locations\":[\"United Arab Emirates\",\"Colombia\"],\"marker\":{\"symbol\":\"circle\"},\"mode\":\"lines\",\"name\":\"207\",\"showlegend\":true,\"type\":\"scattergeo\"}],                        {\"template\":{\"data\":{\"histogram2dcontour\":[{\"type\":\"histogram2dcontour\",\"colorbar\":{\"outlinewidth\":0,\"ticks\":\"\"},\"colorscale\":[[0.0,\"#0d0887\"],[0.1111111111111111,\"#46039f\"],[0.2222222222222222,\"#7201a8\"],[0.3333333333333333,\"#9c179e\"],[0.4444444444444444,\"#bd3786\"],[0.5555555555555556,\"#d8576b\"],[0.6666666666666666,\"#ed7953\"],[0.7777777777777778,\"#fb9f3a\"],[0.8888888888888888,\"#fdca26\"],[1.0,\"#f0f921\"]]}],\"choropleth\":[{\"type\":\"choropleth\",\"colorbar\":{\"outlinewidth\":0,\"ticks\":\"\"}}],\"histogram2d\":[{\"type\":\"histogram2d\",\"colorbar\":{\"outlinewidth\":0,\"ticks\":\"\"},\"colorscale\":[[0.0,\"#0d0887\"],[0.1111111111111111,\"#46039f\"],[0.2222222222222222,\"#7201a8\"],[0.3333333333333333,\"#9c179e\"],[0.4444444444444444,\"#bd3786\"],[0.5555555555555556,\"#d8576b\"],[0.6666666666666666,\"#ed7953\"],[0.7777777777777778,\"#fb9f3a\"],[0.8888888888888888,\"#fdca26\"],[1.0,\"#f0f921\"]]}],\"heatmap\":[{\"type\":\"heatmap\",\"colorbar\":{\"outlinewidth\":0,\"ticks\":\"\"},\"colorscale\":[[0.0,\"#0d0887\"],[0.1111111111111111,\"#46039f\"],[0.2222222222222222,\"#7201a8\"],[0.3333333333333333,\"#9c179e\"],[0.4444444444444444,\"#bd3786\"],[0.5555555555555556,\"#d8576b\"],[0.6666666666666666,\"#ed7953\"],[0.7777777777777778,\"#fb9f3a\"],[0.8888888888888888,\"#fdca26\"],[1.0,\"#f0f921\"]]}],\"heatmapgl\":[{\"type\":\"heatmapgl\",\"colorbar\":{\"outlinewidth\":0,\"ticks\":\"\"},\"colorscale\":[[0.0,\"#0d0887\"],[0.1111111111111111,\"#46039f\"],[0.2222222222222222,\"#7201a8\"],[0.3333333333333333,\"#9c179e\"],[0.4444444444444444,\"#bd3786\"],[0.5555555555555556,\"#d8576b\"],[0.6666666666666666,\"#ed7953\"],[0.7777777777777778,\"#fb9f3a\"],[0.8888888888888888,\"#fdca26\"],[1.0,\"#f0f921\"]]}],\"contourcarpet\":[{\"type\":\"contourcarpet\",\"colorbar\":{\"outlinewidth\":0,\"ticks\":\"\"}}],\"contour\":[{\"type\":\"contour\",\"colorbar\":{\"outlinewidth\":0,\"ticks\":\"\"},\"colorscale\":[[0.0,\"#0d0887\"],[0.1111111111111111,\"#46039f\"],[0.2222222222222222,\"#7201a8\"],[0.3333333333333333,\"#9c179e\"],[0.4444444444444444,\"#bd3786\"],[0.5555555555555556,\"#d8576b\"],[0.6666666666666666,\"#ed7953\"],[0.7777777777777778,\"#fb9f3a\"],[0.8888888888888888,\"#fdca26\"],[1.0,\"#f0f921\"]]}],\"surface\":[{\"type\":\"surface\",\"colorbar\":{\"outlinewidth\":0,\"ticks\":\"\"},\"colorscale\":[[0.0,\"#0d0887\"],[0.1111111111111111,\"#46039f\"],[0.2222222222222222,\"#7201a8\"],[0.3333333333333333,\"#9c179e\"],[0.4444444444444444,\"#bd3786\"],[0.5555555555555556,\"#d8576b\"],[0.6666666666666666,\"#ed7953\"],[0.7777777777777778,\"#fb9f3a\"],[0.8888888888888888,\"#fdca26\"],[1.0,\"#f0f921\"]]}],\"mesh3d\":[{\"type\":\"mesh3d\",\"colorbar\":{\"outlinewidth\":0,\"ticks\":\"\"}}],\"scatter\":[{\"fillpattern\":{\"fillmode\":\"overlay\",\"size\":10,\"solidity\":0.2},\"type\":\"scatter\"}],\"parcoords\":[{\"type\":\"parcoords\",\"line\":{\"colorbar\":{\"outlinewidth\":0,\"ticks\":\"\"}}}],\"scatterpolargl\":[{\"type\":\"scatterpolargl\",\"marker\":{\"colorbar\":{\"outlinewidth\":0,\"ticks\":\"\"}}}],\"bar\":[{\"error_x\":{\"color\":\"#2a3f5f\"},\"error_y\":{\"color\":\"#2a3f5f\"},\"marker\":{\"line\":{\"color\":\"#E5ECF6\",\"width\":0.5},\"pattern\":{\"fillmode\":\"overlay\",\"size\":10,\"solidity\":0.2}},\"type\":\"bar\"}],\"scattergeo\":[{\"type\":\"scattergeo\",\"marker\":{\"colorbar\":{\"outlinewidth\":0,\"ticks\":\"\"}}}],\"scatterpolar\":[{\"type\":\"scatterpolar\",\"marker\":{\"colorbar\":{\"outlinewidth\":0,\"ticks\":\"\"}}}],\"histogram\":[{\"marker\":{\"pattern\":{\"fillmode\":\"overlay\",\"size\":10,\"solidity\":0.2}},\"type\":\"histogram\"}],\"scattergl\":[{\"type\":\"scattergl\",\"marker\":{\"colorbar\":{\"outlinewidth\":0,\"ticks\":\"\"}}}],\"scatter3d\":[{\"type\":\"scatter3d\",\"line\":{\"colorbar\":{\"outlinewidth\":0,\"ticks\":\"\"}},\"marker\":{\"colorbar\":{\"outlinewidth\":0,\"ticks\":\"\"}}}],\"scattermapbox\":[{\"type\":\"scattermapbox\",\"marker\":{\"colorbar\":{\"outlinewidth\":0,\"ticks\":\"\"}}}],\"scatterternary\":[{\"type\":\"scatterternary\",\"marker\":{\"colorbar\":{\"outlinewidth\":0,\"ticks\":\"\"}}}],\"scattercarpet\":[{\"type\":\"scattercarpet\",\"marker\":{\"colorbar\":{\"outlinewidth\":0,\"ticks\":\"\"}}}],\"carpet\":[{\"aaxis\":{\"endlinecolor\":\"#2a3f5f\",\"gridcolor\":\"white\",\"linecolor\":\"white\",\"minorgridcolor\":\"white\",\"startlinecolor\":\"#2a3f5f\"},\"baxis\":{\"endlinecolor\":\"#2a3f5f\",\"gridcolor\":\"white\",\"linecolor\":\"white\",\"minorgridcolor\":\"white\",\"startlinecolor\":\"#2a3f5f\"},\"type\":\"carpet\"}],\"table\":[{\"cells\":{\"fill\":{\"color\":\"#EBF0F8\"},\"line\":{\"color\":\"white\"}},\"header\":{\"fill\":{\"color\":\"#C8D4E3\"},\"line\":{\"color\":\"white\"}},\"type\":\"table\"}],\"barpolar\":[{\"marker\":{\"line\":{\"color\":\"#E5ECF6\",\"width\":0.5},\"pattern\":{\"fillmode\":\"overlay\",\"size\":10,\"solidity\":0.2}},\"type\":\"barpolar\"}],\"pie\":[{\"automargin\":true,\"type\":\"pie\"}]},\"layout\":{\"autotypenumbers\":\"strict\",\"colorway\":[\"#636efa\",\"#EF553B\",\"#00cc96\",\"#ab63fa\",\"#FFA15A\",\"#19d3f3\",\"#FF6692\",\"#B6E880\",\"#FF97FF\",\"#FECB52\"],\"font\":{\"color\":\"#2a3f5f\"},\"hovermode\":\"closest\",\"hoverlabel\":{\"align\":\"left\"},\"paper_bgcolor\":\"white\",\"plot_bgcolor\":\"#E5ECF6\",\"polar\":{\"bgcolor\":\"#E5ECF6\",\"angularaxis\":{\"gridcolor\":\"white\",\"linecolor\":\"white\",\"ticks\":\"\"},\"radialaxis\":{\"gridcolor\":\"white\",\"linecolor\":\"white\",\"ticks\":\"\"}},\"ternary\":{\"bgcolor\":\"#E5ECF6\",\"aaxis\":{\"gridcolor\":\"white\",\"linecolor\":\"white\",\"ticks\":\"\"},\"baxis\":{\"gridcolor\":\"white\",\"linecolor\":\"white\",\"ticks\":\"\"},\"caxis\":{\"gridcolor\":\"white\",\"linecolor\":\"white\",\"ticks\":\"\"}},\"coloraxis\":{\"colorbar\":{\"outlinewidth\":0,\"ticks\":\"\"}},\"colorscale\":{\"sequential\":[[0.0,\"#0d0887\"],[0.1111111111111111,\"#46039f\"],[0.2222222222222222,\"#7201a8\"],[0.3333333333333333,\"#9c179e\"],[0.4444444444444444,\"#bd3786\"],[0.5555555555555556,\"#d8576b\"],[0.6666666666666666,\"#ed7953\"],[0.7777777777777778,\"#fb9f3a\"],[0.8888888888888888,\"#fdca26\"],[1.0,\"#f0f921\"]],\"sequentialminus\":[[0.0,\"#0d0887\"],[0.1111111111111111,\"#46039f\"],[0.2222222222222222,\"#7201a8\"],[0.3333333333333333,\"#9c179e\"],[0.4444444444444444,\"#bd3786\"],[0.5555555555555556,\"#d8576b\"],[0.6666666666666666,\"#ed7953\"],[0.7777777777777778,\"#fb9f3a\"],[0.8888888888888888,\"#fdca26\"],[1.0,\"#f0f921\"]],\"diverging\":[[0,\"#8e0152\"],[0.1,\"#c51b7d\"],[0.2,\"#de77ae\"],[0.3,\"#f1b6da\"],[0.4,\"#fde0ef\"],[0.5,\"#f7f7f7\"],[0.6,\"#e6f5d0\"],[0.7,\"#b8e186\"],[0.8,\"#7fbc41\"],[0.9,\"#4d9221\"],[1,\"#276419\"]]},\"xaxis\":{\"gridcolor\":\"white\",\"linecolor\":\"white\",\"ticks\":\"\",\"title\":{\"standoff\":15},\"zerolinecolor\":\"white\",\"automargin\":true,\"zerolinewidth\":2},\"yaxis\":{\"gridcolor\":\"white\",\"linecolor\":\"white\",\"ticks\":\"\",\"title\":{\"standoff\":15},\"zerolinecolor\":\"white\",\"automargin\":true,\"zerolinewidth\":2},\"scene\":{\"xaxis\":{\"backgroundcolor\":\"#E5ECF6\",\"gridcolor\":\"white\",\"linecolor\":\"white\",\"showbackground\":true,\"ticks\":\"\",\"zerolinecolor\":\"white\",\"gridwidth\":2},\"yaxis\":{\"backgroundcolor\":\"#E5ECF6\",\"gridcolor\":\"white\",\"linecolor\":\"white\",\"showbackground\":true,\"ticks\":\"\",\"zerolinecolor\":\"white\",\"gridwidth\":2},\"zaxis\":{\"backgroundcolor\":\"#E5ECF6\",\"gridcolor\":\"white\",\"linecolor\":\"white\",\"showbackground\":true,\"ticks\":\"\",\"zerolinecolor\":\"white\",\"gridwidth\":2}},\"shapedefaults\":{\"line\":{\"color\":\"#2a3f5f\"}},\"annotationdefaults\":{\"arrowcolor\":\"#2a3f5f\",\"arrowhead\":0,\"arrowwidth\":1},\"geo\":{\"bgcolor\":\"white\",\"landcolor\":\"#E5ECF6\",\"subunitcolor\":\"white\",\"showland\":true,\"showlakes\":true,\"lakecolor\":\"white\"},\"title\":{\"x\":0.05},\"mapbox\":{\"style\":\"light\"}}},\"geo\":{\"domain\":{\"x\":[0.0,1.0],\"y\":[0.0,1.0]},\"center\":{},\"lataxis\":{\"showgrid\":false},\"lonaxis\":{\"showgrid\":false},\"showcountries\":true,\"landcolor\":\"lightgray\",\"countrycolor\":\"Black\"},\"legend\":{\"title\":{\"text\":\"line\"},\"tracegroupgap\":0},\"margin\":{\"t\":1,\"l\":1,\"r\":1,\"b\":1},\"showlegend\":false,\"width\":700,\"height\":400},                        {\"responsive\": true}                    ).then(function(){\n",
       "                            \n",
       "var gd = document.getElementById('c8b390e1-93df-451d-b8a0-8a699bd6c583');\n",
       "var x = new MutationObserver(function (mutations, observer) {{\n",
       "        var display = window.getComputedStyle(gd).display;\n",
       "        if (!display || display === 'none') {{\n",
       "            console.log([gd, 'removed!']);\n",
       "            Plotly.purge(gd);\n",
       "            observer.disconnect();\n",
       "        }}\n",
       "}});\n",
       "\n",
       "// Listen for the removal of the full notebook cells\n",
       "var notebookContainer = gd.closest('#notebook-container');\n",
       "if (notebookContainer) {{\n",
       "    x.observe(notebookContainer, {childList: true});\n",
       "}}\n",
       "\n",
       "// Listen for the clearing of the current output cell\n",
       "var outputEl = gd.closest('.output');\n",
       "if (outputEl) {{\n",
       "    x.observe(outputEl, {childList: true});\n",
       "}}\n",
       "\n",
       "                        })                };                });            </script>        </div>"
      ]
     },
     "metadata": {},
     "output_type": "display_data"
    }
   ],
   "source": [
    "from techminer2 import bibliometrix\n",
    "\n",
    "bibliometrix.social_structure.collaboration_worldmap(\n",
    "    directory=\"../../data/\",\n",
    ").update_layout(\n",
    "    width=700,\n",
    "    height=400,\n",
    ")"
   ]
  }
 ],
 "metadata": {
  "kernelspec": {
   "display_name": "Python 3 (ipykernel)",
   "language": "python",
   "name": "python3"
  },
  "language_info": {
   "codemirror_mode": {
    "name": "ipython",
    "version": 3
   },
   "file_extension": ".py",
   "mimetype": "text/x-python",
   "name": "python",
   "nbconvert_exporter": "python",
   "pygments_lexer": "ipython3",
   "version": "3.8.10"
  }
 },
 "nbformat": 4,
 "nbformat_minor": 5
}
