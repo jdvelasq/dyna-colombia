{
 "cells": [
  {
   "cell_type": "markdown",
   "id": "2acec7a4-82a6-4149-b3ea-51cf41dce322",
   "metadata": {},
   "source": [
    "Redes de coautoría\n",
    "==="
   ]
  },
  {
   "cell_type": "code",
   "execution_count": 2,
   "id": "802711d3-a862-4022-a2ef-1145ca1dda68",
   "metadata": {},
   "outputs": [
    {
     "data": {
      "application/vnd.plotly.v1+json": {
       "config": {
        "plotlyServerURL": "https://plot.ly"
       },
       "data": [
        {
         "hoverinfo": "none",
         "line": {
          "color": "#888",
          "width": 0.7
         },
         "mode": "lines",
         "type": "scatter",
         "x": [
          0.9459194691891183,
          -0.9317983346409962,
          null,
          0.9459194691891183,
          -0.7643583865156087,
          null,
          -0.9317983346409962,
          -0.7643583865156087,
          null,
          -0.8492576834664448,
          -0.49006036630076966,
          null,
          0.37559461012298095,
          0.5151697314422287,
          null,
          0.37559461012298095,
          -0.8740000073962265,
          null,
          0.37559461012298095,
          -0.7647164398857209,
          null,
          0.37559461012298095,
          -0.3287844556970736,
          null,
          0.5151697314422287,
          -0.8740000073962265,
          null,
          0.5151697314422287,
          -0.7647164398857209,
          null,
          0.5151697314422287,
          -0.3287844556970736,
          null,
          -0.8378574374032883,
          -0.038733075799977895,
          null,
          0.3769799567655359,
          -0.5327656276081454,
          null,
          0.3769799567655359,
          0.10072787387023535,
          null,
          -0.6506379106145471,
          -0.10994865446335603,
          null,
          -0.6506379106145471,
          0.6889967086323967,
          null,
          -0.6506379106145471,
          -0.8782682622067821,
          null,
          -0.10994865446335603,
          0.6889967086323967,
          null,
          0.8238284325859019,
          0.6889967086323967,
          null,
          -0.8782682622067821,
          0.10072787387023535,
          null,
          -0.8782682622067821,
          -0.3287844556970736,
          null,
          -0.8740000073962265,
          -0.7647164398857209,
          null,
          -0.8740000073962265,
          -0.3287844556970736,
          null,
          -0.7647164398857209,
          -0.3287844556970736,
          null,
          0.9466809029042895,
          0.0984237516598256,
          null,
          0.9466809029042895,
          -0.9575294809321705,
          null,
          0.6788709595518965,
          -0.8176410415746952,
          null,
          -0.46161573293051533,
          0.5123333124515751,
          null,
          -0.46161573293051533,
          0.7949246211195056,
          null,
          -0.46161573293051533,
          -0.7643583865156087,
          null,
          -0.5327656276081454,
          -0.3287844556970736,
          null,
          0.10072787387023535,
          -0.3287844556970736,
          null,
          0.7949246211195056,
          -0.6972322910518888,
          null,
          0.7949246211195056,
          -0.7643583865156087,
          null,
          -0.9575294809321705,
          -0.62468555397827,
          null,
          0.7240344929979439,
          0.9722317601355865,
          null,
          -0.6972322910518888,
          -0.7643583865156087,
          null
         ],
         "y": [
          -0.22901248720842773,
          0.4379381933749481,
          null,
          -0.22901248720842773,
          0.5411781532702773,
          null,
          0.4379381933749481,
          0.5411781532702773,
          null,
          -0.5469195902450307,
          0.8765398029531205,
          null,
          -0.40652530134010156,
          -0.7316467491406865,
          null,
          -0.40652530134010156,
          0.15703541760906917,
          null,
          -0.40652530134010156,
          0.29426885754924753,
          null,
          -0.40652530134010156,
          0.7188713058147175,
          null,
          -0.7316467491406865,
          0.15703541760906917,
          null,
          -0.7316467491406865,
          0.29426885754924753,
          null,
          -0.7316467491406865,
          0.7188713058147175,
          null,
          -0.1293522095397551,
          1,
          null,
          -0.8387957491711191,
          0.6753806579512347,
          null,
          -0.8387957491711191,
          -0.6410685642041934,
          null,
          -0.5969098917384138,
          0.8814357901936507,
          null,
          -0.5969098917384138,
          -0.43428528455414134,
          null,
          -0.5969098917384138,
          -0.3074280580233198,
          null,
          0.8814357901936507,
          -0.43428528455414134,
          null,
          0.40420637073785487,
          -0.43428528455414134,
          null,
          -0.3074280580233198,
          -0.6410685642041934,
          null,
          -0.3074280580233198,
          0.7188713058147175,
          null,
          0.15703541760906917,
          0.29426885754924753,
          null,
          0.15703541760906917,
          0.7188713058147175,
          null,
          0.29426885754924753,
          0.7188713058147175,
          null,
          -0.421173832148828,
          0.8825169262358216,
          null,
          -0.421173832148828,
          -0.1132636291027002,
          null,
          0.5271289989542901,
          0.8470465958794104,
          null,
          -0.5125645745954829,
          0.6170409576221757,
          null,
          -0.5125645745954829,
          0.12759973327654744,
          null,
          -0.5125645745954829,
          0.5411781532702773,
          null,
          0.6753806579512347,
          0.7188713058147175,
          null,
          -0.6410685642041934,
          0.7188713058147175,
          null,
          0.12759973327654744,
          -0.373165987658634,
          null,
          0.12759973327654744,
          0.5411781532702773,
          null,
          -0.1132636291027002,
          0.02036438458688568,
          null,
          0.3212704188129094,
          0.1759267699508993,
          null,
          -0.373165987658634,
          0.5411781532702773,
          null
         ]
        },
        {
         "hoverinfo": "text",
         "hovertext": [
          "<b>Cedillo-Campos MG 06:052</b><br>  Garcia-Alcaraz JL 06:061<br>    Adarme-Jaimes W 13:093",
          "<b>Garcia-Alcaraz JL 06:061</b><br>  Cedillo-Campos MG 06:052<br>    Adarme-Jaimes W 13:093",
          "<b>244696AnonAnon700 07:018</b>",
          "<b>245Anon4250700 07:046</b><br>  7Anon022Anon72Anon9 08:048",
          "<b>35262463Anon00 07:016</b>",
          "<b>36976Anon67500 07:015</b><br>        5526378Anon600 07:015<br>      Ramirez-Vieyra J 07:015<br>        Salas-Banuet G 07:015<br>  57Anon9Anon039Anon00 14:043",
          "<b>3806Anon938Anon00 07:022</b>",
          "<b>5526378Anon600 07:015</b><br>        36976Anon67500 07:015<br>      Ramirez-Vieyra J 07:015<br>        Salas-Banuet G 07:015<br>  57Anon9Anon039Anon00 14:043",
          "<b>55439Anon02500 07:026</b><br>  Palacio CA/Anon 11:047",
          "<b>56AnonAnon6383200 07:018</b><br>  56AnonAnon6370500 09:011<br>           Tobon JI 10:050",
          "<b>5720Anon979389 07:041</b><br>    7006378Anon88 07:030<br>   2439855Anon800 10:045<br>  Paya-Bernabeu J 07:049",
          "<b>7006378Anon88 07:030</b><br>  2439855Anon800 10:045<br>  5720Anon979389 07:041",
          "<b>Alvarez-Lugo AE 07:032</b>",
          "<b>Anon582Anon982200 07:050</b>",
          "<b>Anon7Anon35548800 07:005</b><br>  2439855Anon800 10:045",
          "<b>Marulanda-Arevalo JL 07:021</b>",
          "<b>Paya-Bernabeu J 07:049</b><br>        5720Anon979389 07:041<br>              Tobon JI 10:050<br>  57Anon9Anon039Anon00 14:043",
          "<b>Ramirez-Vieyra J 07:015</b><br>        36976Anon67500 07:015<br>        5526378Anon600 07:015<br>        Salas-Banuet G 07:015<br>  57Anon9Anon039Anon00 14:043",
          "<b>Ramos-Paja CA 07:032</b>",
          "<b>Salas-Banuet G 07:015</b><br>        36976Anon67500 07:015<br>        5526378Anon600 07:015<br>      Ramirez-Vieyra J 07:015<br>  57Anon9Anon039Anon00 14:043",
          "<b>2564Anon6Anon4600 08:056</b><br>                6506Anon87659 12:036<br>  de Fatima Ferreira-Tinoco I 10:084",
          "<b>53868AnonAnon4900 08:029</b>",
          "<b>564493Anon3400 08:023</b>",
          "<b>70066Anon2066 08:010</b>",
          "<b>7Anon022Anon72Anon9 08:048</b><br>  245Anon4250700 07:046",
          "<b>7Anon0308Anon268 08:050</b><br>  Velasquez-Henao JD 13:033",
          "<b>Arango-Serna MD/1 08:039</b><br>    55366608Anon00 16:041<br>  Zapata-Cortes JA 10:056<br>   Adarme-Jaimes W 13:093",
          "<b>Hoyos BA 08:014</b>",
          "<b>Taboada-Castro J 08:014</b>",
          "<b>56AnonAnon6370500 09:011</b><br>     56AnonAnon6383200 07:018<br>  57Anon9Anon039Anon00 14:043",
          "<b>700670223Anon 09:040</b>",
          "<b>Rojas-sola JI 09:041</b>",
          "<b>2439855Anon800 10:045</b><br>      7006378Anon88 07:030<br>     5720Anon979389 07:041<br>  Anon7Anon35548800 07:005",
          "<b>55652907Anon00 10:044</b>",
          "<b>57Anon978Anon4099 10:064</b>",
          "<b>Tobon JI 10:050</b><br>  57Anon9Anon039Anon00 14:043<br>     56AnonAnon6383200 07:018<br>       Paya-Bernabeu J 07:049",
          "<b>Zapata-Cortes JA 10:056</b><br>  57Anon9422040Anon 12:051<br>  Arango-Serna MD/1 08:039<br>    Adarme-Jaimes W 13:093",
          "<b>de Fatima Ferreira-Tinoco I 10:084</b><br>  558AnonAnon295500 13:063<br>  2564Anon6Anon4600 08:056",
          "<b>6603Anon5497Anon 11:067</b><br>  23986Anon69Anon00 13:101",
          "<b>Palacio CA/Anon 11:047</b><br>  55439Anon02500 07:026",
          "<b>57Anon9422040Anon 12:051</b><br>  Zapata-Cortes JA 10:056<br>   Adarme-Jaimes W 13:093",
          "<b>6506Anon87659 12:036</b><br>  2564Anon6Anon4600 08:056",
          "<b>Correa R 12:040</b>",
          "<b>23986Anon69Anon00 13:101</b><br>  6603Anon5497Anon 11:067",
          "<b>558AnonAnon295500 13:063</b><br>  de Fatima Ferreira-Tinoco I 10:084",
          "<b>Adarme-Jaimes W 13:093</b><br>  Garcia-Alcaraz JL 06:061<br>  Arango-Serna MD/1 08:039<br>   Zapata-Cortes JA 10:056<br>  Cedillo-Campos MG 06:052<br>  57Anon9422040Anon 12:051",
          "<b>Velasquez-Henao JD 13:033</b><br>  7Anon0308Anon268 08:050",
          "<b>Zapata-Jaramillo CM 13:030</b>",
          "<b>57Anon9Anon039Anon00 14:043</b><br>     36976Anon67500 07:015<br>     5526378Anon600 07:015<br>   Ramirez-Vieyra J 07:015<br>     Salas-Banuet G 07:015<br>           Tobon JI 10:050<br>    Paya-Bernabeu J 07:049<br>  56AnonAnon6370500 09:011",
          "<b>55366608Anon00 16:041</b><br>  Arango-Serna MD/1 08:039"
         ],
         "marker": {
          "color": [
           "#E15F99",
           "#E15F99",
           "#EB663B",
           "#DA16FF",
           "#511CFB",
           "#1CA71C",
           "#00A08B",
           "#1CA71C",
           "#222A2A",
           "#2E91E5",
           "#2E91E5",
           "#2E91E5",
           "#FB00D1",
           "#FC0080",
           "#2E91E5",
           "#B2828D",
           "#2E91E5",
           "#1CA71C",
           "#6C7C32",
           "#1CA71C",
           "#FB0D0D",
           "#778AAE",
           "#862A16",
           "#A777F1",
           "#DA16FF",
           "#B68100",
           "#E15F99",
           "#620042",
           "#1616A7",
           "#2E91E5",
           "#DA60CA",
           "#6C4516",
           "#2E91E5",
           "#0D2A63",
           "#AF0038",
           "#2E91E5",
           "#E15F99",
           "#FB0D0D",
           "#750D86",
           "#222A2A",
           "#E15F99",
           "#FB0D0D",
           "#FD3216",
           "#750D86",
           "#FB0D0D",
           "#E15F99",
           "#B68100",
           "#00FE35",
           "#1CA71C",
           "#E15F99"
          ],
          "line": {
           "color": "DarkSlateGrey",
           "width": 2
          },
          "size": [
           12.857142857142858,
           12.857142857142858,
           10,
           11.428571428571429,
           10,
           15.714285714285715,
           10,
           15.714285714285715,
           11.428571428571429,
           12.857142857142858,
           14.285714285714285,
           12.857142857142858,
           10,
           10,
           11.428571428571429,
           10,
           14.285714285714285,
           15.714285714285715,
           10,
           15.714285714285715,
           12.857142857142858,
           10,
           10,
           10,
           11.428571428571429,
           11.428571428571429,
           14.285714285714285,
           10,
           10,
           12.857142857142858,
           10,
           10,
           14.285714285714285,
           10,
           10,
           14.285714285714285,
           14.285714285714285,
           12.857142857142858,
           11.428571428571429,
           11.428571428571429,
           12.857142857142858,
           11.428571428571429,
           10,
           11.428571428571429,
           11.428571428571429,
           17.142857142857142,
           11.428571428571429,
           10,
           20,
           11.428571428571429
          ]
         },
         "mode": "markers+text",
         "text": [
          "Cedillo-Campos MG 06:052",
          "Garcia-Alcaraz JL 06:061",
          "244696AnonAnon700 07:018",
          "245Anon4250700 07:046",
          "35262463Anon00 07:016",
          "36976Anon67500 07:015",
          "3806Anon938Anon00 07:022",
          "5526378Anon600 07:015",
          "55439Anon02500 07:026",
          "56AnonAnon6383200 07:018",
          "5720Anon979389 07:041",
          "7006378Anon88 07:030",
          "Alvarez-Lugo AE 07:032",
          "Anon582Anon982200 07:050",
          "Anon7Anon35548800 07:005",
          "Marulanda-Arevalo JL 07:021",
          "Paya-Bernabeu J 07:049",
          "Ramirez-Vieyra J 07:015",
          "Ramos-Paja CA 07:032",
          "Salas-Banuet G 07:015",
          "2564Anon6Anon4600 08:056",
          "53868AnonAnon4900 08:029",
          "564493Anon3400 08:023",
          "70066Anon2066 08:010",
          "7Anon022Anon72Anon9 08:048",
          "7Anon0308Anon268 08:050",
          "Arango-Serna MD/1 08:039",
          "Hoyos BA 08:014",
          "Taboada-Castro J 08:014",
          "56AnonAnon6370500 09:011",
          "700670223Anon 09:040",
          "Rojas-sola JI 09:041",
          "2439855Anon800 10:045",
          "55652907Anon00 10:044",
          "57Anon978Anon4099 10:064",
          "Tobon JI 10:050",
          "Zapata-Cortes JA 10:056",
          "de Fatima Ferreira-Tinoco I 10:084",
          "6603Anon5497Anon 11:067",
          "Palacio CA/Anon 11:047",
          "57Anon9422040Anon 12:051",
          "6506Anon87659 12:036",
          "Correa R 12:040",
          "23986Anon69Anon00 13:101",
          "558AnonAnon295500 13:063",
          "Adarme-Jaimes W 13:093",
          "Velasquez-Henao JD 13:033",
          "Zapata-Jaramillo CM 13:030",
          "57Anon9Anon039Anon00 14:043",
          "55366608Anon00 16:041"
         ],
         "textfont": {
          "size": [
           8.428571428571429,
           8.428571428571429,
           7,
           7.714285714285714,
           7,
           9.857142857142858,
           7,
           9.857142857142858,
           7.714285714285714,
           8.428571428571429,
           9.142857142857142,
           8.428571428571429,
           7,
           7,
           7.714285714285714,
           7,
           9.142857142857142,
           9.857142857142858,
           7,
           9.857142857142858,
           8.428571428571429,
           7,
           7,
           7,
           7.714285714285714,
           7.714285714285714,
           9.142857142857142,
           7,
           7,
           8.428571428571429,
           7,
           7,
           9.142857142857142,
           7,
           7,
           9.142857142857142,
           9.142857142857142,
           8.428571428571429,
           7.714285714285714,
           7.714285714285714,
           8.428571428571429,
           7.714285714285714,
           7,
           7.714285714285714,
           7.714285714285714,
           10.571428571428571,
           7.714285714285714,
           7,
           12,
           7.714285714285714
          ]
         },
         "textposition": [
          "bottom right",
          "top left",
          "bottom right",
          "bottom left",
          "bottom right",
          "bottom right",
          "bottom left",
          "bottom right",
          "bottom left",
          "bottom right",
          "bottom left",
          "top left",
          "top right",
          "bottom left",
          "top right",
          "bottom left",
          "bottom left",
          "top left",
          "top right",
          "top left",
          "bottom right",
          "top right",
          "bottom right",
          "top left",
          "top left",
          "top right",
          "bottom left",
          "bottom right",
          "bottom right",
          "top left",
          "top right",
          "bottom left",
          "bottom right",
          "top left",
          "bottom left",
          "bottom right",
          "top right",
          "bottom left",
          "top right",
          "top left",
          "bottom left",
          "top right",
          "top right",
          "top right",
          "top left",
          "top left",
          "top left",
          "top right",
          "top left",
          "top right"
         ],
         "type": "scatter",
         "x": [
          0.9459194691891183,
          -0.9317983346409962,
          0.11745614980177427,
          -0.8492576834664448,
          0.8535709009852236,
          0.37559461012298095,
          -0.205579238230507,
          0.5151697314422287,
          -0.8378574374032883,
          0.3769799567655359,
          -0.6506379106145471,
          -0.10994865446335603,
          0.28158230567831216,
          -0.42061081873411693,
          0.8238284325859019,
          -0.26278909837124603,
          -0.8782682622067821,
          -0.8740000073962265,
          0.4138758465444688,
          -0.7647164398857209,
          0.9466809029042895,
          0.2253625570179091,
          0.2314187472127406,
          -0.2736600722438239,
          -0.49006036630076966,
          0.6788709595518965,
          -0.46161573293051533,
          0.8036146839806615,
          0.6575213418276694,
          -0.5327656276081454,
          0.6536825829393736,
          -0.09100262563064473,
          0.6889967086323967,
          -0.49546049492941313,
          -0.5537975772396544,
          0.10072787387023535,
          0.7949246211195056,
          -0.9575294809321705,
          0.7240344929979439,
          -0.038733075799977895,
          -0.6972322910518888,
          0.0984237516598256,
          0.2189185534357514,
          0.9722317601355865,
          -0.62468555397827,
          -0.7643583865156087,
          -0.8176410415746952,
          0.9010704149929795,
          -0.3287844556970736,
          0.5123333124515751
         ],
         "y": [
          -0.22901248720842773,
          0.4379381933749481,
          -0.8792389810183362,
          -0.5469195902450307,
          -0.7354141075850456,
          -0.40652530134010156,
          -0.7768752344973366,
          -0.7316467491406865,
          -0.1293522095397551,
          -0.8387957491711191,
          -0.5969098917384138,
          0.8814357901936507,
          0.7033966285085063,
          -0.7171616315587225,
          0.40420637073785487,
          -0.9651883338101623,
          -0.3074280580233198,
          0.15703541760906917,
          0.7668089301732799,
          0.29426885754924753,
          -0.421173832148828,
          0.8215160902918781,
          -0.9634175788268962,
          0.9058478546105196,
          0.8765398029531205,
          0.5271289989542901,
          -0.5125645745954829,
          -0.18778843317438446,
          -0.7613699291135626,
          0.6753806579512347,
          0.6886962313211237,
          -0.8850594902140146,
          -0.43428528455414134,
          0.41730998217034776,
          -0.8288077706314706,
          -0.6410685642041934,
          0.12759973327654744,
          -0.1132636291027002,
          0.3212704188129094,
          1,
          -0.373165987658634,
          0.8825169262358216,
          0.16727232321818578,
          0.1759267699508993,
          0.02036438458688568,
          0.5411781532702773,
          0.8470465958794104,
          0.0058360240338669956,
          0.7188713058147175,
          0.6170409576221757
         ]
        }
       ],
       "layout": {
        "annotations": [
         {
          "align": "left",
          "font": {
           "size": 10
          },
          "showarrow": false,
          "text": "",
          "x": 0.005,
          "xref": "paper",
          "y": -0.002,
          "yref": "paper"
         }
        ],
        "height": 700,
        "hoverlabel": {
         "bgcolor": "white",
         "font": {
          "family": "monospace"
         }
        },
        "hovermode": "closest",
        "margin": {
         "b": 0,
         "l": 0,
         "r": 0,
         "t": 0
        },
        "paper_bgcolor": "white",
        "plot_bgcolor": "white",
        "showlegend": false,
        "template": {
         "data": {
          "bar": [
           {
            "error_x": {
             "color": "#2a3f5f"
            },
            "error_y": {
             "color": "#2a3f5f"
            },
            "marker": {
             "line": {
              "color": "#E5ECF6",
              "width": 0.5
             },
             "pattern": {
              "fillmode": "overlay",
              "size": 10,
              "solidity": 0.2
             }
            },
            "type": "bar"
           }
          ],
          "barpolar": [
           {
            "marker": {
             "line": {
              "color": "#E5ECF6",
              "width": 0.5
             },
             "pattern": {
              "fillmode": "overlay",
              "size": 10,
              "solidity": 0.2
             }
            },
            "type": "barpolar"
           }
          ],
          "carpet": [
           {
            "aaxis": {
             "endlinecolor": "#2a3f5f",
             "gridcolor": "white",
             "linecolor": "white",
             "minorgridcolor": "white",
             "startlinecolor": "#2a3f5f"
            },
            "baxis": {
             "endlinecolor": "#2a3f5f",
             "gridcolor": "white",
             "linecolor": "white",
             "minorgridcolor": "white",
             "startlinecolor": "#2a3f5f"
            },
            "type": "carpet"
           }
          ],
          "choropleth": [
           {
            "colorbar": {
             "outlinewidth": 0,
             "ticks": ""
            },
            "type": "choropleth"
           }
          ],
          "contour": [
           {
            "colorbar": {
             "outlinewidth": 0,
             "ticks": ""
            },
            "colorscale": [
             [
              0,
              "#0d0887"
             ],
             [
              0.1111111111111111,
              "#46039f"
             ],
             [
              0.2222222222222222,
              "#7201a8"
             ],
             [
              0.3333333333333333,
              "#9c179e"
             ],
             [
              0.4444444444444444,
              "#bd3786"
             ],
             [
              0.5555555555555556,
              "#d8576b"
             ],
             [
              0.6666666666666666,
              "#ed7953"
             ],
             [
              0.7777777777777778,
              "#fb9f3a"
             ],
             [
              0.8888888888888888,
              "#fdca26"
             ],
             [
              1,
              "#f0f921"
             ]
            ],
            "type": "contour"
           }
          ],
          "contourcarpet": [
           {
            "colorbar": {
             "outlinewidth": 0,
             "ticks": ""
            },
            "type": "contourcarpet"
           }
          ],
          "heatmap": [
           {
            "colorbar": {
             "outlinewidth": 0,
             "ticks": ""
            },
            "colorscale": [
             [
              0,
              "#0d0887"
             ],
             [
              0.1111111111111111,
              "#46039f"
             ],
             [
              0.2222222222222222,
              "#7201a8"
             ],
             [
              0.3333333333333333,
              "#9c179e"
             ],
             [
              0.4444444444444444,
              "#bd3786"
             ],
             [
              0.5555555555555556,
              "#d8576b"
             ],
             [
              0.6666666666666666,
              "#ed7953"
             ],
             [
              0.7777777777777778,
              "#fb9f3a"
             ],
             [
              0.8888888888888888,
              "#fdca26"
             ],
             [
              1,
              "#f0f921"
             ]
            ],
            "type": "heatmap"
           }
          ],
          "heatmapgl": [
           {
            "colorbar": {
             "outlinewidth": 0,
             "ticks": ""
            },
            "colorscale": [
             [
              0,
              "#0d0887"
             ],
             [
              0.1111111111111111,
              "#46039f"
             ],
             [
              0.2222222222222222,
              "#7201a8"
             ],
             [
              0.3333333333333333,
              "#9c179e"
             ],
             [
              0.4444444444444444,
              "#bd3786"
             ],
             [
              0.5555555555555556,
              "#d8576b"
             ],
             [
              0.6666666666666666,
              "#ed7953"
             ],
             [
              0.7777777777777778,
              "#fb9f3a"
             ],
             [
              0.8888888888888888,
              "#fdca26"
             ],
             [
              1,
              "#f0f921"
             ]
            ],
            "type": "heatmapgl"
           }
          ],
          "histogram": [
           {
            "marker": {
             "pattern": {
              "fillmode": "overlay",
              "size": 10,
              "solidity": 0.2
             }
            },
            "type": "histogram"
           }
          ],
          "histogram2d": [
           {
            "colorbar": {
             "outlinewidth": 0,
             "ticks": ""
            },
            "colorscale": [
             [
              0,
              "#0d0887"
             ],
             [
              0.1111111111111111,
              "#46039f"
             ],
             [
              0.2222222222222222,
              "#7201a8"
             ],
             [
              0.3333333333333333,
              "#9c179e"
             ],
             [
              0.4444444444444444,
              "#bd3786"
             ],
             [
              0.5555555555555556,
              "#d8576b"
             ],
             [
              0.6666666666666666,
              "#ed7953"
             ],
             [
              0.7777777777777778,
              "#fb9f3a"
             ],
             [
              0.8888888888888888,
              "#fdca26"
             ],
             [
              1,
              "#f0f921"
             ]
            ],
            "type": "histogram2d"
           }
          ],
          "histogram2dcontour": [
           {
            "colorbar": {
             "outlinewidth": 0,
             "ticks": ""
            },
            "colorscale": [
             [
              0,
              "#0d0887"
             ],
             [
              0.1111111111111111,
              "#46039f"
             ],
             [
              0.2222222222222222,
              "#7201a8"
             ],
             [
              0.3333333333333333,
              "#9c179e"
             ],
             [
              0.4444444444444444,
              "#bd3786"
             ],
             [
              0.5555555555555556,
              "#d8576b"
             ],
             [
              0.6666666666666666,
              "#ed7953"
             ],
             [
              0.7777777777777778,
              "#fb9f3a"
             ],
             [
              0.8888888888888888,
              "#fdca26"
             ],
             [
              1,
              "#f0f921"
             ]
            ],
            "type": "histogram2dcontour"
           }
          ],
          "mesh3d": [
           {
            "colorbar": {
             "outlinewidth": 0,
             "ticks": ""
            },
            "type": "mesh3d"
           }
          ],
          "parcoords": [
           {
            "line": {
             "colorbar": {
              "outlinewidth": 0,
              "ticks": ""
             }
            },
            "type": "parcoords"
           }
          ],
          "pie": [
           {
            "automargin": true,
            "type": "pie"
           }
          ],
          "scatter": [
           {
            "fillpattern": {
             "fillmode": "overlay",
             "size": 10,
             "solidity": 0.2
            },
            "type": "scatter"
           }
          ],
          "scatter3d": [
           {
            "line": {
             "colorbar": {
              "outlinewidth": 0,
              "ticks": ""
             }
            },
            "marker": {
             "colorbar": {
              "outlinewidth": 0,
              "ticks": ""
             }
            },
            "type": "scatter3d"
           }
          ],
          "scattercarpet": [
           {
            "marker": {
             "colorbar": {
              "outlinewidth": 0,
              "ticks": ""
             }
            },
            "type": "scattercarpet"
           }
          ],
          "scattergeo": [
           {
            "marker": {
             "colorbar": {
              "outlinewidth": 0,
              "ticks": ""
             }
            },
            "type": "scattergeo"
           }
          ],
          "scattergl": [
           {
            "marker": {
             "colorbar": {
              "outlinewidth": 0,
              "ticks": ""
             }
            },
            "type": "scattergl"
           }
          ],
          "scattermapbox": [
           {
            "marker": {
             "colorbar": {
              "outlinewidth": 0,
              "ticks": ""
             }
            },
            "type": "scattermapbox"
           }
          ],
          "scatterpolar": [
           {
            "marker": {
             "colorbar": {
              "outlinewidth": 0,
              "ticks": ""
             }
            },
            "type": "scatterpolar"
           }
          ],
          "scatterpolargl": [
           {
            "marker": {
             "colorbar": {
              "outlinewidth": 0,
              "ticks": ""
             }
            },
            "type": "scatterpolargl"
           }
          ],
          "scatterternary": [
           {
            "marker": {
             "colorbar": {
              "outlinewidth": 0,
              "ticks": ""
             }
            },
            "type": "scatterternary"
           }
          ],
          "surface": [
           {
            "colorbar": {
             "outlinewidth": 0,
             "ticks": ""
            },
            "colorscale": [
             [
              0,
              "#0d0887"
             ],
             [
              0.1111111111111111,
              "#46039f"
             ],
             [
              0.2222222222222222,
              "#7201a8"
             ],
             [
              0.3333333333333333,
              "#9c179e"
             ],
             [
              0.4444444444444444,
              "#bd3786"
             ],
             [
              0.5555555555555556,
              "#d8576b"
             ],
             [
              0.6666666666666666,
              "#ed7953"
             ],
             [
              0.7777777777777778,
              "#fb9f3a"
             ],
             [
              0.8888888888888888,
              "#fdca26"
             ],
             [
              1,
              "#f0f921"
             ]
            ],
            "type": "surface"
           }
          ],
          "table": [
           {
            "cells": {
             "fill": {
              "color": "#EBF0F8"
             },
             "line": {
              "color": "white"
             }
            },
            "header": {
             "fill": {
              "color": "#C8D4E3"
             },
             "line": {
              "color": "white"
             }
            },
            "type": "table"
           }
          ]
         },
         "layout": {
          "annotationdefaults": {
           "arrowcolor": "#2a3f5f",
           "arrowhead": 0,
           "arrowwidth": 1
          },
          "autotypenumbers": "strict",
          "coloraxis": {
           "colorbar": {
            "outlinewidth": 0,
            "ticks": ""
           }
          },
          "colorscale": {
           "diverging": [
            [
             0,
             "#8e0152"
            ],
            [
             0.1,
             "#c51b7d"
            ],
            [
             0.2,
             "#de77ae"
            ],
            [
             0.3,
             "#f1b6da"
            ],
            [
             0.4,
             "#fde0ef"
            ],
            [
             0.5,
             "#f7f7f7"
            ],
            [
             0.6,
             "#e6f5d0"
            ],
            [
             0.7,
             "#b8e186"
            ],
            [
             0.8,
             "#7fbc41"
            ],
            [
             0.9,
             "#4d9221"
            ],
            [
             1,
             "#276419"
            ]
           ],
           "sequential": [
            [
             0,
             "#0d0887"
            ],
            [
             0.1111111111111111,
             "#46039f"
            ],
            [
             0.2222222222222222,
             "#7201a8"
            ],
            [
             0.3333333333333333,
             "#9c179e"
            ],
            [
             0.4444444444444444,
             "#bd3786"
            ],
            [
             0.5555555555555556,
             "#d8576b"
            ],
            [
             0.6666666666666666,
             "#ed7953"
            ],
            [
             0.7777777777777778,
             "#fb9f3a"
            ],
            [
             0.8888888888888888,
             "#fdca26"
            ],
            [
             1,
             "#f0f921"
            ]
           ],
           "sequentialminus": [
            [
             0,
             "#0d0887"
            ],
            [
             0.1111111111111111,
             "#46039f"
            ],
            [
             0.2222222222222222,
             "#7201a8"
            ],
            [
             0.3333333333333333,
             "#9c179e"
            ],
            [
             0.4444444444444444,
             "#bd3786"
            ],
            [
             0.5555555555555556,
             "#d8576b"
            ],
            [
             0.6666666666666666,
             "#ed7953"
            ],
            [
             0.7777777777777778,
             "#fb9f3a"
            ],
            [
             0.8888888888888888,
             "#fdca26"
            ],
            [
             1,
             "#f0f921"
            ]
           ]
          },
          "colorway": [
           "#636efa",
           "#EF553B",
           "#00cc96",
           "#ab63fa",
           "#FFA15A",
           "#19d3f3",
           "#FF6692",
           "#B6E880",
           "#FF97FF",
           "#FECB52"
          ],
          "font": {
           "color": "#2a3f5f"
          },
          "geo": {
           "bgcolor": "white",
           "lakecolor": "white",
           "landcolor": "#E5ECF6",
           "showlakes": true,
           "showland": true,
           "subunitcolor": "white"
          },
          "hoverlabel": {
           "align": "left"
          },
          "hovermode": "closest",
          "mapbox": {
           "style": "light"
          },
          "paper_bgcolor": "white",
          "plot_bgcolor": "#E5ECF6",
          "polar": {
           "angularaxis": {
            "gridcolor": "white",
            "linecolor": "white",
            "ticks": ""
           },
           "bgcolor": "#E5ECF6",
           "radialaxis": {
            "gridcolor": "white",
            "linecolor": "white",
            "ticks": ""
           }
          },
          "scene": {
           "xaxis": {
            "backgroundcolor": "#E5ECF6",
            "gridcolor": "white",
            "gridwidth": 2,
            "linecolor": "white",
            "showbackground": true,
            "ticks": "",
            "zerolinecolor": "white"
           },
           "yaxis": {
            "backgroundcolor": "#E5ECF6",
            "gridcolor": "white",
            "gridwidth": 2,
            "linecolor": "white",
            "showbackground": true,
            "ticks": "",
            "zerolinecolor": "white"
           },
           "zaxis": {
            "backgroundcolor": "#E5ECF6",
            "gridcolor": "white",
            "gridwidth": 2,
            "linecolor": "white",
            "showbackground": true,
            "ticks": "",
            "zerolinecolor": "white"
           }
          },
          "shapedefaults": {
           "line": {
            "color": "#2a3f5f"
           }
          },
          "ternary": {
           "aaxis": {
            "gridcolor": "white",
            "linecolor": "white",
            "ticks": ""
           },
           "baxis": {
            "gridcolor": "white",
            "linecolor": "white",
            "ticks": ""
           },
           "bgcolor": "#E5ECF6",
           "caxis": {
            "gridcolor": "white",
            "linecolor": "white",
            "ticks": ""
           }
          },
          "title": {
           "x": 0.05
          },
          "xaxis": {
           "automargin": true,
           "gridcolor": "white",
           "linecolor": "white",
           "ticks": "",
           "title": {
            "standoff": 15
           },
           "zerolinecolor": "white",
           "zerolinewidth": 2
          },
          "yaxis": {
           "automargin": true,
           "gridcolor": "white",
           "linecolor": "white",
           "ticks": "",
           "title": {
            "standoff": 15
           },
           "zerolinecolor": "white",
           "zerolinewidth": 2
          }
         }
        },
        "title": {
         "font": {
          "size": 16
         },
         "text": ""
        },
        "width": 700,
        "xaxis": {
         "range": [
          -2,
          2
         ],
         "showgrid": false,
         "showticklabels": false,
         "type": "linear",
         "zeroline": false
        },
        "yaxis": {
         "autorange": true,
         "range": [
          -1.0966561893300428,
          1.1343134800982329
         ],
         "showgrid": false,
         "showticklabels": false,
         "type": "linear",
         "zeroline": false
        }
       }
      },
      "image/png": "[encoded data removed]",
      "text/html": [
       "<div>                            <div id=\"7c03b65a-75de-4ba4-a1ff-00d617b34300\" class=\"plotly-graph-div\" style=\"height:700px; width:700px;\"></div>            <script type=\"text/javascript\">                require([\"plotly\"], function(Plotly) {                    window.PLOTLYENV=window.PLOTLYENV || {};                                    if (document.getElementById(\"7c03b65a-75de-4ba4-a1ff-00d617b34300\")) {                    Plotly.newPlot(                        \"7c03b65a-75de-4ba4-a1ff-00d617b34300\",                        [{\"hoverinfo\":\"none\",\"line\":{\"color\":\"#888\",\"width\":0.7},\"mode\":\"lines\",\"x\":[0.9459194691891183,-0.9317983346409962,null,0.9459194691891183,-0.7643583865156087,null,-0.9317983346409962,-0.7643583865156087,null,-0.8492576834664448,-0.49006036630076966,null,0.37559461012298095,0.5151697314422287,null,0.37559461012298095,-0.8740000073962265,null,0.37559461012298095,-0.7647164398857209,null,0.37559461012298095,-0.3287844556970736,null,0.5151697314422287,-0.8740000073962265,null,0.5151697314422287,-0.7647164398857209,null,0.5151697314422287,-0.3287844556970736,null,-0.8378574374032883,-0.038733075799977895,null,0.3769799567655359,-0.5327656276081454,null,0.3769799567655359,0.10072787387023535,null,-0.6506379106145471,-0.10994865446335603,null,-0.6506379106145471,0.6889967086323967,null,-0.6506379106145471,-0.8782682622067821,null,-0.10994865446335603,0.6889967086323967,null,0.8238284325859019,0.6889967086323967,null,-0.8782682622067821,0.10072787387023535,null,-0.8782682622067821,-0.3287844556970736,null,-0.8740000073962265,-0.7647164398857209,null,-0.8740000073962265,-0.3287844556970736,null,-0.7647164398857209,-0.3287844556970736,null,0.9466809029042895,0.0984237516598256,null,0.9466809029042895,-0.9575294809321705,null,0.6788709595518965,-0.8176410415746952,null,-0.46161573293051533,0.5123333124515751,null,-0.46161573293051533,0.7949246211195056,null,-0.46161573293051533,-0.7643583865156087,null,-0.5327656276081454,-0.3287844556970736,null,0.10072787387023535,-0.3287844556970736,null,0.7949246211195056,-0.6972322910518888,null,0.7949246211195056,-0.7643583865156087,null,-0.9575294809321705,-0.62468555397827,null,0.7240344929979439,0.9722317601355865,null,-0.6972322910518888,-0.7643583865156087,null],\"y\":[-0.22901248720842773,0.4379381933749481,null,-0.22901248720842773,0.5411781532702773,null,0.4379381933749481,0.5411781532702773,null,-0.5469195902450307,0.8765398029531205,null,-0.40652530134010156,-0.7316467491406865,null,-0.40652530134010156,0.15703541760906917,null,-0.40652530134010156,0.29426885754924753,null,-0.40652530134010156,0.7188713058147175,null,-0.7316467491406865,0.15703541760906917,null,-0.7316467491406865,0.29426885754924753,null,-0.7316467491406865,0.7188713058147175,null,-0.1293522095397551,1.0,null,-0.8387957491711191,0.6753806579512347,null,-0.8387957491711191,-0.6410685642041934,null,-0.5969098917384138,0.8814357901936507,null,-0.5969098917384138,-0.43428528455414134,null,-0.5969098917384138,-0.3074280580233198,null,0.8814357901936507,-0.43428528455414134,null,0.40420637073785487,-0.43428528455414134,null,-0.3074280580233198,-0.6410685642041934,null,-0.3074280580233198,0.7188713058147175,null,0.15703541760906917,0.29426885754924753,null,0.15703541760906917,0.7188713058147175,null,0.29426885754924753,0.7188713058147175,null,-0.421173832148828,0.8825169262358216,null,-0.421173832148828,-0.1132636291027002,null,0.5271289989542901,0.8470465958794104,null,-0.5125645745954829,0.6170409576221757,null,-0.5125645745954829,0.12759973327654744,null,-0.5125645745954829,0.5411781532702773,null,0.6753806579512347,0.7188713058147175,null,-0.6410685642041934,0.7188713058147175,null,0.12759973327654744,-0.373165987658634,null,0.12759973327654744,0.5411781532702773,null,-0.1132636291027002,0.02036438458688568,null,0.3212704188129094,0.1759267699508993,null,-0.373165987658634,0.5411781532702773,null],\"type\":\"scatter\"},{\"hoverinfo\":\"text\",\"hovertext\":[\"<b>Cedillo-Campos MG 06:052</b><br>  Garcia-Alcaraz JL 06:061<br>    Adarme-Jaimes W 13:093\",\"<b>Garcia-Alcaraz JL 06:061</b><br>  Cedillo-Campos MG 06:052<br>    Adarme-Jaimes W 13:093\",\"<b>244696AnonAnon700 07:018</b>\",\"<b>245Anon4250700 07:046</b><br>  7Anon022Anon72Anon9 08:048\",\"<b>35262463Anon00 07:016</b>\",\"<b>36976Anon67500 07:015</b><br>        5526378Anon600 07:015<br>      Ramirez-Vieyra J 07:015<br>        Salas-Banuet G 07:015<br>  57Anon9Anon039Anon00 14:043\",\"<b>3806Anon938Anon00 07:022</b>\",\"<b>5526378Anon600 07:015</b><br>        36976Anon67500 07:015<br>      Ramirez-Vieyra J 07:015<br>        Salas-Banuet G 07:015<br>  57Anon9Anon039Anon00 14:043\",\"<b>55439Anon02500 07:026</b><br>  Palacio CA/Anon 11:047\",\"<b>56AnonAnon6383200 07:018</b><br>  56AnonAnon6370500 09:011<br>           Tobon JI 10:050\",\"<b>5720Anon979389 07:041</b><br>    7006378Anon88 07:030<br>   2439855Anon800 10:045<br>  Paya-Bernabeu J 07:049\",\"<b>7006378Anon88 07:030</b><br>  2439855Anon800 10:045<br>  5720Anon979389 07:041\",\"<b>Alvarez-Lugo AE 07:032</b>\",\"<b>Anon582Anon982200 07:050</b>\",\"<b>Anon7Anon35548800 07:005</b><br>  2439855Anon800 10:045\",\"<b>Marulanda-Arevalo JL 07:021</b>\",\"<b>Paya-Bernabeu J 07:049</b><br>        5720Anon979389 07:041<br>              Tobon JI 10:050<br>  57Anon9Anon039Anon00 14:043\",\"<b>Ramirez-Vieyra J 07:015</b><br>        36976Anon67500 07:015<br>        5526378Anon600 07:015<br>        Salas-Banuet G 07:015<br>  57Anon9Anon039Anon00 14:043\",\"<b>Ramos-Paja CA 07:032</b>\",\"<b>Salas-Banuet G 07:015</b><br>        36976Anon67500 07:015<br>        5526378Anon600 07:015<br>      Ramirez-Vieyra J 07:015<br>  57Anon9Anon039Anon00 14:043\",\"<b>2564Anon6Anon4600 08:056</b><br>                6506Anon87659 12:036<br>  de Fatima Ferreira-Tinoco I 10:084\",\"<b>53868AnonAnon4900 08:029</b>\",\"<b>564493Anon3400 08:023</b>\",\"<b>70066Anon2066 08:010</b>\",\"<b>7Anon022Anon72Anon9 08:048</b><br>  245Anon4250700 07:046\",\"<b>7Anon0308Anon268 08:050</b><br>  Velasquez-Henao JD 13:033\",\"<b>Arango-Serna MD/1 08:039</b><br>    55366608Anon00 16:041<br>  Zapata-Cortes JA 10:056<br>   Adarme-Jaimes W 13:093\",\"<b>Hoyos BA 08:014</b>\",\"<b>Taboada-Castro J 08:014</b>\",\"<b>56AnonAnon6370500 09:011</b><br>     56AnonAnon6383200 07:018<br>  57Anon9Anon039Anon00 14:043\",\"<b>700670223Anon 09:040</b>\",\"<b>Rojas-sola JI 09:041</b>\",\"<b>2439855Anon800 10:045</b><br>      7006378Anon88 07:030<br>     5720Anon979389 07:041<br>  Anon7Anon35548800 07:005\",\"<b>55652907Anon00 10:044</b>\",\"<b>57Anon978Anon4099 10:064</b>\",\"<b>Tobon JI 10:050</b><br>  57Anon9Anon039Anon00 14:043<br>     56AnonAnon6383200 07:018<br>       Paya-Bernabeu J 07:049\",\"<b>Zapata-Cortes JA 10:056</b><br>  57Anon9422040Anon 12:051<br>  Arango-Serna MD/1 08:039<br>    Adarme-Jaimes W 13:093\",\"<b>de Fatima Ferreira-Tinoco I 10:084</b><br>  558AnonAnon295500 13:063<br>  2564Anon6Anon4600 08:056\",\"<b>6603Anon5497Anon 11:067</b><br>  23986Anon69Anon00 13:101\",\"<b>Palacio CA/Anon 11:047</b><br>  55439Anon02500 07:026\",\"<b>57Anon9422040Anon 12:051</b><br>  Zapata-Cortes JA 10:056<br>   Adarme-Jaimes W 13:093\",\"<b>6506Anon87659 12:036</b><br>  2564Anon6Anon4600 08:056\",\"<b>Correa R 12:040</b>\",\"<b>23986Anon69Anon00 13:101</b><br>  6603Anon5497Anon 11:067\",\"<b>558AnonAnon295500 13:063</b><br>  de Fatima Ferreira-Tinoco I 10:084\",\"<b>Adarme-Jaimes W 13:093</b><br>  Garcia-Alcaraz JL 06:061<br>  Arango-Serna MD/1 08:039<br>   Zapata-Cortes JA 10:056<br>  Cedillo-Campos MG 06:052<br>  57Anon9422040Anon 12:051\",\"<b>Velasquez-Henao JD 13:033</b><br>  7Anon0308Anon268 08:050\",\"<b>Zapata-Jaramillo CM 13:030</b>\",\"<b>57Anon9Anon039Anon00 14:043</b><br>     36976Anon67500 07:015<br>     5526378Anon600 07:015<br>   Ramirez-Vieyra J 07:015<br>     Salas-Banuet G 07:015<br>           Tobon JI 10:050<br>    Paya-Bernabeu J 07:049<br>  56AnonAnon6370500 09:011\",\"<b>55366608Anon00 16:041</b><br>  Arango-Serna MD/1 08:039\"],\"marker\":{\"color\":[\"#E15F99\",\"#E15F99\",\"#EB663B\",\"#DA16FF\",\"#511CFB\",\"#1CA71C\",\"#00A08B\",\"#1CA71C\",\"#222A2A\",\"#2E91E5\",\"#2E91E5\",\"#2E91E5\",\"#FB00D1\",\"#FC0080\",\"#2E91E5\",\"#B2828D\",\"#2E91E5\",\"#1CA71C\",\"#6C7C32\",\"#1CA71C\",\"#FB0D0D\",\"#778AAE\",\"#862A16\",\"#A777F1\",\"#DA16FF\",\"#B68100\",\"#E15F99\",\"#620042\",\"#1616A7\",\"#2E91E5\",\"#DA60CA\",\"#6C4516\",\"#2E91E5\",\"#0D2A63\",\"#AF0038\",\"#2E91E5\",\"#E15F99\",\"#FB0D0D\",\"#750D86\",\"#222A2A\",\"#E15F99\",\"#FB0D0D\",\"#FD3216\",\"#750D86\",\"#FB0D0D\",\"#E15F99\",\"#B68100\",\"#00FE35\",\"#1CA71C\",\"#E15F99\"],\"line\":{\"color\":\"DarkSlateGrey\",\"width\":2},\"size\":[12.857142857142858,12.857142857142858,10.0,11.428571428571429,10.0,15.714285714285715,10.0,15.714285714285715,11.428571428571429,12.857142857142858,14.285714285714285,12.857142857142858,10.0,10.0,11.428571428571429,10.0,14.285714285714285,15.714285714285715,10.0,15.714285714285715,12.857142857142858,10.0,10.0,10.0,11.428571428571429,11.428571428571429,14.285714285714285,10.0,10.0,12.857142857142858,10.0,10.0,14.285714285714285,10.0,10.0,14.285714285714285,14.285714285714285,12.857142857142858,11.428571428571429,11.428571428571429,12.857142857142858,11.428571428571429,10.0,11.428571428571429,11.428571428571429,17.142857142857142,11.428571428571429,10.0,20.0,11.428571428571429]},\"mode\":\"markers+text\",\"text\":[\"Cedillo-Campos MG 06:052\",\"Garcia-Alcaraz JL 06:061\",\"244696AnonAnon700 07:018\",\"245Anon4250700 07:046\",\"35262463Anon00 07:016\",\"36976Anon67500 07:015\",\"3806Anon938Anon00 07:022\",\"5526378Anon600 07:015\",\"55439Anon02500 07:026\",\"56AnonAnon6383200 07:018\",\"5720Anon979389 07:041\",\"7006378Anon88 07:030\",\"Alvarez-Lugo AE 07:032\",\"Anon582Anon982200 07:050\",\"Anon7Anon35548800 07:005\",\"Marulanda-Arevalo JL 07:021\",\"Paya-Bernabeu J 07:049\",\"Ramirez-Vieyra J 07:015\",\"Ramos-Paja CA 07:032\",\"Salas-Banuet G 07:015\",\"2564Anon6Anon4600 08:056\",\"53868AnonAnon4900 08:029\",\"564493Anon3400 08:023\",\"70066Anon2066 08:010\",\"7Anon022Anon72Anon9 08:048\",\"7Anon0308Anon268 08:050\",\"Arango-Serna MD/1 08:039\",\"Hoyos BA 08:014\",\"Taboada-Castro J 08:014\",\"56AnonAnon6370500 09:011\",\"700670223Anon 09:040\",\"Rojas-sola JI 09:041\",\"2439855Anon800 10:045\",\"55652907Anon00 10:044\",\"57Anon978Anon4099 10:064\",\"Tobon JI 10:050\",\"Zapata-Cortes JA 10:056\",\"de Fatima Ferreira-Tinoco I 10:084\",\"6603Anon5497Anon 11:067\",\"Palacio CA/Anon 11:047\",\"57Anon9422040Anon 12:051\",\"6506Anon87659 12:036\",\"Correa R 12:040\",\"23986Anon69Anon00 13:101\",\"558AnonAnon295500 13:063\",\"Adarme-Jaimes W 13:093\",\"Velasquez-Henao JD 13:033\",\"Zapata-Jaramillo CM 13:030\",\"57Anon9Anon039Anon00 14:043\",\"55366608Anon00 16:041\"],\"textfont\":{\"size\":[8.428571428571429,8.428571428571429,7.0,7.714285714285714,7.0,9.857142857142858,7.0,9.857142857142858,7.714285714285714,8.428571428571429,9.142857142857142,8.428571428571429,7.0,7.0,7.714285714285714,7.0,9.142857142857142,9.857142857142858,7.0,9.857142857142858,8.428571428571429,7.0,7.0,7.0,7.714285714285714,7.714285714285714,9.142857142857142,7.0,7.0,8.428571428571429,7.0,7.0,9.142857142857142,7.0,7.0,9.142857142857142,9.142857142857142,8.428571428571429,7.714285714285714,7.714285714285714,8.428571428571429,7.714285714285714,7.0,7.714285714285714,7.714285714285714,10.571428571428571,7.714285714285714,7.0,12.0,7.714285714285714]},\"textposition\":[\"bottom right\",\"top left\",\"bottom right\",\"bottom left\",\"bottom right\",\"bottom right\",\"bottom left\",\"bottom right\",\"bottom left\",\"bottom right\",\"bottom left\",\"top left\",\"top right\",\"bottom left\",\"top right\",\"bottom left\",\"bottom left\",\"top left\",\"top right\",\"top left\",\"bottom right\",\"top right\",\"bottom right\",\"top left\",\"top left\",\"top right\",\"bottom left\",\"bottom right\",\"bottom right\",\"top left\",\"top right\",\"bottom left\",\"bottom right\",\"top left\",\"bottom left\",\"bottom right\",\"top right\",\"bottom left\",\"top right\",\"top left\",\"bottom left\",\"top right\",\"top right\",\"top right\",\"top left\",\"top left\",\"top left\",\"top right\",\"top left\",\"top right\"],\"x\":[0.9459194691891183,-0.9317983346409962,0.11745614980177427,-0.8492576834664448,0.8535709009852236,0.37559461012298095,-0.205579238230507,0.5151697314422287,-0.8378574374032883,0.3769799567655359,-0.6506379106145471,-0.10994865446335603,0.28158230567831216,-0.42061081873411693,0.8238284325859019,-0.26278909837124603,-0.8782682622067821,-0.8740000073962265,0.4138758465444688,-0.7647164398857209,0.9466809029042895,0.2253625570179091,0.2314187472127406,-0.2736600722438239,-0.49006036630076966,0.6788709595518965,-0.46161573293051533,0.8036146839806615,0.6575213418276694,-0.5327656276081454,0.6536825829393736,-0.09100262563064473,0.6889967086323967,-0.49546049492941313,-0.5537975772396544,0.10072787387023535,0.7949246211195056,-0.9575294809321705,0.7240344929979439,-0.038733075799977895,-0.6972322910518888,0.0984237516598256,0.2189185534357514,0.9722317601355865,-0.62468555397827,-0.7643583865156087,-0.8176410415746952,0.9010704149929795,-0.3287844556970736,0.5123333124515751],\"y\":[-0.22901248720842773,0.4379381933749481,-0.8792389810183362,-0.5469195902450307,-0.7354141075850456,-0.40652530134010156,-0.7768752344973366,-0.7316467491406865,-0.1293522095397551,-0.8387957491711191,-0.5969098917384138,0.8814357901936507,0.7033966285085063,-0.7171616315587225,0.40420637073785487,-0.9651883338101623,-0.3074280580233198,0.15703541760906917,0.7668089301732799,0.29426885754924753,-0.421173832148828,0.8215160902918781,-0.9634175788268962,0.9058478546105196,0.8765398029531205,0.5271289989542901,-0.5125645745954829,-0.18778843317438446,-0.7613699291135626,0.6753806579512347,0.6886962313211237,-0.8850594902140146,-0.43428528455414134,0.41730998217034776,-0.8288077706314706,-0.6410685642041934,0.12759973327654744,-0.1132636291027002,0.3212704188129094,1.0,-0.373165987658634,0.8825169262358216,0.16727232321818578,0.1759267699508993,0.02036438458688568,0.5411781532702773,0.8470465958794104,0.0058360240338669956,0.7188713058147175,0.6170409576221757],\"type\":\"scatter\"}],                        {\"annotations\":[{\"align\":\"left\",\"font\":{\"size\":10},\"showarrow\":false,\"text\":\"\",\"x\":0.005,\"xref\":\"paper\",\"y\":-0.002,\"yref\":\"paper\"}],\"hovermode\":\"closest\",\"margin\":{\"b\":0,\"l\":0,\"r\":0,\"t\":0},\"showlegend\":false,\"title\":{\"font\":{\"size\":16},\"text\":\"\"},\"xaxis\":{\"showgrid\":false,\"showticklabels\":false,\"zeroline\":false,\"range\":[-2.0,2.0]},\"yaxis\":{\"showgrid\":false,\"showticklabels\":false,\"zeroline\":false},\"template\":{\"data\":{\"histogram2dcontour\":[{\"type\":\"histogram2dcontour\",\"colorbar\":{\"outlinewidth\":0,\"ticks\":\"\"},\"colorscale\":[[0.0,\"#0d0887\"],[0.1111111111111111,\"#46039f\"],[0.2222222222222222,\"#7201a8\"],[0.3333333333333333,\"#9c179e\"],[0.4444444444444444,\"#bd3786\"],[0.5555555555555556,\"#d8576b\"],[0.6666666666666666,\"#ed7953\"],[0.7777777777777778,\"#fb9f3a\"],[0.8888888888888888,\"#fdca26\"],[1.0,\"#f0f921\"]]}],\"choropleth\":[{\"type\":\"choropleth\",\"colorbar\":{\"outlinewidth\":0,\"ticks\":\"\"}}],\"histogram2d\":[{\"type\":\"histogram2d\",\"colorbar\":{\"outlinewidth\":0,\"ticks\":\"\"},\"colorscale\":[[0.0,\"#0d0887\"],[0.1111111111111111,\"#46039f\"],[0.2222222222222222,\"#7201a8\"],[0.3333333333333333,\"#9c179e\"],[0.4444444444444444,\"#bd3786\"],[0.5555555555555556,\"#d8576b\"],[0.6666666666666666,\"#ed7953\"],[0.7777777777777778,\"#fb9f3a\"],[0.8888888888888888,\"#fdca26\"],[1.0,\"#f0f921\"]]}],\"heatmap\":[{\"type\":\"heatmap\",\"colorbar\":{\"outlinewidth\":0,\"ticks\":\"\"},\"colorscale\":[[0.0,\"#0d0887\"],[0.1111111111111111,\"#46039f\"],[0.2222222222222222,\"#7201a8\"],[0.3333333333333333,\"#9c179e\"],[0.4444444444444444,\"#bd3786\"],[0.5555555555555556,\"#d8576b\"],[0.6666666666666666,\"#ed7953\"],[0.7777777777777778,\"#fb9f3a\"],[0.8888888888888888,\"#fdca26\"],[1.0,\"#f0f921\"]]}],\"heatmapgl\":[{\"type\":\"heatmapgl\",\"colorbar\":{\"outlinewidth\":0,\"ticks\":\"\"},\"colorscale\":[[0.0,\"#0d0887\"],[0.1111111111111111,\"#46039f\"],[0.2222222222222222,\"#7201a8\"],[0.3333333333333333,\"#9c179e\"],[0.4444444444444444,\"#bd3786\"],[0.5555555555555556,\"#d8576b\"],[0.6666666666666666,\"#ed7953\"],[0.7777777777777778,\"#fb9f3a\"],[0.8888888888888888,\"#fdca26\"],[1.0,\"#f0f921\"]]}],\"contourcarpet\":[{\"type\":\"contourcarpet\",\"colorbar\":{\"outlinewidth\":0,\"ticks\":\"\"}}],\"contour\":[{\"type\":\"contour\",\"colorbar\":{\"outlinewidth\":0,\"ticks\":\"\"},\"colorscale\":[[0.0,\"#0d0887\"],[0.1111111111111111,\"#46039f\"],[0.2222222222222222,\"#7201a8\"],[0.3333333333333333,\"#9c179e\"],[0.4444444444444444,\"#bd3786\"],[0.5555555555555556,\"#d8576b\"],[0.6666666666666666,\"#ed7953\"],[0.7777777777777778,\"#fb9f3a\"],[0.8888888888888888,\"#fdca26\"],[1.0,\"#f0f921\"]]}],\"surface\":[{\"type\":\"surface\",\"colorbar\":{\"outlinewidth\":0,\"ticks\":\"\"},\"colorscale\":[[0.0,\"#0d0887\"],[0.1111111111111111,\"#46039f\"],[0.2222222222222222,\"#7201a8\"],[0.3333333333333333,\"#9c179e\"],[0.4444444444444444,\"#bd3786\"],[0.5555555555555556,\"#d8576b\"],[0.6666666666666666,\"#ed7953\"],[0.7777777777777778,\"#fb9f3a\"],[0.8888888888888888,\"#fdca26\"],[1.0,\"#f0f921\"]]}],\"mesh3d\":[{\"type\":\"mesh3d\",\"colorbar\":{\"outlinewidth\":0,\"ticks\":\"\"}}],\"scatter\":[{\"fillpattern\":{\"fillmode\":\"overlay\",\"size\":10,\"solidity\":0.2},\"type\":\"scatter\"}],\"parcoords\":[{\"type\":\"parcoords\",\"line\":{\"colorbar\":{\"outlinewidth\":0,\"ticks\":\"\"}}}],\"scatterpolargl\":[{\"type\":\"scatterpolargl\",\"marker\":{\"colorbar\":{\"outlinewidth\":0,\"ticks\":\"\"}}}],\"bar\":[{\"error_x\":{\"color\":\"#2a3f5f\"},\"error_y\":{\"color\":\"#2a3f5f\"},\"marker\":{\"line\":{\"color\":\"#E5ECF6\",\"width\":0.5},\"pattern\":{\"fillmode\":\"overlay\",\"size\":10,\"solidity\":0.2}},\"type\":\"bar\"}],\"scattergeo\":[{\"type\":\"scattergeo\",\"marker\":{\"colorbar\":{\"outlinewidth\":0,\"ticks\":\"\"}}}],\"scatterpolar\":[{\"type\":\"scatterpolar\",\"marker\":{\"colorbar\":{\"outlinewidth\":0,\"ticks\":\"\"}}}],\"histogram\":[{\"marker\":{\"pattern\":{\"fillmode\":\"overlay\",\"size\":10,\"solidity\":0.2}},\"type\":\"histogram\"}],\"scattergl\":[{\"type\":\"scattergl\",\"marker\":{\"colorbar\":{\"outlinewidth\":0,\"ticks\":\"\"}}}],\"scatter3d\":[{\"type\":\"scatter3d\",\"line\":{\"colorbar\":{\"outlinewidth\":0,\"ticks\":\"\"}},\"marker\":{\"colorbar\":{\"outlinewidth\":0,\"ticks\":\"\"}}}],\"scattermapbox\":[{\"type\":\"scattermapbox\",\"marker\":{\"colorbar\":{\"outlinewidth\":0,\"ticks\":\"\"}}}],\"scatterternary\":[{\"type\":\"scatterternary\",\"marker\":{\"colorbar\":{\"outlinewidth\":0,\"ticks\":\"\"}}}],\"scattercarpet\":[{\"type\":\"scattercarpet\",\"marker\":{\"colorbar\":{\"outlinewidth\":0,\"ticks\":\"\"}}}],\"carpet\":[{\"aaxis\":{\"endlinecolor\":\"#2a3f5f\",\"gridcolor\":\"white\",\"linecolor\":\"white\",\"minorgridcolor\":\"white\",\"startlinecolor\":\"#2a3f5f\"},\"baxis\":{\"endlinecolor\":\"#2a3f5f\",\"gridcolor\":\"white\",\"linecolor\":\"white\",\"minorgridcolor\":\"white\",\"startlinecolor\":\"#2a3f5f\"},\"type\":\"carpet\"}],\"table\":[{\"cells\":{\"fill\":{\"color\":\"#EBF0F8\"},\"line\":{\"color\":\"white\"}},\"header\":{\"fill\":{\"color\":\"#C8D4E3\"},\"line\":{\"color\":\"white\"}},\"type\":\"table\"}],\"barpolar\":[{\"marker\":{\"line\":{\"color\":\"#E5ECF6\",\"width\":0.5},\"pattern\":{\"fillmode\":\"overlay\",\"size\":10,\"solidity\":0.2}},\"type\":\"barpolar\"}],\"pie\":[{\"automargin\":true,\"type\":\"pie\"}]},\"layout\":{\"autotypenumbers\":\"strict\",\"colorway\":[\"#636efa\",\"#EF553B\",\"#00cc96\",\"#ab63fa\",\"#FFA15A\",\"#19d3f3\",\"#FF6692\",\"#B6E880\",\"#FF97FF\",\"#FECB52\"],\"font\":{\"color\":\"#2a3f5f\"},\"hovermode\":\"closest\",\"hoverlabel\":{\"align\":\"left\"},\"paper_bgcolor\":\"white\",\"plot_bgcolor\":\"#E5ECF6\",\"polar\":{\"bgcolor\":\"#E5ECF6\",\"angularaxis\":{\"gridcolor\":\"white\",\"linecolor\":\"white\",\"ticks\":\"\"},\"radialaxis\":{\"gridcolor\":\"white\",\"linecolor\":\"white\",\"ticks\":\"\"}},\"ternary\":{\"bgcolor\":\"#E5ECF6\",\"aaxis\":{\"gridcolor\":\"white\",\"linecolor\":\"white\",\"ticks\":\"\"},\"baxis\":{\"gridcolor\":\"white\",\"linecolor\":\"white\",\"ticks\":\"\"},\"caxis\":{\"gridcolor\":\"white\",\"linecolor\":\"white\",\"ticks\":\"\"}},\"coloraxis\":{\"colorbar\":{\"outlinewidth\":0,\"ticks\":\"\"}},\"colorscale\":{\"sequential\":[[0.0,\"#0d0887\"],[0.1111111111111111,\"#46039f\"],[0.2222222222222222,\"#7201a8\"],[0.3333333333333333,\"#9c179e\"],[0.4444444444444444,\"#bd3786\"],[0.5555555555555556,\"#d8576b\"],[0.6666666666666666,\"#ed7953\"],[0.7777777777777778,\"#fb9f3a\"],[0.8888888888888888,\"#fdca26\"],[1.0,\"#f0f921\"]],\"sequentialminus\":[[0.0,\"#0d0887\"],[0.1111111111111111,\"#46039f\"],[0.2222222222222222,\"#7201a8\"],[0.3333333333333333,\"#9c179e\"],[0.4444444444444444,\"#bd3786\"],[0.5555555555555556,\"#d8576b\"],[0.6666666666666666,\"#ed7953\"],[0.7777777777777778,\"#fb9f3a\"],[0.8888888888888888,\"#fdca26\"],[1.0,\"#f0f921\"]],\"diverging\":[[0,\"#8e0152\"],[0.1,\"#c51b7d\"],[0.2,\"#de77ae\"],[0.3,\"#f1b6da\"],[0.4,\"#fde0ef\"],[0.5,\"#f7f7f7\"],[0.6,\"#e6f5d0\"],[0.7,\"#b8e186\"],[0.8,\"#7fbc41\"],[0.9,\"#4d9221\"],[1,\"#276419\"]]},\"xaxis\":{\"gridcolor\":\"white\",\"linecolor\":\"white\",\"ticks\":\"\",\"title\":{\"standoff\":15},\"zerolinecolor\":\"white\",\"automargin\":true,\"zerolinewidth\":2},\"yaxis\":{\"gridcolor\":\"white\",\"linecolor\":\"white\",\"ticks\":\"\",\"title\":{\"standoff\":15},\"zerolinecolor\":\"white\",\"automargin\":true,\"zerolinewidth\":2},\"scene\":{\"xaxis\":{\"backgroundcolor\":\"#E5ECF6\",\"gridcolor\":\"white\",\"linecolor\":\"white\",\"showbackground\":true,\"ticks\":\"\",\"zerolinecolor\":\"white\",\"gridwidth\":2},\"yaxis\":{\"backgroundcolor\":\"#E5ECF6\",\"gridcolor\":\"white\",\"linecolor\":\"white\",\"showbackground\":true,\"ticks\":\"\",\"zerolinecolor\":\"white\",\"gridwidth\":2},\"zaxis\":{\"backgroundcolor\":\"#E5ECF6\",\"gridcolor\":\"white\",\"linecolor\":\"white\",\"showbackground\":true,\"ticks\":\"\",\"zerolinecolor\":\"white\",\"gridwidth\":2}},\"shapedefaults\":{\"line\":{\"color\":\"#2a3f5f\"}},\"annotationdefaults\":{\"arrowcolor\":\"#2a3f5f\",\"arrowhead\":0,\"arrowwidth\":1},\"geo\":{\"bgcolor\":\"white\",\"landcolor\":\"#E5ECF6\",\"subunitcolor\":\"white\",\"showland\":true,\"showlakes\":true,\"lakecolor\":\"white\"},\"title\":{\"x\":0.05},\"mapbox\":{\"style\":\"light\"}}},\"hoverlabel\":{\"font\":{\"family\":\"monospace\"},\"bgcolor\":\"white\"},\"paper_bgcolor\":\"white\",\"plot_bgcolor\":\"white\",\"width\":700,\"height\":700},                        {\"responsive\": true}                    ).then(function(){\n",
       "                            \n",
       "var gd = document.getElementById('7c03b65a-75de-4ba4-a1ff-00d617b34300');\n",
       "var x = new MutationObserver(function (mutations, observer) {{\n",
       "        var display = window.getComputedStyle(gd).display;\n",
       "        if (!display || display === 'none') {{\n",
       "            console.log([gd, 'removed!']);\n",
       "            Plotly.purge(gd);\n",
       "            observer.disconnect();\n",
       "        }}\n",
       "}});\n",
       "\n",
       "// Listen for the removal of the full notebook cells\n",
       "var notebookContainer = gd.closest('#notebook-container');\n",
       "if (notebookContainer) {{\n",
       "    x.observe(notebookContainer, {childList: true});\n",
       "}}\n",
       "\n",
       "// Listen for the clearing of the current output cell\n",
       "var outputEl = gd.closest('.output');\n",
       "if (outputEl) {{\n",
       "    x.observe(outputEl, {childList: true});\n",
       "}}\n",
       "\n",
       "                        })                };                });            </script>        </div>"
      ]
     },
     "metadata": {},
     "output_type": "display_data"
    }
   ],
   "source": [
    "from techminer2 import bibliometrix\n",
    "\n",
    "bibliometrix.social_structure.co_authorship_network(\n",
    "    criterion=\"authors\",\n",
    "    topics_length=50,\n",
    "    directory=\"../../data/\",\n",
    "    method=\"louvain\",\n",
    "    nx_k=0.5,\n",
    "    nx_iterations=10,\n",
    "    delta=1.0,\n",
    ").plot_.update_layout(\n",
    "    width=700,\n",
    "    height=700,\n",
    ")"
   ]
  }
 ],
 "metadata": {
  "kernelspec": {
   "display_name": "Python 3 (ipykernel)",
   "language": "python",
   "name": "python3"
  },
  "language_info": {
   "codemirror_mode": {
    "name": "ipython",
    "version": 3
   },
   "file_extension": ".py",
   "mimetype": "text/x-python",
   "name": "python",
   "nbconvert_exporter": "python",
   "pygments_lexer": "ipython3",
   "version": "3.8.10"
  }
 },
 "nbformat": 4,
 "nbformat_minor": 5
}
