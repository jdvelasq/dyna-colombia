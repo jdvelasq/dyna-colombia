{
 "cells": [
  {
   "cell_type": "markdown",
   "id": "6638b185-ba42-4d15-939f-bc8e940f052e",
   "metadata": {},
   "source": [
    "Dinámica de los términos clave\n",
    "==="
   ]
  },
  {
   "cell_type": "code",
   "execution_count": 4,
   "id": "fe0f49c9-b965-4930-a4e6-87cc65a34395",
   "metadata": {},
   "outputs": [
    {
     "data": {
      "application/vnd.plotly.v1+json": {
       "config": {
        "plotlyServerURL": "https://plot.ly"
       },
       "data": [
        {
         "customdata": [
          [
           "optimization"
          ],
          [
           "optimization"
          ],
          [
           "optimization"
          ],
          [
           "optimization"
          ],
          [
           "optimization"
          ],
          [
           "optimization"
          ],
          [
           "optimization"
          ],
          [
           "optimization"
          ],
          [
           "optimization"
          ],
          [
           "optimization"
          ],
          [
           "optimization"
          ],
          [
           "optimization"
          ],
          [
           "optimization"
          ],
          [
           "optimization"
          ],
          [
           "optimization"
          ]
         ],
         "hovertemplate": "author_keywords=%{customdata[0]}<br>year=%{x}<br>cum_OCC=%{y}<extra></extra>",
         "legendgroup": "optimization",
         "line": {
          "color": "#636efa",
          "dash": "solid"
         },
         "marker": {
          "line": {
           "color": "darkslategray",
           "width": 2
          },
          "size": 10,
          "symbol": "circle"
         },
         "mode": "markers+lines",
         "name": "optimization",
         "orientation": "v",
         "showlegend": true,
         "type": "scatter",
         "x": [
          2008,
          2009,
          2010,
          2011,
          2012,
          2013,
          2014,
          2015,
          2016,
          2017,
          2018,
          2019,
          2020,
          2021,
          2022
         ],
         "xaxis": "x",
         "y": [
          0,
          1,
          3,
          6,
          7,
          9,
          16,
          18,
          18,
          22,
          25,
          31,
          32,
          37,
          38
         ],
         "yaxis": "y"
        },
        {
         "customdata": [
          [
           "modeling"
          ],
          [
           "modeling"
          ],
          [
           "modeling"
          ],
          [
           "modeling"
          ],
          [
           "modeling"
          ],
          [
           "modeling"
          ],
          [
           "modeling"
          ],
          [
           "modeling"
          ],
          [
           "modeling"
          ],
          [
           "modeling"
          ],
          [
           "modeling"
          ],
          [
           "modeling"
          ],
          [
           "modeling"
          ],
          [
           "modeling"
          ],
          [
           "modeling"
          ]
         ],
         "hovertemplate": "author_keywords=%{customdata[0]}<br>year=%{x}<br>cum_OCC=%{y}<extra></extra>",
         "legendgroup": "modeling",
         "line": {
          "color": "#EF553B",
          "dash": "solid"
         },
         "marker": {
          "line": {
           "color": "darkslategray",
           "width": 2
          },
          "size": 10,
          "symbol": "circle"
         },
         "mode": "markers+lines",
         "name": "modeling",
         "orientation": "v",
         "showlegend": true,
         "type": "scatter",
         "x": [
          2008,
          2009,
          2010,
          2011,
          2012,
          2013,
          2014,
          2015,
          2016,
          2017,
          2018,
          2019,
          2020,
          2021,
          2022
         ],
         "xaxis": "x",
         "y": [
          2,
          4,
          6,
          8,
          10,
          10,
          16,
          19,
          20,
          24,
          27,
          28,
          29,
          32,
          32
         ],
         "yaxis": "y"
        },
        {
         "customdata": [
          [
           "simulation"
          ],
          [
           "simulation"
          ],
          [
           "simulation"
          ],
          [
           "simulation"
          ],
          [
           "simulation"
          ],
          [
           "simulation"
          ],
          [
           "simulation"
          ],
          [
           "simulation"
          ],
          [
           "simulation"
          ],
          [
           "simulation"
          ],
          [
           "simulation"
          ],
          [
           "simulation"
          ],
          [
           "simulation"
          ],
          [
           "simulation"
          ],
          [
           "simulation"
          ]
         ],
         "hovertemplate": "author_keywords=%{customdata[0]}<br>year=%{x}<br>cum_OCC=%{y}<extra></extra>",
         "legendgroup": "simulation",
         "line": {
          "color": "#00cc96",
          "dash": "solid"
         },
         "marker": {
          "line": {
           "color": "darkslategray",
           "width": 2
          },
          "size": 10,
          "symbol": "circle"
         },
         "mode": "markers+lines",
         "name": "simulation",
         "orientation": "v",
         "showlegend": true,
         "type": "scatter",
         "x": [
          2008,
          2009,
          2010,
          2011,
          2012,
          2013,
          2014,
          2015,
          2016,
          2017,
          2018,
          2019,
          2020,
          2021,
          2022
         ],
         "xaxis": "x",
         "y": [
          2,
          3,
          3,
          4,
          6,
          8,
          11,
          12,
          14,
          19,
          21,
          23,
          25,
          28,
          28
         ],
         "yaxis": "y"
        },
        {
         "customdata": [
          [
           "sustainability"
          ],
          [
           "sustainability"
          ],
          [
           "sustainability"
          ],
          [
           "sustainability"
          ],
          [
           "sustainability"
          ],
          [
           "sustainability"
          ],
          [
           "sustainability"
          ],
          [
           "sustainability"
          ],
          [
           "sustainability"
          ],
          [
           "sustainability"
          ],
          [
           "sustainability"
          ],
          [
           "sustainability"
          ],
          [
           "sustainability"
          ],
          [
           "sustainability"
          ],
          [
           "sustainability"
          ]
         ],
         "hovertemplate": "author_keywords=%{customdata[0]}<br>year=%{x}<br>cum_OCC=%{y}<extra></extra>",
         "legendgroup": "sustainability",
         "line": {
          "color": "#ab63fa",
          "dash": "solid"
         },
         "marker": {
          "line": {
           "color": "darkslategray",
           "width": 2
          },
          "size": 10,
          "symbol": "circle"
         },
         "mode": "markers+lines",
         "name": "sustainability",
         "orientation": "v",
         "showlegend": true,
         "type": "scatter",
         "x": [
          2008,
          2009,
          2010,
          2011,
          2012,
          2013,
          2014,
          2015,
          2016,
          2017,
          2018,
          2019,
          2020,
          2021,
          2022
         ],
         "xaxis": "x",
         "y": [
          0,
          0,
          3,
          4,
          5,
          6,
          6,
          8,
          9,
          12,
          14,
          14,
          15,
          19,
          19
         ],
         "yaxis": "y"
        },
        {
         "customdata": [
          [
           "finite element method"
          ],
          [
           "finite element method"
          ],
          [
           "finite element method"
          ],
          [
           "finite element method"
          ],
          [
           "finite element method"
          ],
          [
           "finite element method"
          ],
          [
           "finite element method"
          ],
          [
           "finite element method"
          ],
          [
           "finite element method"
          ],
          [
           "finite element method"
          ],
          [
           "finite element method"
          ],
          [
           "finite element method"
          ],
          [
           "finite element method"
          ],
          [
           "finite element method"
          ],
          [
           "finite element method"
          ]
         ],
         "hovertemplate": "author_keywords=%{customdata[0]}<br>year=%{x}<br>cum_OCC=%{y}<extra></extra>",
         "legendgroup": "finite element method",
         "line": {
          "color": "#FFA15A",
          "dash": "solid"
         },
         "marker": {
          "line": {
           "color": "darkslategray",
           "width": 2
          },
          "size": 10,
          "symbol": "circle"
         },
         "mode": "markers+lines",
         "name": "finite element method",
         "orientation": "v",
         "showlegend": true,
         "type": "scatter",
         "x": [
          2008,
          2009,
          2010,
          2011,
          2012,
          2013,
          2014,
          2015,
          2016,
          2017,
          2018,
          2019,
          2020,
          2021,
          2022
         ],
         "xaxis": "x",
         "y": [
          0,
          3,
          3,
          4,
          5,
          8,
          8,
          11,
          13,
          15,
          16,
          16,
          16,
          17,
          19
         ],
         "yaxis": "y"
        },
        {
         "customdata": [
          [
           "supply chain"
          ],
          [
           "supply chain"
          ],
          [
           "supply chain"
          ],
          [
           "supply chain"
          ],
          [
           "supply chain"
          ],
          [
           "supply chain"
          ],
          [
           "supply chain"
          ],
          [
           "supply chain"
          ],
          [
           "supply chain"
          ],
          [
           "supply chain"
          ],
          [
           "supply chain"
          ],
          [
           "supply chain"
          ],
          [
           "supply chain"
          ],
          [
           "supply chain"
          ],
          [
           "supply chain"
          ]
         ],
         "hovertemplate": "author_keywords=%{customdata[0]}<br>year=%{x}<br>cum_OCC=%{y}<extra></extra>",
         "legendgroup": "supply chain",
         "line": {
          "color": "#19d3f3",
          "dash": "solid"
         },
         "marker": {
          "line": {
           "color": "darkslategray",
           "width": 2
          },
          "size": 10,
          "symbol": "circle"
         },
         "mode": "markers+lines",
         "name": "supply chain",
         "orientation": "v",
         "showlegend": true,
         "type": "scatter",
         "x": [
          2008,
          2009,
          2010,
          2011,
          2012,
          2013,
          2014,
          2015,
          2016,
          2017,
          2018,
          2019,
          2020,
          2021,
          2022
         ],
         "xaxis": "x",
         "y": [
          0,
          1,
          1,
          1,
          2,
          5,
          12,
          13,
          14,
          16,
          16,
          16,
          17,
          18,
          18
         ],
         "yaxis": "y"
        },
        {
         "customdata": [
          [
           "mechanical properties"
          ],
          [
           "mechanical properties"
          ],
          [
           "mechanical properties"
          ],
          [
           "mechanical properties"
          ],
          [
           "mechanical properties"
          ],
          [
           "mechanical properties"
          ],
          [
           "mechanical properties"
          ],
          [
           "mechanical properties"
          ],
          [
           "mechanical properties"
          ],
          [
           "mechanical properties"
          ],
          [
           "mechanical properties"
          ],
          [
           "mechanical properties"
          ],
          [
           "mechanical properties"
          ],
          [
           "mechanical properties"
          ],
          [
           "mechanical properties"
          ]
         ],
         "hovertemplate": "author_keywords=%{customdata[0]}<br>year=%{x}<br>cum_OCC=%{y}<extra></extra>",
         "legendgroup": "mechanical properties",
         "line": {
          "color": "#FF6692",
          "dash": "solid"
         },
         "marker": {
          "line": {
           "color": "darkslategray",
           "width": 2
          },
          "size": 10,
          "symbol": "circle"
         },
         "mode": "markers+lines",
         "name": "mechanical properties",
         "orientation": "v",
         "showlegend": true,
         "type": "scatter",
         "x": [
          2008,
          2009,
          2010,
          2011,
          2012,
          2013,
          2014,
          2015,
          2016,
          2017,
          2018,
          2019,
          2020,
          2021,
          2022
         ],
         "xaxis": "x",
         "y": [
          1,
          1,
          3,
          3,
          5,
          7,
          7,
          8,
          9,
          12,
          13,
          16,
          17,
          18,
          18
         ],
         "yaxis": "y"
        },
        {
         "customdata": [
          [
           "corrosion"
          ],
          [
           "corrosion"
          ],
          [
           "corrosion"
          ],
          [
           "corrosion"
          ],
          [
           "corrosion"
          ],
          [
           "corrosion"
          ],
          [
           "corrosion"
          ],
          [
           "corrosion"
          ],
          [
           "corrosion"
          ],
          [
           "corrosion"
          ],
          [
           "corrosion"
          ],
          [
           "corrosion"
          ],
          [
           "corrosion"
          ],
          [
           "corrosion"
          ],
          [
           "corrosion"
          ]
         ],
         "hovertemplate": "author_keywords=%{customdata[0]}<br>year=%{x}<br>cum_OCC=%{y}<extra></extra>",
         "legendgroup": "corrosion",
         "line": {
          "color": "#B6E880",
          "dash": "solid"
         },
         "marker": {
          "line": {
           "color": "darkslategray",
           "width": 2
          },
          "size": 10,
          "symbol": "circle"
         },
         "mode": "markers+lines",
         "name": "corrosion",
         "orientation": "v",
         "showlegend": true,
         "type": "scatter",
         "x": [
          2008,
          2009,
          2010,
          2011,
          2012,
          2013,
          2014,
          2015,
          2016,
          2017,
          2018,
          2019,
          2020,
          2021,
          2022
         ],
         "xaxis": "x",
         "y": [
          2,
          4,
          6,
          8,
          9,
          10,
          12,
          13,
          13,
          13,
          15,
          15,
          16,
          17,
          17
         ],
         "yaxis": "y"
        },
        {
         "customdata": [
          [
           "mathematical models"
          ],
          [
           "mathematical models"
          ],
          [
           "mathematical models"
          ],
          [
           "mathematical models"
          ],
          [
           "mathematical models"
          ],
          [
           "mathematical models"
          ],
          [
           "mathematical models"
          ],
          [
           "mathematical models"
          ],
          [
           "mathematical models"
          ],
          [
           "mathematical models"
          ],
          [
           "mathematical models"
          ],
          [
           "mathematical models"
          ],
          [
           "mathematical models"
          ],
          [
           "mathematical models"
          ],
          [
           "mathematical models"
          ]
         ],
         "hovertemplate": "author_keywords=%{customdata[0]}<br>year=%{x}<br>cum_OCC=%{y}<extra></extra>",
         "legendgroup": "mathematical models",
         "line": {
          "color": "#FF97FF",
          "dash": "solid"
         },
         "marker": {
          "line": {
           "color": "darkslategray",
           "width": 2
          },
          "size": 10,
          "symbol": "circle"
         },
         "mode": "markers+lines",
         "name": "mathematical models",
         "orientation": "v",
         "showlegend": true,
         "type": "scatter",
         "x": [
          2008,
          2009,
          2010,
          2011,
          2012,
          2013,
          2014,
          2015,
          2016,
          2017,
          2018,
          2019,
          2020,
          2021,
          2022
         ],
         "xaxis": "x",
         "y": [
          1,
          3,
          3,
          6,
          7,
          8,
          11,
          12,
          12,
          13,
          14,
          16,
          16,
          17,
          17
         ],
         "yaxis": "y"
        },
        {
         "customdata": [
          [
           "artificial neural network"
          ],
          [
           "artificial neural network"
          ],
          [
           "artificial neural network"
          ],
          [
           "artificial neural network"
          ],
          [
           "artificial neural network"
          ],
          [
           "artificial neural network"
          ],
          [
           "artificial neural network"
          ],
          [
           "artificial neural network"
          ],
          [
           "artificial neural network"
          ],
          [
           "artificial neural network"
          ],
          [
           "artificial neural network"
          ],
          [
           "artificial neural network"
          ],
          [
           "artificial neural network"
          ],
          [
           "artificial neural network"
          ],
          [
           "artificial neural network"
          ]
         ],
         "hovertemplate": "author_keywords=%{customdata[0]}<br>year=%{x}<br>cum_OCC=%{y}<extra></extra>",
         "legendgroup": "artificial neural network",
         "line": {
          "color": "#FECB52",
          "dash": "solid"
         },
         "marker": {
          "line": {
           "color": "darkslategray",
           "width": 2
          },
          "size": 10,
          "symbol": "circle"
         },
         "mode": "markers+lines",
         "name": "artificial neural network",
         "orientation": "v",
         "showlegend": true,
         "type": "scatter",
         "x": [
          2008,
          2009,
          2010,
          2011,
          2012,
          2013,
          2014,
          2015,
          2016,
          2017,
          2018,
          2019,
          2020,
          2021,
          2022
         ],
         "xaxis": "x",
         "y": [
          0,
          0,
          0,
          1,
          1,
          3,
          3,
          4,
          7,
          12,
          12,
          16,
          16,
          16,
          16
         ],
         "yaxis": "y"
        }
       ],
       "layout": {
        "height": 800,
        "legend": {
         "title": {
          "text": "author_keywords"
         },
         "tracegroupgap": 0
        },
        "paper_bgcolor": "white",
        "plot_bgcolor": "white",
        "template": {
         "data": {
          "bar": [
           {
            "error_x": {
             "color": "#2a3f5f"
            },
            "error_y": {
             "color": "#2a3f5f"
            },
            "marker": {
             "line": {
              "color": "#E5ECF6",
              "width": 0.5
             },
             "pattern": {
              "fillmode": "overlay",
              "size": 10,
              "solidity": 0.2
             }
            },
            "type": "bar"
           }
          ],
          "barpolar": [
           {
            "marker": {
             "line": {
              "color": "#E5ECF6",
              "width": 0.5
             },
             "pattern": {
              "fillmode": "overlay",
              "size": 10,
              "solidity": 0.2
             }
            },
            "type": "barpolar"
           }
          ],
          "carpet": [
           {
            "aaxis": {
             "endlinecolor": "#2a3f5f",
             "gridcolor": "white",
             "linecolor": "white",
             "minorgridcolor": "white",
             "startlinecolor": "#2a3f5f"
            },
            "baxis": {
             "endlinecolor": "#2a3f5f",
             "gridcolor": "white",
             "linecolor": "white",
             "minorgridcolor": "white",
             "startlinecolor": "#2a3f5f"
            },
            "type": "carpet"
           }
          ],
          "choropleth": [
           {
            "colorbar": {
             "outlinewidth": 0,
             "ticks": ""
            },
            "type": "choropleth"
           }
          ],
          "contour": [
           {
            "colorbar": {
             "outlinewidth": 0,
             "ticks": ""
            },
            "colorscale": [
             [
              0,
              "#0d0887"
             ],
             [
              0.1111111111111111,
              "#46039f"
             ],
             [
              0.2222222222222222,
              "#7201a8"
             ],
             [
              0.3333333333333333,
              "#9c179e"
             ],
             [
              0.4444444444444444,
              "#bd3786"
             ],
             [
              0.5555555555555556,
              "#d8576b"
             ],
             [
              0.6666666666666666,
              "#ed7953"
             ],
             [
              0.7777777777777778,
              "#fb9f3a"
             ],
             [
              0.8888888888888888,
              "#fdca26"
             ],
             [
              1,
              "#f0f921"
             ]
            ],
            "type": "contour"
           }
          ],
          "contourcarpet": [
           {
            "colorbar": {
             "outlinewidth": 0,
             "ticks": ""
            },
            "type": "contourcarpet"
           }
          ],
          "heatmap": [
           {
            "colorbar": {
             "outlinewidth": 0,
             "ticks": ""
            },
            "colorscale": [
             [
              0,
              "#0d0887"
             ],
             [
              0.1111111111111111,
              "#46039f"
             ],
             [
              0.2222222222222222,
              "#7201a8"
             ],
             [
              0.3333333333333333,
              "#9c179e"
             ],
             [
              0.4444444444444444,
              "#bd3786"
             ],
             [
              0.5555555555555556,
              "#d8576b"
             ],
             [
              0.6666666666666666,
              "#ed7953"
             ],
             [
              0.7777777777777778,
              "#fb9f3a"
             ],
             [
              0.8888888888888888,
              "#fdca26"
             ],
             [
              1,
              "#f0f921"
             ]
            ],
            "type": "heatmap"
           }
          ],
          "heatmapgl": [
           {
            "colorbar": {
             "outlinewidth": 0,
             "ticks": ""
            },
            "colorscale": [
             [
              0,
              "#0d0887"
             ],
             [
              0.1111111111111111,
              "#46039f"
             ],
             [
              0.2222222222222222,
              "#7201a8"
             ],
             [
              0.3333333333333333,
              "#9c179e"
             ],
             [
              0.4444444444444444,
              "#bd3786"
             ],
             [
              0.5555555555555556,
              "#d8576b"
             ],
             [
              0.6666666666666666,
              "#ed7953"
             ],
             [
              0.7777777777777778,
              "#fb9f3a"
             ],
             [
              0.8888888888888888,
              "#fdca26"
             ],
             [
              1,
              "#f0f921"
             ]
            ],
            "type": "heatmapgl"
           }
          ],
          "histogram": [
           {
            "marker": {
             "pattern": {
              "fillmode": "overlay",
              "size": 10,
              "solidity": 0.2
             }
            },
            "type": "histogram"
           }
          ],
          "histogram2d": [
           {
            "colorbar": {
             "outlinewidth": 0,
             "ticks": ""
            },
            "colorscale": [
             [
              0,
              "#0d0887"
             ],
             [
              0.1111111111111111,
              "#46039f"
             ],
             [
              0.2222222222222222,
              "#7201a8"
             ],
             [
              0.3333333333333333,
              "#9c179e"
             ],
             [
              0.4444444444444444,
              "#bd3786"
             ],
             [
              0.5555555555555556,
              "#d8576b"
             ],
             [
              0.6666666666666666,
              "#ed7953"
             ],
             [
              0.7777777777777778,
              "#fb9f3a"
             ],
             [
              0.8888888888888888,
              "#fdca26"
             ],
             [
              1,
              "#f0f921"
             ]
            ],
            "type": "histogram2d"
           }
          ],
          "histogram2dcontour": [
           {
            "colorbar": {
             "outlinewidth": 0,
             "ticks": ""
            },
            "colorscale": [
             [
              0,
              "#0d0887"
             ],
             [
              0.1111111111111111,
              "#46039f"
             ],
             [
              0.2222222222222222,
              "#7201a8"
             ],
             [
              0.3333333333333333,
              "#9c179e"
             ],
             [
              0.4444444444444444,
              "#bd3786"
             ],
             [
              0.5555555555555556,
              "#d8576b"
             ],
             [
              0.6666666666666666,
              "#ed7953"
             ],
             [
              0.7777777777777778,
              "#fb9f3a"
             ],
             [
              0.8888888888888888,
              "#fdca26"
             ],
             [
              1,
              "#f0f921"
             ]
            ],
            "type": "histogram2dcontour"
           }
          ],
          "mesh3d": [
           {
            "colorbar": {
             "outlinewidth": 0,
             "ticks": ""
            },
            "type": "mesh3d"
           }
          ],
          "parcoords": [
           {
            "line": {
             "colorbar": {
              "outlinewidth": 0,
              "ticks": ""
             }
            },
            "type": "parcoords"
           }
          ],
          "pie": [
           {
            "automargin": true,
            "type": "pie"
           }
          ],
          "scatter": [
           {
            "fillpattern": {
             "fillmode": "overlay",
             "size": 10,
             "solidity": 0.2
            },
            "type": "scatter"
           }
          ],
          "scatter3d": [
           {
            "line": {
             "colorbar": {
              "outlinewidth": 0,
              "ticks": ""
             }
            },
            "marker": {
             "colorbar": {
              "outlinewidth": 0,
              "ticks": ""
             }
            },
            "type": "scatter3d"
           }
          ],
          "scattercarpet": [
           {
            "marker": {
             "colorbar": {
              "outlinewidth": 0,
              "ticks": ""
             }
            },
            "type": "scattercarpet"
           }
          ],
          "scattergeo": [
           {
            "marker": {
             "colorbar": {
              "outlinewidth": 0,
              "ticks": ""
             }
            },
            "type": "scattergeo"
           }
          ],
          "scattergl": [
           {
            "marker": {
             "colorbar": {
              "outlinewidth": 0,
              "ticks": ""
             }
            },
            "type": "scattergl"
           }
          ],
          "scattermapbox": [
           {
            "marker": {
             "colorbar": {
              "outlinewidth": 0,
              "ticks": ""
             }
            },
            "type": "scattermapbox"
           }
          ],
          "scatterpolar": [
           {
            "marker": {
             "colorbar": {
              "outlinewidth": 0,
              "ticks": ""
             }
            },
            "type": "scatterpolar"
           }
          ],
          "scatterpolargl": [
           {
            "marker": {
             "colorbar": {
              "outlinewidth": 0,
              "ticks": ""
             }
            },
            "type": "scatterpolargl"
           }
          ],
          "scatterternary": [
           {
            "marker": {
             "colorbar": {
              "outlinewidth": 0,
              "ticks": ""
             }
            },
            "type": "scatterternary"
           }
          ],
          "surface": [
           {
            "colorbar": {
             "outlinewidth": 0,
             "ticks": ""
            },
            "colorscale": [
             [
              0,
              "#0d0887"
             ],
             [
              0.1111111111111111,
              "#46039f"
             ],
             [
              0.2222222222222222,
              "#7201a8"
             ],
             [
              0.3333333333333333,
              "#9c179e"
             ],
             [
              0.4444444444444444,
              "#bd3786"
             ],
             [
              0.5555555555555556,
              "#d8576b"
             ],
             [
              0.6666666666666666,
              "#ed7953"
             ],
             [
              0.7777777777777778,
              "#fb9f3a"
             ],
             [
              0.8888888888888888,
              "#fdca26"
             ],
             [
              1,
              "#f0f921"
             ]
            ],
            "type": "surface"
           }
          ],
          "table": [
           {
            "cells": {
             "fill": {
              "color": "#EBF0F8"
             },
             "line": {
              "color": "white"
             }
            },
            "header": {
             "fill": {
              "color": "#C8D4E3"
             },
             "line": {
              "color": "white"
             }
            },
            "type": "table"
           }
          ]
         },
         "layout": {
          "annotationdefaults": {
           "arrowcolor": "#2a3f5f",
           "arrowhead": 0,
           "arrowwidth": 1
          },
          "autotypenumbers": "strict",
          "coloraxis": {
           "colorbar": {
            "outlinewidth": 0,
            "ticks": ""
           }
          },
          "colorscale": {
           "diverging": [
            [
             0,
             "#8e0152"
            ],
            [
             0.1,
             "#c51b7d"
            ],
            [
             0.2,
             "#de77ae"
            ],
            [
             0.3,
             "#f1b6da"
            ],
            [
             0.4,
             "#fde0ef"
            ],
            [
             0.5,
             "#f7f7f7"
            ],
            [
             0.6,
             "#e6f5d0"
            ],
            [
             0.7,
             "#b8e186"
            ],
            [
             0.8,
             "#7fbc41"
            ],
            [
             0.9,
             "#4d9221"
            ],
            [
             1,
             "#276419"
            ]
           ],
           "sequential": [
            [
             0,
             "#0d0887"
            ],
            [
             0.1111111111111111,
             "#46039f"
            ],
            [
             0.2222222222222222,
             "#7201a8"
            ],
            [
             0.3333333333333333,
             "#9c179e"
            ],
            [
             0.4444444444444444,
             "#bd3786"
            ],
            [
             0.5555555555555556,
             "#d8576b"
            ],
            [
             0.6666666666666666,
             "#ed7953"
            ],
            [
             0.7777777777777778,
             "#fb9f3a"
            ],
            [
             0.8888888888888888,
             "#fdca26"
            ],
            [
             1,
             "#f0f921"
            ]
           ],
           "sequentialminus": [
            [
             0,
             "#0d0887"
            ],
            [
             0.1111111111111111,
             "#46039f"
            ],
            [
             0.2222222222222222,
             "#7201a8"
            ],
            [
             0.3333333333333333,
             "#9c179e"
            ],
            [
             0.4444444444444444,
             "#bd3786"
            ],
            [
             0.5555555555555556,
             "#d8576b"
            ],
            [
             0.6666666666666666,
             "#ed7953"
            ],
            [
             0.7777777777777778,
             "#fb9f3a"
            ],
            [
             0.8888888888888888,
             "#fdca26"
            ],
            [
             1,
             "#f0f921"
            ]
           ]
          },
          "colorway": [
           "#636efa",
           "#EF553B",
           "#00cc96",
           "#ab63fa",
           "#FFA15A",
           "#19d3f3",
           "#FF6692",
           "#B6E880",
           "#FF97FF",
           "#FECB52"
          ],
          "font": {
           "color": "#2a3f5f"
          },
          "geo": {
           "bgcolor": "white",
           "lakecolor": "white",
           "landcolor": "#E5ECF6",
           "showlakes": true,
           "showland": true,
           "subunitcolor": "white"
          },
          "hoverlabel": {
           "align": "left"
          },
          "hovermode": "closest",
          "mapbox": {
           "style": "light"
          },
          "paper_bgcolor": "white",
          "plot_bgcolor": "#E5ECF6",
          "polar": {
           "angularaxis": {
            "gridcolor": "white",
            "linecolor": "white",
            "ticks": ""
           },
           "bgcolor": "#E5ECF6",
           "radialaxis": {
            "gridcolor": "white",
            "linecolor": "white",
            "ticks": ""
           }
          },
          "scene": {
           "xaxis": {
            "backgroundcolor": "#E5ECF6",
            "gridcolor": "white",
            "gridwidth": 2,
            "linecolor": "white",
            "showbackground": true,
            "ticks": "",
            "zerolinecolor": "white"
           },
           "yaxis": {
            "backgroundcolor": "#E5ECF6",
            "gridcolor": "white",
            "gridwidth": 2,
            "linecolor": "white",
            "showbackground": true,
            "ticks": "",
            "zerolinecolor": "white"
           },
           "zaxis": {
            "backgroundcolor": "#E5ECF6",
            "gridcolor": "white",
            "gridwidth": 2,
            "linecolor": "white",
            "showbackground": true,
            "ticks": "",
            "zerolinecolor": "white"
           }
          },
          "shapedefaults": {
           "line": {
            "color": "#2a3f5f"
           }
          },
          "ternary": {
           "aaxis": {
            "gridcolor": "white",
            "linecolor": "white",
            "ticks": ""
           },
           "baxis": {
            "gridcolor": "white",
            "linecolor": "white",
            "ticks": ""
           },
           "bgcolor": "#E5ECF6",
           "caxis": {
            "gridcolor": "white",
            "linecolor": "white",
            "ticks": ""
           }
          },
          "title": {
           "x": 0.05
          },
          "xaxis": {
           "automargin": true,
           "gridcolor": "white",
           "linecolor": "white",
           "ticks": "",
           "title": {
            "standoff": 15
           },
           "zerolinecolor": "white",
           "zerolinewidth": 2
          },
          "yaxis": {
           "automargin": true,
           "gridcolor": "white",
           "linecolor": "white",
           "ticks": "",
           "title": {
            "standoff": 15
           },
           "zerolinecolor": "white",
           "zerolinewidth": 2
          }
         }
        },
        "title": {
         "text": "Word Dynamics"
        },
        "width": 600,
        "xaxis": {
         "anchor": "y",
         "autorange": true,
         "domain": [
          0,
          1
         ],
         "dtick": 1,
         "gridcolor": "lightgray",
         "griddash": "dot",
         "linecolor": "gray",
         "linewidth": 2,
         "range": [
          2006.8622732321362,
          2023.1377267678638
         ],
         "tickangle": -90,
         "title": {
          "text": "year"
         },
         "type": "linear"
        },
        "yaxis": {
         "anchor": "x",
         "autorange": true,
         "domain": [
          0,
          1
         ],
         "gridcolor": "lightgray",
         "griddash": "dot",
         "linecolor": "gray",
         "linewidth": 2,
         "range": [
          -2.5948670944087993,
          40.5948670944088
         ],
         "title": {
          "text": "cum_OCC"
         },
         "type": "linear"
        }
       }
      },
      "image/png": "[encoded data removed]",
      "text/html": [
       "<div>                            <div id=\"03cd4aaf-2e79-4a14-b118-65457409f6de\" class=\"plotly-graph-div\" style=\"height:800px; width:600px;\"></div>            <script type=\"text/javascript\">                require([\"plotly\"], function(Plotly) {                    window.PLOTLYENV=window.PLOTLYENV || {};                                    if (document.getElementById(\"03cd4aaf-2e79-4a14-b118-65457409f6de\")) {                    Plotly.newPlot(                        \"03cd4aaf-2e79-4a14-b118-65457409f6de\",                        [{\"customdata\":[[\"optimization\"],[\"optimization\"],[\"optimization\"],[\"optimization\"],[\"optimization\"],[\"optimization\"],[\"optimization\"],[\"optimization\"],[\"optimization\"],[\"optimization\"],[\"optimization\"],[\"optimization\"],[\"optimization\"],[\"optimization\"],[\"optimization\"]],\"hovertemplate\":\"author_keywords=%{customdata[0]}<br>year=%{x}<br>cum_OCC=%{y}<extra></extra>\",\"legendgroup\":\"optimization\",\"line\":{\"color\":\"#636efa\",\"dash\":\"solid\"},\"marker\":{\"symbol\":\"circle\",\"line\":{\"color\":\"darkslategray\",\"width\":2},\"size\":10},\"mode\":\"markers+lines\",\"name\":\"optimization\",\"orientation\":\"v\",\"showlegend\":true,\"x\":[2008,2009,2010,2011,2012,2013,2014,2015,2016,2017,2018,2019,2020,2021,2022],\"xaxis\":\"x\",\"y\":[0,1,3,6,7,9,16,18,18,22,25,31,32,37,38],\"yaxis\":\"y\",\"type\":\"scatter\"},{\"customdata\":[[\"modeling\"],[\"modeling\"],[\"modeling\"],[\"modeling\"],[\"modeling\"],[\"modeling\"],[\"modeling\"],[\"modeling\"],[\"modeling\"],[\"modeling\"],[\"modeling\"],[\"modeling\"],[\"modeling\"],[\"modeling\"],[\"modeling\"]],\"hovertemplate\":\"author_keywords=%{customdata[0]}<br>year=%{x}<br>cum_OCC=%{y}<extra></extra>\",\"legendgroup\":\"modeling\",\"line\":{\"color\":\"#EF553B\",\"dash\":\"solid\"},\"marker\":{\"symbol\":\"circle\",\"line\":{\"color\":\"darkslategray\",\"width\":2},\"size\":10},\"mode\":\"markers+lines\",\"name\":\"modeling\",\"orientation\":\"v\",\"showlegend\":true,\"x\":[2008,2009,2010,2011,2012,2013,2014,2015,2016,2017,2018,2019,2020,2021,2022],\"xaxis\":\"x\",\"y\":[2,4,6,8,10,10,16,19,20,24,27,28,29,32,32],\"yaxis\":\"y\",\"type\":\"scatter\"},{\"customdata\":[[\"simulation\"],[\"simulation\"],[\"simulation\"],[\"simulation\"],[\"simulation\"],[\"simulation\"],[\"simulation\"],[\"simulation\"],[\"simulation\"],[\"simulation\"],[\"simulation\"],[\"simulation\"],[\"simulation\"],[\"simulation\"],[\"simulation\"]],\"hovertemplate\":\"author_keywords=%{customdata[0]}<br>year=%{x}<br>cum_OCC=%{y}<extra></extra>\",\"legendgroup\":\"simulation\",\"line\":{\"color\":\"#00cc96\",\"dash\":\"solid\"},\"marker\":{\"symbol\":\"circle\",\"line\":{\"color\":\"darkslategray\",\"width\":2},\"size\":10},\"mode\":\"markers+lines\",\"name\":\"simulation\",\"orientation\":\"v\",\"showlegend\":true,\"x\":[2008,2009,2010,2011,2012,2013,2014,2015,2016,2017,2018,2019,2020,2021,2022],\"xaxis\":\"x\",\"y\":[2,3,3,4,6,8,11,12,14,19,21,23,25,28,28],\"yaxis\":\"y\",\"type\":\"scatter\"},{\"customdata\":[[\"sustainability\"],[\"sustainability\"],[\"sustainability\"],[\"sustainability\"],[\"sustainability\"],[\"sustainability\"],[\"sustainability\"],[\"sustainability\"],[\"sustainability\"],[\"sustainability\"],[\"sustainability\"],[\"sustainability\"],[\"sustainability\"],[\"sustainability\"],[\"sustainability\"]],\"hovertemplate\":\"author_keywords=%{customdata[0]}<br>year=%{x}<br>cum_OCC=%{y}<extra></extra>\",\"legendgroup\":\"sustainability\",\"line\":{\"color\":\"#ab63fa\",\"dash\":\"solid\"},\"marker\":{\"symbol\":\"circle\",\"line\":{\"color\":\"darkslategray\",\"width\":2},\"size\":10},\"mode\":\"markers+lines\",\"name\":\"sustainability\",\"orientation\":\"v\",\"showlegend\":true,\"x\":[2008,2009,2010,2011,2012,2013,2014,2015,2016,2017,2018,2019,2020,2021,2022],\"xaxis\":\"x\",\"y\":[0,0,3,4,5,6,6,8,9,12,14,14,15,19,19],\"yaxis\":\"y\",\"type\":\"scatter\"},{\"customdata\":[[\"finite element method\"],[\"finite element method\"],[\"finite element method\"],[\"finite element method\"],[\"finite element method\"],[\"finite element method\"],[\"finite element method\"],[\"finite element method\"],[\"finite element method\"],[\"finite element method\"],[\"finite element method\"],[\"finite element method\"],[\"finite element method\"],[\"finite element method\"],[\"finite element method\"]],\"hovertemplate\":\"author_keywords=%{customdata[0]}<br>year=%{x}<br>cum_OCC=%{y}<extra></extra>\",\"legendgroup\":\"finite element method\",\"line\":{\"color\":\"#FFA15A\",\"dash\":\"solid\"},\"marker\":{\"symbol\":\"circle\",\"line\":{\"color\":\"darkslategray\",\"width\":2},\"size\":10},\"mode\":\"markers+lines\",\"name\":\"finite element method\",\"orientation\":\"v\",\"showlegend\":true,\"x\":[2008,2009,2010,2011,2012,2013,2014,2015,2016,2017,2018,2019,2020,2021,2022],\"xaxis\":\"x\",\"y\":[0,3,3,4,5,8,8,11,13,15,16,16,16,17,19],\"yaxis\":\"y\",\"type\":\"scatter\"},{\"customdata\":[[\"supply chain\"],[\"supply chain\"],[\"supply chain\"],[\"supply chain\"],[\"supply chain\"],[\"supply chain\"],[\"supply chain\"],[\"supply chain\"],[\"supply chain\"],[\"supply chain\"],[\"supply chain\"],[\"supply chain\"],[\"supply chain\"],[\"supply chain\"],[\"supply chain\"]],\"hovertemplate\":\"author_keywords=%{customdata[0]}<br>year=%{x}<br>cum_OCC=%{y}<extra></extra>\",\"legendgroup\":\"supply chain\",\"line\":{\"color\":\"#19d3f3\",\"dash\":\"solid\"},\"marker\":{\"symbol\":\"circle\",\"line\":{\"color\":\"darkslategray\",\"width\":2},\"size\":10},\"mode\":\"markers+lines\",\"name\":\"supply chain\",\"orientation\":\"v\",\"showlegend\":true,\"x\":[2008,2009,2010,2011,2012,2013,2014,2015,2016,2017,2018,2019,2020,2021,2022],\"xaxis\":\"x\",\"y\":[0,1,1,1,2,5,12,13,14,16,16,16,17,18,18],\"yaxis\":\"y\",\"type\":\"scatter\"},{\"customdata\":[[\"mechanical properties\"],[\"mechanical properties\"],[\"mechanical properties\"],[\"mechanical properties\"],[\"mechanical properties\"],[\"mechanical properties\"],[\"mechanical properties\"],[\"mechanical properties\"],[\"mechanical properties\"],[\"mechanical properties\"],[\"mechanical properties\"],[\"mechanical properties\"],[\"mechanical properties\"],[\"mechanical properties\"],[\"mechanical properties\"]],\"hovertemplate\":\"author_keywords=%{customdata[0]}<br>year=%{x}<br>cum_OCC=%{y}<extra></extra>\",\"legendgroup\":\"mechanical properties\",\"line\":{\"color\":\"#FF6692\",\"dash\":\"solid\"},\"marker\":{\"symbol\":\"circle\",\"line\":{\"color\":\"darkslategray\",\"width\":2},\"size\":10},\"mode\":\"markers+lines\",\"name\":\"mechanical properties\",\"orientation\":\"v\",\"showlegend\":true,\"x\":[2008,2009,2010,2011,2012,2013,2014,2015,2016,2017,2018,2019,2020,2021,2022],\"xaxis\":\"x\",\"y\":[1,1,3,3,5,7,7,8,9,12,13,16,17,18,18],\"yaxis\":\"y\",\"type\":\"scatter\"},{\"customdata\":[[\"corrosion\"],[\"corrosion\"],[\"corrosion\"],[\"corrosion\"],[\"corrosion\"],[\"corrosion\"],[\"corrosion\"],[\"corrosion\"],[\"corrosion\"],[\"corrosion\"],[\"corrosion\"],[\"corrosion\"],[\"corrosion\"],[\"corrosion\"],[\"corrosion\"]],\"hovertemplate\":\"author_keywords=%{customdata[0]}<br>year=%{x}<br>cum_OCC=%{y}<extra></extra>\",\"legendgroup\":\"corrosion\",\"line\":{\"color\":\"#B6E880\",\"dash\":\"solid\"},\"marker\":{\"symbol\":\"circle\",\"line\":{\"color\":\"darkslategray\",\"width\":2},\"size\":10},\"mode\":\"markers+lines\",\"name\":\"corrosion\",\"orientation\":\"v\",\"showlegend\":true,\"x\":[2008,2009,2010,2011,2012,2013,2014,2015,2016,2017,2018,2019,2020,2021,2022],\"xaxis\":\"x\",\"y\":[2,4,6,8,9,10,12,13,13,13,15,15,16,17,17],\"yaxis\":\"y\",\"type\":\"scatter\"},{\"customdata\":[[\"mathematical models\"],[\"mathematical models\"],[\"mathematical models\"],[\"mathematical models\"],[\"mathematical models\"],[\"mathematical models\"],[\"mathematical models\"],[\"mathematical models\"],[\"mathematical models\"],[\"mathematical models\"],[\"mathematical models\"],[\"mathematical models\"],[\"mathematical models\"],[\"mathematical models\"],[\"mathematical models\"]],\"hovertemplate\":\"author_keywords=%{customdata[0]}<br>year=%{x}<br>cum_OCC=%{y}<extra></extra>\",\"legendgroup\":\"mathematical models\",\"line\":{\"color\":\"#FF97FF\",\"dash\":\"solid\"},\"marker\":{\"symbol\":\"circle\",\"line\":{\"color\":\"darkslategray\",\"width\":2},\"size\":10},\"mode\":\"markers+lines\",\"name\":\"mathematical models\",\"orientation\":\"v\",\"showlegend\":true,\"x\":[2008,2009,2010,2011,2012,2013,2014,2015,2016,2017,2018,2019,2020,2021,2022],\"xaxis\":\"x\",\"y\":[1,3,3,6,7,8,11,12,12,13,14,16,16,17,17],\"yaxis\":\"y\",\"type\":\"scatter\"},{\"customdata\":[[\"artificial neural network\"],[\"artificial neural network\"],[\"artificial neural network\"],[\"artificial neural network\"],[\"artificial neural network\"],[\"artificial neural network\"],[\"artificial neural network\"],[\"artificial neural network\"],[\"artificial neural network\"],[\"artificial neural network\"],[\"artificial neural network\"],[\"artificial neural network\"],[\"artificial neural network\"],[\"artificial neural network\"],[\"artificial neural network\"]],\"hovertemplate\":\"author_keywords=%{customdata[0]}<br>year=%{x}<br>cum_OCC=%{y}<extra></extra>\",\"legendgroup\":\"artificial neural network\",\"line\":{\"color\":\"#FECB52\",\"dash\":\"solid\"},\"marker\":{\"symbol\":\"circle\",\"line\":{\"color\":\"darkslategray\",\"width\":2},\"size\":10},\"mode\":\"markers+lines\",\"name\":\"artificial neural network\",\"orientation\":\"v\",\"showlegend\":true,\"x\":[2008,2009,2010,2011,2012,2013,2014,2015,2016,2017,2018,2019,2020,2021,2022],\"xaxis\":\"x\",\"y\":[0,0,0,1,1,3,3,4,7,12,12,16,16,16,16],\"yaxis\":\"y\",\"type\":\"scatter\"}],                        {\"template\":{\"data\":{\"histogram2dcontour\":[{\"type\":\"histogram2dcontour\",\"colorbar\":{\"outlinewidth\":0,\"ticks\":\"\"},\"colorscale\":[[0.0,\"#0d0887\"],[0.1111111111111111,\"#46039f\"],[0.2222222222222222,\"#7201a8\"],[0.3333333333333333,\"#9c179e\"],[0.4444444444444444,\"#bd3786\"],[0.5555555555555556,\"#d8576b\"],[0.6666666666666666,\"#ed7953\"],[0.7777777777777778,\"#fb9f3a\"],[0.8888888888888888,\"#fdca26\"],[1.0,\"#f0f921\"]]}],\"choropleth\":[{\"type\":\"choropleth\",\"colorbar\":{\"outlinewidth\":0,\"ticks\":\"\"}}],\"histogram2d\":[{\"type\":\"histogram2d\",\"colorbar\":{\"outlinewidth\":0,\"ticks\":\"\"},\"colorscale\":[[0.0,\"#0d0887\"],[0.1111111111111111,\"#46039f\"],[0.2222222222222222,\"#7201a8\"],[0.3333333333333333,\"#9c179e\"],[0.4444444444444444,\"#bd3786\"],[0.5555555555555556,\"#d8576b\"],[0.6666666666666666,\"#ed7953\"],[0.7777777777777778,\"#fb9f3a\"],[0.8888888888888888,\"#fdca26\"],[1.0,\"#f0f921\"]]}],\"heatmap\":[{\"type\":\"heatmap\",\"colorbar\":{\"outlinewidth\":0,\"ticks\":\"\"},\"colorscale\":[[0.0,\"#0d0887\"],[0.1111111111111111,\"#46039f\"],[0.2222222222222222,\"#7201a8\"],[0.3333333333333333,\"#9c179e\"],[0.4444444444444444,\"#bd3786\"],[0.5555555555555556,\"#d8576b\"],[0.6666666666666666,\"#ed7953\"],[0.7777777777777778,\"#fb9f3a\"],[0.8888888888888888,\"#fdca26\"],[1.0,\"#f0f921\"]]}],\"heatmapgl\":[{\"type\":\"heatmapgl\",\"colorbar\":{\"outlinewidth\":0,\"ticks\":\"\"},\"colorscale\":[[0.0,\"#0d0887\"],[0.1111111111111111,\"#46039f\"],[0.2222222222222222,\"#7201a8\"],[0.3333333333333333,\"#9c179e\"],[0.4444444444444444,\"#bd3786\"],[0.5555555555555556,\"#d8576b\"],[0.6666666666666666,\"#ed7953\"],[0.7777777777777778,\"#fb9f3a\"],[0.8888888888888888,\"#fdca26\"],[1.0,\"#f0f921\"]]}],\"contourcarpet\":[{\"type\":\"contourcarpet\",\"colorbar\":{\"outlinewidth\":0,\"ticks\":\"\"}}],\"contour\":[{\"type\":\"contour\",\"colorbar\":{\"outlinewidth\":0,\"ticks\":\"\"},\"colorscale\":[[0.0,\"#0d0887\"],[0.1111111111111111,\"#46039f\"],[0.2222222222222222,\"#7201a8\"],[0.3333333333333333,\"#9c179e\"],[0.4444444444444444,\"#bd3786\"],[0.5555555555555556,\"#d8576b\"],[0.6666666666666666,\"#ed7953\"],[0.7777777777777778,\"#fb9f3a\"],[0.8888888888888888,\"#fdca26\"],[1.0,\"#f0f921\"]]}],\"surface\":[{\"type\":\"surface\",\"colorbar\":{\"outlinewidth\":0,\"ticks\":\"\"},\"colorscale\":[[0.0,\"#0d0887\"],[0.1111111111111111,\"#46039f\"],[0.2222222222222222,\"#7201a8\"],[0.3333333333333333,\"#9c179e\"],[0.4444444444444444,\"#bd3786\"],[0.5555555555555556,\"#d8576b\"],[0.6666666666666666,\"#ed7953\"],[0.7777777777777778,\"#fb9f3a\"],[0.8888888888888888,\"#fdca26\"],[1.0,\"#f0f921\"]]}],\"mesh3d\":[{\"type\":\"mesh3d\",\"colorbar\":{\"outlinewidth\":0,\"ticks\":\"\"}}],\"scatter\":[{\"fillpattern\":{\"fillmode\":\"overlay\",\"size\":10,\"solidity\":0.2},\"type\":\"scatter\"}],\"parcoords\":[{\"type\":\"parcoords\",\"line\":{\"colorbar\":{\"outlinewidth\":0,\"ticks\":\"\"}}}],\"scatterpolargl\":[{\"type\":\"scatterpolargl\",\"marker\":{\"colorbar\":{\"outlinewidth\":0,\"ticks\":\"\"}}}],\"bar\":[{\"error_x\":{\"color\":\"#2a3f5f\"},\"error_y\":{\"color\":\"#2a3f5f\"},\"marker\":{\"line\":{\"color\":\"#E5ECF6\",\"width\":0.5},\"pattern\":{\"fillmode\":\"overlay\",\"size\":10,\"solidity\":0.2}},\"type\":\"bar\"}],\"scattergeo\":[{\"type\":\"scattergeo\",\"marker\":{\"colorbar\":{\"outlinewidth\":0,\"ticks\":\"\"}}}],\"scatterpolar\":[{\"type\":\"scatterpolar\",\"marker\":{\"colorbar\":{\"outlinewidth\":0,\"ticks\":\"\"}}}],\"histogram\":[{\"marker\":{\"pattern\":{\"fillmode\":\"overlay\",\"size\":10,\"solidity\":0.2}},\"type\":\"histogram\"}],\"scattergl\":[{\"type\":\"scattergl\",\"marker\":{\"colorbar\":{\"outlinewidth\":0,\"ticks\":\"\"}}}],\"scatter3d\":[{\"type\":\"scatter3d\",\"line\":{\"colorbar\":{\"outlinewidth\":0,\"ticks\":\"\"}},\"marker\":{\"colorbar\":{\"outlinewidth\":0,\"ticks\":\"\"}}}],\"scattermapbox\":[{\"type\":\"scattermapbox\",\"marker\":{\"colorbar\":{\"outlinewidth\":0,\"ticks\":\"\"}}}],\"scatterternary\":[{\"type\":\"scatterternary\",\"marker\":{\"colorbar\":{\"outlinewidth\":0,\"ticks\":\"\"}}}],\"scattercarpet\":[{\"type\":\"scattercarpet\",\"marker\":{\"colorbar\":{\"outlinewidth\":0,\"ticks\":\"\"}}}],\"carpet\":[{\"aaxis\":{\"endlinecolor\":\"#2a3f5f\",\"gridcolor\":\"white\",\"linecolor\":\"white\",\"minorgridcolor\":\"white\",\"startlinecolor\":\"#2a3f5f\"},\"baxis\":{\"endlinecolor\":\"#2a3f5f\",\"gridcolor\":\"white\",\"linecolor\":\"white\",\"minorgridcolor\":\"white\",\"startlinecolor\":\"#2a3f5f\"},\"type\":\"carpet\"}],\"table\":[{\"cells\":{\"fill\":{\"color\":\"#EBF0F8\"},\"line\":{\"color\":\"white\"}},\"header\":{\"fill\":{\"color\":\"#C8D4E3\"},\"line\":{\"color\":\"white\"}},\"type\":\"table\"}],\"barpolar\":[{\"marker\":{\"line\":{\"color\":\"#E5ECF6\",\"width\":0.5},\"pattern\":{\"fillmode\":\"overlay\",\"size\":10,\"solidity\":0.2}},\"type\":\"barpolar\"}],\"pie\":[{\"automargin\":true,\"type\":\"pie\"}]},\"layout\":{\"autotypenumbers\":\"strict\",\"colorway\":[\"#636efa\",\"#EF553B\",\"#00cc96\",\"#ab63fa\",\"#FFA15A\",\"#19d3f3\",\"#FF6692\",\"#B6E880\",\"#FF97FF\",\"#FECB52\"],\"font\":{\"color\":\"#2a3f5f\"},\"hovermode\":\"closest\",\"hoverlabel\":{\"align\":\"left\"},\"paper_bgcolor\":\"white\",\"plot_bgcolor\":\"#E5ECF6\",\"polar\":{\"bgcolor\":\"#E5ECF6\",\"angularaxis\":{\"gridcolor\":\"white\",\"linecolor\":\"white\",\"ticks\":\"\"},\"radialaxis\":{\"gridcolor\":\"white\",\"linecolor\":\"white\",\"ticks\":\"\"}},\"ternary\":{\"bgcolor\":\"#E5ECF6\",\"aaxis\":{\"gridcolor\":\"white\",\"linecolor\":\"white\",\"ticks\":\"\"},\"baxis\":{\"gridcolor\":\"white\",\"linecolor\":\"white\",\"ticks\":\"\"},\"caxis\":{\"gridcolor\":\"white\",\"linecolor\":\"white\",\"ticks\":\"\"}},\"coloraxis\":{\"colorbar\":{\"outlinewidth\":0,\"ticks\":\"\"}},\"colorscale\":{\"sequential\":[[0.0,\"#0d0887\"],[0.1111111111111111,\"#46039f\"],[0.2222222222222222,\"#7201a8\"],[0.3333333333333333,\"#9c179e\"],[0.4444444444444444,\"#bd3786\"],[0.5555555555555556,\"#d8576b\"],[0.6666666666666666,\"#ed7953\"],[0.7777777777777778,\"#fb9f3a\"],[0.8888888888888888,\"#fdca26\"],[1.0,\"#f0f921\"]],\"sequentialminus\":[[0.0,\"#0d0887\"],[0.1111111111111111,\"#46039f\"],[0.2222222222222222,\"#7201a8\"],[0.3333333333333333,\"#9c179e\"],[0.4444444444444444,\"#bd3786\"],[0.5555555555555556,\"#d8576b\"],[0.6666666666666666,\"#ed7953\"],[0.7777777777777778,\"#fb9f3a\"],[0.8888888888888888,\"#fdca26\"],[1.0,\"#f0f921\"]],\"diverging\":[[0,\"#8e0152\"],[0.1,\"#c51b7d\"],[0.2,\"#de77ae\"],[0.3,\"#f1b6da\"],[0.4,\"#fde0ef\"],[0.5,\"#f7f7f7\"],[0.6,\"#e6f5d0\"],[0.7,\"#b8e186\"],[0.8,\"#7fbc41\"],[0.9,\"#4d9221\"],[1,\"#276419\"]]},\"xaxis\":{\"gridcolor\":\"white\",\"linecolor\":\"white\",\"ticks\":\"\",\"title\":{\"standoff\":15},\"zerolinecolor\":\"white\",\"automargin\":true,\"zerolinewidth\":2},\"yaxis\":{\"gridcolor\":\"white\",\"linecolor\":\"white\",\"ticks\":\"\",\"title\":{\"standoff\":15},\"zerolinecolor\":\"white\",\"automargin\":true,\"zerolinewidth\":2},\"scene\":{\"xaxis\":{\"backgroundcolor\":\"#E5ECF6\",\"gridcolor\":\"white\",\"linecolor\":\"white\",\"showbackground\":true,\"ticks\":\"\",\"zerolinecolor\":\"white\",\"gridwidth\":2},\"yaxis\":{\"backgroundcolor\":\"#E5ECF6\",\"gridcolor\":\"white\",\"linecolor\":\"white\",\"showbackground\":true,\"ticks\":\"\",\"zerolinecolor\":\"white\",\"gridwidth\":2},\"zaxis\":{\"backgroundcolor\":\"#E5ECF6\",\"gridcolor\":\"white\",\"linecolor\":\"white\",\"showbackground\":true,\"ticks\":\"\",\"zerolinecolor\":\"white\",\"gridwidth\":2}},\"shapedefaults\":{\"line\":{\"color\":\"#2a3f5f\"}},\"annotationdefaults\":{\"arrowcolor\":\"#2a3f5f\",\"arrowhead\":0,\"arrowwidth\":1},\"geo\":{\"bgcolor\":\"white\",\"landcolor\":\"#E5ECF6\",\"subunitcolor\":\"white\",\"showland\":true,\"showlakes\":true,\"lakecolor\":\"white\"},\"title\":{\"x\":0.05},\"mapbox\":{\"style\":\"light\"}}},\"xaxis\":{\"anchor\":\"y\",\"domain\":[0.0,1.0],\"title\":{\"text\":\"year\"},\"linecolor\":\"gray\",\"linewidth\":2,\"gridcolor\":\"lightgray\",\"griddash\":\"dot\",\"tickangle\":-90,\"dtick\":1},\"yaxis\":{\"anchor\":\"x\",\"domain\":[0.0,1.0],\"title\":{\"text\":\"cum_OCC\"},\"linecolor\":\"gray\",\"linewidth\":2,\"gridcolor\":\"lightgray\",\"griddash\":\"dot\"},\"legend\":{\"title\":{\"text\":\"author_keywords\"},\"tracegroupgap\":0},\"title\":{\"text\":\"Word Dynamics\"},\"paper_bgcolor\":\"white\",\"plot_bgcolor\":\"white\",\"width\":600,\"height\":800},                        {\"responsive\": true}                    ).then(function(){\n",
       "                            \n",
       "var gd = document.getElementById('03cd4aaf-2e79-4a14-b118-65457409f6de');\n",
       "var x = new MutationObserver(function (mutations, observer) {{\n",
       "        var display = window.getComputedStyle(gd).display;\n",
       "        if (!display || display === 'none') {{\n",
       "            console.log([gd, 'removed!']);\n",
       "            Plotly.purge(gd);\n",
       "            observer.disconnect();\n",
       "        }}\n",
       "}});\n",
       "\n",
       "// Listen for the removal of the full notebook cells\n",
       "var notebookContainer = gd.closest('#notebook-container');\n",
       "if (notebookContainer) {{\n",
       "    x.observe(notebookContainer, {childList: true});\n",
       "}}\n",
       "\n",
       "// Listen for the clearing of the current output cell\n",
       "var outputEl = gd.closest('.output');\n",
       "if (outputEl) {{\n",
       "    x.observe(outputEl, {childList: true});\n",
       "}}\n",
       "\n",
       "                        })                };                });            </script>        </div>"
      ]
     },
     "metadata": {},
     "output_type": "display_data"
    }
   ],
   "source": [
    "from techminer2 import bibliometrix\n",
    "\n",
    "bibliometrix.words.word_dynamics(\n",
    "    criterion=\"author_keywords\",\n",
    "    topics_length=10,\n",
    "    directory=\"../../../data/\",\n",
    ").update_layout(\n",
    "    width=600,\n",
    "    height=800,\n",
    ")"
   ]
  }
 ],
 "metadata": {
  "kernelspec": {
   "display_name": "Python 3 (ipykernel)",
   "language": "python",
   "name": "python3"
  },
  "language_info": {
   "codemirror_mode": {
    "name": "ipython",
    "version": 3
   },
   "file_extension": ".py",
   "mimetype": "text/x-python",
   "name": "python",
   "nbconvert_exporter": "python",
   "pygments_lexer": "ipython3",
   "version": "3.8.10"
  }
 },
 "nbformat": 4,
 "nbformat_minor": 5
}
